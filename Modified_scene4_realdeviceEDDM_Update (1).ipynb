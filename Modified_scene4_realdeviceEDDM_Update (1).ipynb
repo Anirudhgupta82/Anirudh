{
  "nbformat": 4,
  "nbformat_minor": 0,
  "metadata": {
    "colab": {
      "provenance": []
    },
    "kernelspec": {
      "name": "python3",
      "display_name": "Python 3"
    },
    "language_info": {
      "name": "python"
    }
  },
  "cells": [
    {
      "cell_type": "code",
      "execution_count": 1,
      "metadata": {
        "id": "n71IgGpcnBlY"
      },
      "outputs": [],
      "source": [
        "import pandas as pd\n",
        "import numpy as np\n",
        "import matplotlib.pyplot as plt\n",
        "import seaborn as sns\n",
        "from sklearn.model_selection import train_test_split\n",
        "from sklearn.metrics import classification_report, roc_curve, roc_auc_score\n",
        "from sklearn import metrics\n",
        "from sklearn.linear_model import LogisticRegression\n",
        "from sklearn.tree import DecisionTreeClassifier\n",
        "from sklearn.ensemble import RandomForestClassifier\n",
        "from sklearn.metrics import accuracy_score\n",
        "import scipy\n",
        "import joblib\n",
        "import os"
      ]
    },
    {
      "cell_type": "code",
      "source": [
        "dx=pd.read_csv('/content/real_legitimate_v1.csv')"
      ],
      "metadata": {
        "id": "UoljB62Dngwd"
      },
      "execution_count": 2,
      "outputs": []
    },
    {
      "cell_type": "code",
      "source": [
        "dy=pd.read_csv('/content/real_malware_v1.csv')"
      ],
      "metadata": {
        "id": "QRFYfULMnpJ2"
      },
      "execution_count": 3,
      "outputs": []
    },
    {
      "cell_type": "code",
      "source": [
        "df = pd.concat([dx, dy], ignore_index=True)\n",
        "df.to_csv('combined.csv', index=False)"
      ],
      "metadata": {
        "id": "NpjpynMPnsVf"
      },
      "execution_count": 4,
      "outputs": []
    },
    {
      "cell_type": "code",
      "source": [
        "df = df.sample(frac=1).reset_index(drop=True)\n",
        "df=df.to_csv('shuffled_dataset.csv', index=False)"
      ],
      "metadata": {
        "id": "n4SEl4nonu6x"
      },
      "execution_count": 5,
      "outputs": []
    },
    {
      "cell_type": "code",
      "source": [
        "dr=pd.read_csv('/content/shuffled_dataset.csv')"
      ],
      "metadata": {
        "id": "Sl3Gf8zqnxOh"
      },
      "execution_count": 6,
      "outputs": []
    },
    {
      "cell_type": "code",
      "source": [
        "data={\n",
        "    'Package':dr['Package'][:5000],\n",
        "    'Malware':dr['Malware'][:5000],\n",
        "    'prctl':dr['prctl'][:5000],\n",
        "    'sha256':dr['sha256'][:5000],\n",
        "    'EarliestModDate':dr['EarliestModDate'][:5000],\n",
        "    'Malware':dr['Malware'][:5000],\n",
        "    'write': dr['write'][:5000],\n",
        "    'read':dr['read'][:5000],\n",
        "    'write':dr['write'][:5000],\n",
        "    'munmap':dr['munmap'][:5000],\n",
        "    'mprotect':dr['mprotect'][:5000],\n",
        "    'madvise':dr['madvise'][:5000],\n",
        "    'ioctl':dr['ioctl'][:5000],\n",
        "    'writev':dr['writev'][:5000],\n",
        "    'dup':dr['dup'][:5000],\n",
        "    'lseek':dr['lseek'][:5000],\n",
        "    'mmap2':dr['mmap2'][:5000],\n",
        "    'fstat64':dr['fstat64'][:5000],\n",
        "    'rt_sigprocmask':dr['rt_sigprocmask'][:5000],\n",
        "   'recvfrom':dr['recvfrom'][:5000],\n",
        "    'getsockopt':dr['getsockopt'][:5000],\n",
        "    'lseek':dr['lseek'][:5000],\n",
        "    'clock_gettime':dr['clock_gettime'][:5000],\n",
        "    'futex':dr['futex'][:5000],\n",
        "    'pread':dr['pread'][:5000],\n",
        "     'FilesInsideAPK':dr['FilesInsideAPK'][:5000],\n",
        "   'TimesSubmitted':dr['TimesSubmitted'][:5000],\n",
        "    'getsockopt':dr['getsockopt'][:5000],\n",
        "    'Activities':dr['Activities'][:5000],\n",
        "    'clock_gettime':dr['clock_gettime'][:5000],\n",
        "    'NrIntActivities':dr['NrIntActivities'][:5000],\n",
        "    'NrIntActivitiesActions':dr['NrIntActivitiesActions'][:5000],\n",
        "    'TotalIntentFilters':dr['TotalIntentFilters'][:5000],\n",
        "    'Scanners':dr['Scanners'][:5000],\n",
        "    'MalFamily':dr['MalFamily'][:5000]\n",
        "    }\n",
        "dg=pd.DataFrame(data)\n",
        "dg"
      ],
      "metadata": {
        "colab": {
          "base_uri": "https://localhost:8080/",
          "height": 487
        },
        "id": "Eq6f6PFVn3tP",
        "outputId": "cefbcbcc-1865-431b-8167-fa0c895715d0"
      },
      "execution_count": 7,
      "outputs": [
        {
          "output_type": "execute_result",
          "data": {
            "text/plain": [
              "                              Package  Malware  prctl  \\\n",
              "0     AndroidZjsStock0012.namespace\\n        1   48.0   \n",
              "1             net.winfosys.app.calc\\n        0   28.0   \n",
              "2        com.coocjoyltd.dinoshooter\\n        1    3.0   \n",
              "3             de.devmil.paperlaunch\\n        0   12.0   \n",
              "4         com.genwi.ictforeducators\\n        0    3.0   \n",
              "...                               ...      ...    ...   \n",
              "4995            com.tearn.karchgear\\n        0  142.0   \n",
              "4996              com.qinspect.view\\n        0   25.0   \n",
              "4997       com.pacosal.voicemessage\\n        0   31.0   \n",
              "4998          com.iruum.iruum_01_32\\n        1  240.0   \n",
              "4999              com.tm.Ring.P2010\\n        0    0.0   \n",
              "\n",
              "                                                 sha256 EarliestModDate  \\\n",
              "0     23249801b481775da0f32e12fc2d826e496171360b9285...       11/5/2013   \n",
              "1     81bbc4b9f28ca8689ac84fe62b8b1ecc36dac9d67b569e...        1/5/2011   \n",
              "2     ec37424c603ed834268e97379ccfac9cafa818c2dbf1c5...       6/11/2014   \n",
              "3     67bfa33a062610bdd8516a6861ec1e30a0d15050cfbf9d...        1/1/1980   \n",
              "4     40992bff89e5cf08ad58bbb79446ce48834c34099243b0...        5/2/2011   \n",
              "...                                                 ...             ...   \n",
              "4995  5ae6e2a4cac174532b6e3d9db50a835d9bf5218b7c0b8a...       7/17/2011   \n",
              "4996  894317e266ec437da993c6794e0cf1ccce17141616d937...        8/5/2010   \n",
              "4997  9312139f419f82ef6e23573a8f5635494a0808c03f5e06...      12/29/2010   \n",
              "4998  a4626b5b2c9b7a5c08b4c4545b7d84787eee846e6a1cb8...       7/22/2014   \n",
              "4999  b6dc417356202ef51255a277f1ef7dc10c6eedcdd6bc02...       7/24/2011   \n",
              "\n",
              "       write   read  munmap  mprotect  madvise  ...  futex   pread  \\\n",
              "0       13.0    7.0    63.0     187.0     46.0  ...  110.0  4551.0   \n",
              "1        3.0    2.0    66.0     173.0     26.0  ...   67.0    51.0   \n",
              "2        0.0    0.0     0.0       0.0      0.0  ...    4.0     0.0   \n",
              "3       42.0    7.0    20.0      10.0      8.0  ...   70.0    53.0   \n",
              "4        3.0    2.0     0.0       2.0      2.0  ...    8.0     0.0   \n",
              "...      ...    ...     ...       ...      ...  ...    ...     ...   \n",
              "4995   128.0  255.0    12.0     362.0     43.0  ...  352.0    16.0   \n",
              "4996    19.0    4.0    71.0     176.0     23.0  ...   12.0    67.0   \n",
              "4997    27.0   22.0   104.0     180.0     28.0  ...   46.0   120.0   \n",
              "4998   437.0  472.0   112.0     947.0    116.0  ...  505.0    82.0   \n",
              "4999  1441.0    0.0     6.0       0.0      0.0  ...   14.0    10.0   \n",
              "\n",
              "      FilesInsideAPK  TimesSubmitted  Activities  NrIntActivities  \\\n",
              "0               24.0            21.0          12                1   \n",
              "1               32.0             6.0           6                1   \n",
              "2              130.0             6.0           4                1   \n",
              "3              563.0            19.0           5                1   \n",
              "4              104.0             4.0           8                2   \n",
              "...              ...             ...         ...              ...   \n",
              "4995            12.0             6.0           1                1   \n",
              "4996            28.0             3.0           7                1   \n",
              "4997            53.0             4.0           5                1   \n",
              "4998            19.0             5.0           3                1   \n",
              "4999            94.0             4.0          10                4   \n",
              "\n",
              "      NrIntActivitiesActions  TotalIntentFilters  Scanners  MalFamily  \n",
              "0                          1                   2      66.0      Youmi  \n",
              "1                          1                   2      65.0        NaN  \n",
              "2                          1                   3      64.0     Dowgin  \n",
              "3                          1                   2      66.0      Boogr  \n",
              "4                          2                   2      65.0        NaN  \n",
              "...                      ...                 ...       ...        ...  \n",
              "4995                       1                   1      65.0        NaN  \n",
              "4996                       1                   1      66.0        NaN  \n",
              "4997                       3                   1      64.0        NaN  \n",
              "4998                       1                   2      66.0   FakeBank  \n",
              "4999                       4                   4      65.0        NaN  \n",
              "\n",
              "[5000 rows x 30 columns]"
            ],
            "text/html": [
              "\n",
              "  <div id=\"df-885be95f-2642-4c69-899b-067de31fbee1\">\n",
              "    <div class=\"colab-df-container\">\n",
              "      <div>\n",
              "<style scoped>\n",
              "    .dataframe tbody tr th:only-of-type {\n",
              "        vertical-align: middle;\n",
              "    }\n",
              "\n",
              "    .dataframe tbody tr th {\n",
              "        vertical-align: top;\n",
              "    }\n",
              "\n",
              "    .dataframe thead th {\n",
              "        text-align: right;\n",
              "    }\n",
              "</style>\n",
              "<table border=\"1\" class=\"dataframe\">\n",
              "  <thead>\n",
              "    <tr style=\"text-align: right;\">\n",
              "      <th></th>\n",
              "      <th>Package</th>\n",
              "      <th>Malware</th>\n",
              "      <th>prctl</th>\n",
              "      <th>sha256</th>\n",
              "      <th>EarliestModDate</th>\n",
              "      <th>write</th>\n",
              "      <th>read</th>\n",
              "      <th>munmap</th>\n",
              "      <th>mprotect</th>\n",
              "      <th>madvise</th>\n",
              "      <th>...</th>\n",
              "      <th>futex</th>\n",
              "      <th>pread</th>\n",
              "      <th>FilesInsideAPK</th>\n",
              "      <th>TimesSubmitted</th>\n",
              "      <th>Activities</th>\n",
              "      <th>NrIntActivities</th>\n",
              "      <th>NrIntActivitiesActions</th>\n",
              "      <th>TotalIntentFilters</th>\n",
              "      <th>Scanners</th>\n",
              "      <th>MalFamily</th>\n",
              "    </tr>\n",
              "  </thead>\n",
              "  <tbody>\n",
              "    <tr>\n",
              "      <th>0</th>\n",
              "      <td>AndroidZjsStock0012.namespace\\n</td>\n",
              "      <td>1</td>\n",
              "      <td>48.0</td>\n",
              "      <td>23249801b481775da0f32e12fc2d826e496171360b9285...</td>\n",
              "      <td>11/5/2013</td>\n",
              "      <td>13.0</td>\n",
              "      <td>7.0</td>\n",
              "      <td>63.0</td>\n",
              "      <td>187.0</td>\n",
              "      <td>46.0</td>\n",
              "      <td>...</td>\n",
              "      <td>110.0</td>\n",
              "      <td>4551.0</td>\n",
              "      <td>24.0</td>\n",
              "      <td>21.0</td>\n",
              "      <td>12</td>\n",
              "      <td>1</td>\n",
              "      <td>1</td>\n",
              "      <td>2</td>\n",
              "      <td>66.0</td>\n",
              "      <td>Youmi</td>\n",
              "    </tr>\n",
              "    <tr>\n",
              "      <th>1</th>\n",
              "      <td>net.winfosys.app.calc\\n</td>\n",
              "      <td>0</td>\n",
              "      <td>28.0</td>\n",
              "      <td>81bbc4b9f28ca8689ac84fe62b8b1ecc36dac9d67b569e...</td>\n",
              "      <td>1/5/2011</td>\n",
              "      <td>3.0</td>\n",
              "      <td>2.0</td>\n",
              "      <td>66.0</td>\n",
              "      <td>173.0</td>\n",
              "      <td>26.0</td>\n",
              "      <td>...</td>\n",
              "      <td>67.0</td>\n",
              "      <td>51.0</td>\n",
              "      <td>32.0</td>\n",
              "      <td>6.0</td>\n",
              "      <td>6</td>\n",
              "      <td>1</td>\n",
              "      <td>1</td>\n",
              "      <td>2</td>\n",
              "      <td>65.0</td>\n",
              "      <td>NaN</td>\n",
              "    </tr>\n",
              "    <tr>\n",
              "      <th>2</th>\n",
              "      <td>com.coocjoyltd.dinoshooter\\n</td>\n",
              "      <td>1</td>\n",
              "      <td>3.0</td>\n",
              "      <td>ec37424c603ed834268e97379ccfac9cafa818c2dbf1c5...</td>\n",
              "      <td>6/11/2014</td>\n",
              "      <td>0.0</td>\n",
              "      <td>0.0</td>\n",
              "      <td>0.0</td>\n",
              "      <td>0.0</td>\n",
              "      <td>0.0</td>\n",
              "      <td>...</td>\n",
              "      <td>4.0</td>\n",
              "      <td>0.0</td>\n",
              "      <td>130.0</td>\n",
              "      <td>6.0</td>\n",
              "      <td>4</td>\n",
              "      <td>1</td>\n",
              "      <td>1</td>\n",
              "      <td>3</td>\n",
              "      <td>64.0</td>\n",
              "      <td>Dowgin</td>\n",
              "    </tr>\n",
              "    <tr>\n",
              "      <th>3</th>\n",
              "      <td>de.devmil.paperlaunch\\n</td>\n",
              "      <td>0</td>\n",
              "      <td>12.0</td>\n",
              "      <td>67bfa33a062610bdd8516a6861ec1e30a0d15050cfbf9d...</td>\n",
              "      <td>1/1/1980</td>\n",
              "      <td>42.0</td>\n",
              "      <td>7.0</td>\n",
              "      <td>20.0</td>\n",
              "      <td>10.0</td>\n",
              "      <td>8.0</td>\n",
              "      <td>...</td>\n",
              "      <td>70.0</td>\n",
              "      <td>53.0</td>\n",
              "      <td>563.0</td>\n",
              "      <td>19.0</td>\n",
              "      <td>5</td>\n",
              "      <td>1</td>\n",
              "      <td>1</td>\n",
              "      <td>2</td>\n",
              "      <td>66.0</td>\n",
              "      <td>Boogr</td>\n",
              "    </tr>\n",
              "    <tr>\n",
              "      <th>4</th>\n",
              "      <td>com.genwi.ictforeducators\\n</td>\n",
              "      <td>0</td>\n",
              "      <td>3.0</td>\n",
              "      <td>40992bff89e5cf08ad58bbb79446ce48834c34099243b0...</td>\n",
              "      <td>5/2/2011</td>\n",
              "      <td>3.0</td>\n",
              "      <td>2.0</td>\n",
              "      <td>0.0</td>\n",
              "      <td>2.0</td>\n",
              "      <td>2.0</td>\n",
              "      <td>...</td>\n",
              "      <td>8.0</td>\n",
              "      <td>0.0</td>\n",
              "      <td>104.0</td>\n",
              "      <td>4.0</td>\n",
              "      <td>8</td>\n",
              "      <td>2</td>\n",
              "      <td>2</td>\n",
              "      <td>2</td>\n",
              "      <td>65.0</td>\n",
              "      <td>NaN</td>\n",
              "    </tr>\n",
              "    <tr>\n",
              "      <th>...</th>\n",
              "      <td>...</td>\n",
              "      <td>...</td>\n",
              "      <td>...</td>\n",
              "      <td>...</td>\n",
              "      <td>...</td>\n",
              "      <td>...</td>\n",
              "      <td>...</td>\n",
              "      <td>...</td>\n",
              "      <td>...</td>\n",
              "      <td>...</td>\n",
              "      <td>...</td>\n",
              "      <td>...</td>\n",
              "      <td>...</td>\n",
              "      <td>...</td>\n",
              "      <td>...</td>\n",
              "      <td>...</td>\n",
              "      <td>...</td>\n",
              "      <td>...</td>\n",
              "      <td>...</td>\n",
              "      <td>...</td>\n",
              "      <td>...</td>\n",
              "    </tr>\n",
              "    <tr>\n",
              "      <th>4995</th>\n",
              "      <td>com.tearn.karchgear\\n</td>\n",
              "      <td>0</td>\n",
              "      <td>142.0</td>\n",
              "      <td>5ae6e2a4cac174532b6e3d9db50a835d9bf5218b7c0b8a...</td>\n",
              "      <td>7/17/2011</td>\n",
              "      <td>128.0</td>\n",
              "      <td>255.0</td>\n",
              "      <td>12.0</td>\n",
              "      <td>362.0</td>\n",
              "      <td>43.0</td>\n",
              "      <td>...</td>\n",
              "      <td>352.0</td>\n",
              "      <td>16.0</td>\n",
              "      <td>12.0</td>\n",
              "      <td>6.0</td>\n",
              "      <td>1</td>\n",
              "      <td>1</td>\n",
              "      <td>1</td>\n",
              "      <td>1</td>\n",
              "      <td>65.0</td>\n",
              "      <td>NaN</td>\n",
              "    </tr>\n",
              "    <tr>\n",
              "      <th>4996</th>\n",
              "      <td>com.qinspect.view\\n</td>\n",
              "      <td>0</td>\n",
              "      <td>25.0</td>\n",
              "      <td>894317e266ec437da993c6794e0cf1ccce17141616d937...</td>\n",
              "      <td>8/5/2010</td>\n",
              "      <td>19.0</td>\n",
              "      <td>4.0</td>\n",
              "      <td>71.0</td>\n",
              "      <td>176.0</td>\n",
              "      <td>23.0</td>\n",
              "      <td>...</td>\n",
              "      <td>12.0</td>\n",
              "      <td>67.0</td>\n",
              "      <td>28.0</td>\n",
              "      <td>3.0</td>\n",
              "      <td>7</td>\n",
              "      <td>1</td>\n",
              "      <td>1</td>\n",
              "      <td>1</td>\n",
              "      <td>66.0</td>\n",
              "      <td>NaN</td>\n",
              "    </tr>\n",
              "    <tr>\n",
              "      <th>4997</th>\n",
              "      <td>com.pacosal.voicemessage\\n</td>\n",
              "      <td>0</td>\n",
              "      <td>31.0</td>\n",
              "      <td>9312139f419f82ef6e23573a8f5635494a0808c03f5e06...</td>\n",
              "      <td>12/29/2010</td>\n",
              "      <td>27.0</td>\n",
              "      <td>22.0</td>\n",
              "      <td>104.0</td>\n",
              "      <td>180.0</td>\n",
              "      <td>28.0</td>\n",
              "      <td>...</td>\n",
              "      <td>46.0</td>\n",
              "      <td>120.0</td>\n",
              "      <td>53.0</td>\n",
              "      <td>4.0</td>\n",
              "      <td>5</td>\n",
              "      <td>1</td>\n",
              "      <td>3</td>\n",
              "      <td>1</td>\n",
              "      <td>64.0</td>\n",
              "      <td>NaN</td>\n",
              "    </tr>\n",
              "    <tr>\n",
              "      <th>4998</th>\n",
              "      <td>com.iruum.iruum_01_32\\n</td>\n",
              "      <td>1</td>\n",
              "      <td>240.0</td>\n",
              "      <td>a4626b5b2c9b7a5c08b4c4545b7d84787eee846e6a1cb8...</td>\n",
              "      <td>7/22/2014</td>\n",
              "      <td>437.0</td>\n",
              "      <td>472.0</td>\n",
              "      <td>112.0</td>\n",
              "      <td>947.0</td>\n",
              "      <td>116.0</td>\n",
              "      <td>...</td>\n",
              "      <td>505.0</td>\n",
              "      <td>82.0</td>\n",
              "      <td>19.0</td>\n",
              "      <td>5.0</td>\n",
              "      <td>3</td>\n",
              "      <td>1</td>\n",
              "      <td>1</td>\n",
              "      <td>2</td>\n",
              "      <td>66.0</td>\n",
              "      <td>FakeBank</td>\n",
              "    </tr>\n",
              "    <tr>\n",
              "      <th>4999</th>\n",
              "      <td>com.tm.Ring.P2010\\n</td>\n",
              "      <td>0</td>\n",
              "      <td>0.0</td>\n",
              "      <td>b6dc417356202ef51255a277f1ef7dc10c6eedcdd6bc02...</td>\n",
              "      <td>7/24/2011</td>\n",
              "      <td>1441.0</td>\n",
              "      <td>0.0</td>\n",
              "      <td>6.0</td>\n",
              "      <td>0.0</td>\n",
              "      <td>0.0</td>\n",
              "      <td>...</td>\n",
              "      <td>14.0</td>\n",
              "      <td>10.0</td>\n",
              "      <td>94.0</td>\n",
              "      <td>4.0</td>\n",
              "      <td>10</td>\n",
              "      <td>4</td>\n",
              "      <td>4</td>\n",
              "      <td>4</td>\n",
              "      <td>65.0</td>\n",
              "      <td>NaN</td>\n",
              "    </tr>\n",
              "  </tbody>\n",
              "</table>\n",
              "<p>5000 rows × 30 columns</p>\n",
              "</div>\n",
              "      <button class=\"colab-df-convert\" onclick=\"convertToInteractive('df-885be95f-2642-4c69-899b-067de31fbee1')\"\n",
              "              title=\"Convert this dataframe to an interactive table.\"\n",
              "              style=\"display:none;\">\n",
              "        \n",
              "  <svg xmlns=\"http://www.w3.org/2000/svg\" height=\"24px\"viewBox=\"0 0 24 24\"\n",
              "       width=\"24px\">\n",
              "    <path d=\"M0 0h24v24H0V0z\" fill=\"none\"/>\n",
              "    <path d=\"M18.56 5.44l.94 2.06.94-2.06 2.06-.94-2.06-.94-.94-2.06-.94 2.06-2.06.94zm-11 1L8.5 8.5l.94-2.06 2.06-.94-2.06-.94L8.5 2.5l-.94 2.06-2.06.94zm10 10l.94 2.06.94-2.06 2.06-.94-2.06-.94-.94-2.06-.94 2.06-2.06.94z\"/><path d=\"M17.41 7.96l-1.37-1.37c-.4-.4-.92-.59-1.43-.59-.52 0-1.04.2-1.43.59L10.3 9.45l-7.72 7.72c-.78.78-.78 2.05 0 2.83L4 21.41c.39.39.9.59 1.41.59.51 0 1.02-.2 1.41-.59l7.78-7.78 2.81-2.81c.8-.78.8-2.07 0-2.86zM5.41 20L4 18.59l7.72-7.72 1.47 1.35L5.41 20z\"/>\n",
              "  </svg>\n",
              "      </button>\n",
              "      \n",
              "  <style>\n",
              "    .colab-df-container {\n",
              "      display:flex;\n",
              "      flex-wrap:wrap;\n",
              "      gap: 12px;\n",
              "    }\n",
              "\n",
              "    .colab-df-convert {\n",
              "      background-color: #E8F0FE;\n",
              "      border: none;\n",
              "      border-radius: 50%;\n",
              "      cursor: pointer;\n",
              "      display: none;\n",
              "      fill: #1967D2;\n",
              "      height: 32px;\n",
              "      padding: 0 0 0 0;\n",
              "      width: 32px;\n",
              "    }\n",
              "\n",
              "    .colab-df-convert:hover {\n",
              "      background-color: #E2EBFA;\n",
              "      box-shadow: 0px 1px 2px rgba(60, 64, 67, 0.3), 0px 1px 3px 1px rgba(60, 64, 67, 0.15);\n",
              "      fill: #174EA6;\n",
              "    }\n",
              "\n",
              "    [theme=dark] .colab-df-convert {\n",
              "      background-color: #3B4455;\n",
              "      fill: #D2E3FC;\n",
              "    }\n",
              "\n",
              "    [theme=dark] .colab-df-convert:hover {\n",
              "      background-color: #434B5C;\n",
              "      box-shadow: 0px 1px 3px 1px rgba(0, 0, 0, 0.15);\n",
              "      filter: drop-shadow(0px 1px 2px rgba(0, 0, 0, 0.3));\n",
              "      fill: #FFFFFF;\n",
              "    }\n",
              "  </style>\n",
              "\n",
              "      <script>\n",
              "        const buttonEl =\n",
              "          document.querySelector('#df-885be95f-2642-4c69-899b-067de31fbee1 button.colab-df-convert');\n",
              "        buttonEl.style.display =\n",
              "          google.colab.kernel.accessAllowed ? 'block' : 'none';\n",
              "\n",
              "        async function convertToInteractive(key) {\n",
              "          const element = document.querySelector('#df-885be95f-2642-4c69-899b-067de31fbee1');\n",
              "          const dataTable =\n",
              "            await google.colab.kernel.invokeFunction('convertToInteractive',\n",
              "                                                     [key], {});\n",
              "          if (!dataTable) return;\n",
              "\n",
              "          const docLinkHtml = 'Like what you see? Visit the ' +\n",
              "            '<a target=\"_blank\" href=https://colab.research.google.com/notebooks/data_table.ipynb>data table notebook</a>'\n",
              "            + ' to learn more about interactive tables.';\n",
              "          element.innerHTML = '';\n",
              "          dataTable['output_type'] = 'display_data';\n",
              "          await google.colab.output.renderOutput(dataTable, element);\n",
              "          const docLink = document.createElement('div');\n",
              "          docLink.innerHTML = docLinkHtml;\n",
              "          element.appendChild(docLink);\n",
              "        }\n",
              "      </script>\n",
              "    </div>\n",
              "  </div>\n",
              "  "
            ]
          },
          "metadata": {},
          "execution_count": 7
        }
      ]
    },
    {
      "cell_type": "code",
      "source": [
        "dg.isnull().sum()"
      ],
      "metadata": {
        "colab": {
          "base_uri": "https://localhost:8080/"
        },
        "id": "9xgkpebWn6tN",
        "outputId": "fc80b43b-e911-4994-c498-f641888e3d5f"
      },
      "execution_count": 8,
      "outputs": [
        {
          "output_type": "execute_result",
          "data": {
            "text/plain": [
              "Package                      0\n",
              "Malware                      0\n",
              "prctl                        1\n",
              "sha256                       1\n",
              "EarliestModDate              1\n",
              "write                        1\n",
              "read                         1\n",
              "munmap                       1\n",
              "mprotect                     1\n",
              "madvise                      1\n",
              "ioctl                        1\n",
              "writev                       1\n",
              "dup                          1\n",
              "lseek                        1\n",
              "mmap2                        1\n",
              "fstat64                      1\n",
              "rt_sigprocmask               1\n",
              "recvfrom                     1\n",
              "getsockopt                   1\n",
              "clock_gettime                1\n",
              "futex                        1\n",
              "pread                        1\n",
              "FilesInsideAPK               2\n",
              "TimesSubmitted               2\n",
              "Activities                   2\n",
              "NrIntActivities              2\n",
              "NrIntActivitiesActions       2\n",
              "TotalIntentFilters           2\n",
              "Scanners                     2\n",
              "MalFamily                 2149\n",
              "dtype: int64"
            ]
          },
          "metadata": {},
          "execution_count": 8
        }
      ]
    },
    {
      "cell_type": "code",
      "source": [
        "dg=dg.fillna(0)"
      ],
      "metadata": {
        "id": "aTdIj8wVoGu7"
      },
      "execution_count": 9,
      "outputs": []
    },
    {
      "cell_type": "code",
      "source": [
        "dg.isnull().sum()"
      ],
      "metadata": {
        "colab": {
          "base_uri": "https://localhost:8080/"
        },
        "id": "bIplbCxlob4t",
        "outputId": "47150c8a-9cfe-4407-e3e5-ab6a74768514"
      },
      "execution_count": 10,
      "outputs": [
        {
          "output_type": "execute_result",
          "data": {
            "text/plain": [
              "Package                   0\n",
              "Malware                   0\n",
              "prctl                     0\n",
              "sha256                    0\n",
              "EarliestModDate           0\n",
              "write                     0\n",
              "read                      0\n",
              "munmap                    0\n",
              "mprotect                  0\n",
              "madvise                   0\n",
              "ioctl                     0\n",
              "writev                    0\n",
              "dup                       0\n",
              "lseek                     0\n",
              "mmap2                     0\n",
              "fstat64                   0\n",
              "rt_sigprocmask            0\n",
              "recvfrom                  0\n",
              "getsockopt                0\n",
              "clock_gettime             0\n",
              "futex                     0\n",
              "pread                     0\n",
              "FilesInsideAPK            0\n",
              "TimesSubmitted            0\n",
              "Activities                0\n",
              "NrIntActivities           0\n",
              "NrIntActivitiesActions    0\n",
              "TotalIntentFilters        0\n",
              "Scanners                  0\n",
              "MalFamily                 0\n",
              "dtype: int64"
            ]
          },
          "metadata": {},
          "execution_count": 10
        }
      ]
    },
    {
      "cell_type": "code",
      "source": [
        "import numpy as np\n",
        "from sklearn.preprocessing import LabelEncoder\n",
        "label_encoder = LabelEncoder()\n",
        "encoded_values = label_encoder.fit_transform(dg['MalFamily'].astype(str))\n",
        "encoded_values = encoded_values.reshape(-1, 1)\n",
        "dg['MalFamily'] = encoded_values\n",
        "dg['MalFamily'].max()\n",
        "encoded=label_encoder.fit_transform(dg['Package'].astype(str))\n",
        "dg['Package']=encoded"
      ],
      "metadata": {
        "id": "OEjJ7L39pcub"
      },
      "execution_count": 11,
      "outputs": []
    },
    {
      "cell_type": "code",
      "source": [
        "dg.isnull().sum()"
      ],
      "metadata": {
        "colab": {
          "base_uri": "https://localhost:8080/"
        },
        "id": "gPn-pXyvq811",
        "outputId": "0a9da33b-6111-4562-ca3b-2f599f26f7e4"
      },
      "execution_count": 12,
      "outputs": [
        {
          "output_type": "execute_result",
          "data": {
            "text/plain": [
              "Package                   0\n",
              "Malware                   0\n",
              "prctl                     0\n",
              "sha256                    0\n",
              "EarliestModDate           0\n",
              "write                     0\n",
              "read                      0\n",
              "munmap                    0\n",
              "mprotect                  0\n",
              "madvise                   0\n",
              "ioctl                     0\n",
              "writev                    0\n",
              "dup                       0\n",
              "lseek                     0\n",
              "mmap2                     0\n",
              "fstat64                   0\n",
              "rt_sigprocmask            0\n",
              "recvfrom                  0\n",
              "getsockopt                0\n",
              "clock_gettime             0\n",
              "futex                     0\n",
              "pread                     0\n",
              "FilesInsideAPK            0\n",
              "TimesSubmitted            0\n",
              "Activities                0\n",
              "NrIntActivities           0\n",
              "NrIntActivitiesActions    0\n",
              "TotalIntentFilters        0\n",
              "Scanners                  0\n",
              "MalFamily                 0\n",
              "dtype: int64"
            ]
          },
          "metadata": {},
          "execution_count": 12
        }
      ]
    },
    {
      "cell_type": "code",
      "source": [
        "import pandas as pd\n",
        "#dg['Activities'] = pd.to_numeric(dg['Activities'], errors='coerce')\n",
        "#dg['TotalIntentFilters']=pd.to_numeric(dg['TotalIntentFilters'],errors='coerce')\n",
        "#dg['NrIntActivities']=pd.to_numeric(dg['NrIntActivities'],errors='coerce')\n",
        "#dg['NrIntActivitiesActions']=pd.to_numeric(dg['NrIntActivitiesActions'],errors='coerce')\n",
        "#dg['sha256']=pd.to_numeric(dg['sha256'],errors='coerce')"
      ],
      "metadata": {
        "id": "GjbmkosSrOZE"
      },
      "execution_count": 13,
      "outputs": []
    },
    {
      "cell_type": "code",
      "source": [
        "dg.isnull().sum()"
      ],
      "metadata": {
        "colab": {
          "base_uri": "https://localhost:8080/"
        },
        "id": "_THLB-2brU6t",
        "outputId": "a6e0df55-f3af-404a-b2fb-a22f2d90be64"
      },
      "execution_count": 14,
      "outputs": [
        {
          "output_type": "execute_result",
          "data": {
            "text/plain": [
              "Package                   0\n",
              "Malware                   0\n",
              "prctl                     0\n",
              "sha256                    0\n",
              "EarliestModDate           0\n",
              "write                     0\n",
              "read                      0\n",
              "munmap                    0\n",
              "mprotect                  0\n",
              "madvise                   0\n",
              "ioctl                     0\n",
              "writev                    0\n",
              "dup                       0\n",
              "lseek                     0\n",
              "mmap2                     0\n",
              "fstat64                   0\n",
              "rt_sigprocmask            0\n",
              "recvfrom                  0\n",
              "getsockopt                0\n",
              "clock_gettime             0\n",
              "futex                     0\n",
              "pread                     0\n",
              "FilesInsideAPK            0\n",
              "TimesSubmitted            0\n",
              "Activities                0\n",
              "NrIntActivities           0\n",
              "NrIntActivitiesActions    0\n",
              "TotalIntentFilters        0\n",
              "Scanners                  0\n",
              "MalFamily                 0\n",
              "dtype: int64"
            ]
          },
          "metadata": {},
          "execution_count": 14
        }
      ]
    },
    {
      "cell_type": "code",
      "source": [
        "if pd.isnull(dg['EarliestModDate']).any():\n",
        "    # Handle or fill the missing values if necessary\n",
        "    dg['EarliestModDate'].fillna('fill_value', inplace=True)  # Replace 'fill_value' with an appropriate value\n",
        "# Convert the 'EarliestModDate' column to datetime\n",
        "dg['EarliestModDate'] = pd.to_datetime(dg['EarliestModDate'], errors='coerce')"
      ],
      "metadata": {
        "id": "Xh9qRq1ark5X"
      },
      "execution_count": 15,
      "outputs": []
    },
    {
      "cell_type": "code",
      "source": [
        "dg.isnull().sum()"
      ],
      "metadata": {
        "colab": {
          "base_uri": "https://localhost:8080/"
        },
        "id": "014vCfMWxiC8",
        "outputId": "2d9fd72b-38cd-4277-9ea8-53cc8cb42201"
      },
      "execution_count": 16,
      "outputs": [
        {
          "output_type": "execute_result",
          "data": {
            "text/plain": [
              "Package                     0\n",
              "Malware                     0\n",
              "prctl                       0\n",
              "sha256                      0\n",
              "EarliestModDate           105\n",
              "write                       0\n",
              "read                        0\n",
              "munmap                      0\n",
              "mprotect                    0\n",
              "madvise                     0\n",
              "ioctl                       0\n",
              "writev                      0\n",
              "dup                         0\n",
              "lseek                       0\n",
              "mmap2                       0\n",
              "fstat64                     0\n",
              "rt_sigprocmask              0\n",
              "recvfrom                    0\n",
              "getsockopt                  0\n",
              "clock_gettime               0\n",
              "futex                       0\n",
              "pread                       0\n",
              "FilesInsideAPK              0\n",
              "TimesSubmitted              0\n",
              "Activities                  0\n",
              "NrIntActivities             0\n",
              "NrIntActivitiesActions      0\n",
              "TotalIntentFilters          0\n",
              "Scanners                    0\n",
              "MalFamily                   0\n",
              "dtype: int64"
            ]
          },
          "metadata": {},
          "execution_count": 16
        }
      ]
    },
    {
      "cell_type": "code",
      "source": [
        "dg=dg.fillna(0)"
      ],
      "metadata": {
        "id": "NG8SSTVByBSQ"
      },
      "execution_count": 17,
      "outputs": []
    },
    {
      "cell_type": "code",
      "source": [
        "dg.isnull().sum()"
      ],
      "metadata": {
        "colab": {
          "base_uri": "https://localhost:8080/"
        },
        "id": "6NbcdoRayECQ",
        "outputId": "356ec4f8-2b6c-421c-da21-c61f84d0397a"
      },
      "execution_count": 18,
      "outputs": [
        {
          "output_type": "execute_result",
          "data": {
            "text/plain": [
              "Package                   0\n",
              "Malware                   0\n",
              "prctl                     0\n",
              "sha256                    0\n",
              "EarliestModDate           0\n",
              "write                     0\n",
              "read                      0\n",
              "munmap                    0\n",
              "mprotect                  0\n",
              "madvise                   0\n",
              "ioctl                     0\n",
              "writev                    0\n",
              "dup                       0\n",
              "lseek                     0\n",
              "mmap2                     0\n",
              "fstat64                   0\n",
              "rt_sigprocmask            0\n",
              "recvfrom                  0\n",
              "getsockopt                0\n",
              "clock_gettime             0\n",
              "futex                     0\n",
              "pread                     0\n",
              "FilesInsideAPK            0\n",
              "TimesSubmitted            0\n",
              "Activities                0\n",
              "NrIntActivities           0\n",
              "NrIntActivitiesActions    0\n",
              "TotalIntentFilters        0\n",
              "Scanners                  0\n",
              "MalFamily                 0\n",
              "dtype: int64"
            ]
          },
          "metadata": {},
          "execution_count": 18
        }
      ]
    },
    {
      "cell_type": "code",
      "source": [
        "initial_year=\"2017-12-30\"\n",
        "dg['EarliestModDate']=pd.to_datetime(dg['EarliestModDate'],errors='coerce')"
      ],
      "metadata": {
        "id": "wa6hcQSyyFlq"
      },
      "execution_count": 19,
      "outputs": []
    },
    {
      "cell_type": "code",
      "source": [
        "dataTrain=dg[dg['EarliestModDate']<=initial_year]\n",
        "dataTest=dg[dg['EarliestModDate']>initial_year]"
      ],
      "metadata": {
        "id": "7HQf1sjbyezx"
      },
      "execution_count": 26,
      "outputs": []
    },
    {
      "cell_type": "code",
      "source": [
        "print(dataTrain.shape)"
      ],
      "metadata": {
        "colab": {
          "base_uri": "https://localhost:8080/"
        },
        "id": "AmPJ5dNiygiz",
        "outputId": "718374f7-accf-4b34-c271-0d2fc422865c"
      },
      "execution_count": 21,
      "outputs": [
        {
          "output_type": "stream",
          "name": "stdout",
          "text": [
            "(4731, 30)\n"
          ]
        }
      ]
    },
    {
      "cell_type": "code",
      "source": [
        "print(dataTest.shape)"
      ],
      "metadata": {
        "colab": {
          "base_uri": "https://localhost:8080/"
        },
        "id": "ENyjwJE4ykCr",
        "outputId": "ed5fa4ee-7f23-455f-c7b2-a721ca7588ad"
      },
      "execution_count": 27,
      "outputs": [
        {
          "output_type": "stream",
          "name": "stdout",
          "text": [
            "(164, 30)\n"
          ]
        }
      ]
    },
    {
      "cell_type": "code",
      "source": [
        "trainYears = dataTrain.EarliestModDate.dt.year.values\n",
        "trainMonths = dataTrain.EarliestModDate.dt.month.values\n",
        "testYears = dataTest.EarliestModDate.dt.year.values\n",
        "testMonths = dataTest.EarliestModDate.dt.month.values\n",
        "y_train = np.array(dataTrain[\"Malware\"])\n",
        "y_test = np.array(dataTest[\"Malware\"])\n",
        "# remove unused columns from dataTrain\n",
        "UNUSED_COLUMNS = [\"Malware\", \"sha256\", \"EarliestModDate\"]\n",
        "for c in UNUSED_COLUMNS:\n",
        "    del dataTrain[c]\n",
        "    del dataTest[c]\n",
        "# get values\n",
        "X_dataTrain = dataTrain.values\n",
        "X_dataTest = dataTest.values"
      ],
      "metadata": {
        "id": "1EpC55Hdoksd"
      },
      "execution_count": 28,
      "outputs": []
    },
    {
      "cell_type": "code",
      "source": [
        "dg.dtypes"
      ],
      "metadata": {
        "colab": {
          "base_uri": "https://localhost:8080/"
        },
        "id": "b68_wZANKrBo",
        "outputId": "527f7509-d988-44b3-a5f2-6c7c38260fe5"
      },
      "execution_count": 29,
      "outputs": [
        {
          "output_type": "execute_result",
          "data": {
            "text/plain": [
              "Package                            int64\n",
              "Malware                            int64\n",
              "prctl                            float64\n",
              "sha256                            object\n",
              "EarliestModDate           datetime64[ns]\n",
              "write                            float64\n",
              "read                             float64\n",
              "munmap                           float64\n",
              "mprotect                         float64\n",
              "madvise                          float64\n",
              "ioctl                            float64\n",
              "writev                           float64\n",
              "dup                              float64\n",
              "lseek                            float64\n",
              "mmap2                            float64\n",
              "fstat64                          float64\n",
              "rt_sigprocmask                   float64\n",
              "recvfrom                         float64\n",
              "getsockopt                       float64\n",
              "clock_gettime                    float64\n",
              "futex                            float64\n",
              "pread                            float64\n",
              "FilesInsideAPK                   float64\n",
              "TimesSubmitted                   float64\n",
              "Activities                        object\n",
              "NrIntActivities                   object\n",
              "NrIntActivitiesActions            object\n",
              "TotalIntentFilters                object\n",
              "Scanners                         float64\n",
              "MalFamily                          int64\n",
              "dtype: object"
            ]
          },
          "metadata": {},
          "execution_count": 29
        }
      ]
    },
    {
      "cell_type": "code",
      "source": [
        "!pip install scikit-multiflow"
      ],
      "metadata": {
        "colab": {
          "base_uri": "https://localhost:8080/"
        },
        "id": "JDpHIHz0LoYz",
        "outputId": "84a2785d-8d64-47f4-97ea-fac37c9d2565"
      },
      "execution_count": 30,
      "outputs": [
        {
          "output_type": "stream",
          "name": "stdout",
          "text": [
            "Collecting scikit-multiflow\n",
            "  Downloading scikit-multiflow-0.5.3.tar.gz (450 kB)\n",
            "\u001b[?25l     \u001b[90m━━━━━━━━━━━━━━━━━━━━━━━━━━━━━━━━━━━━━━━━\u001b[0m \u001b[32m0.0/450.6 kB\u001b[0m \u001b[31m?\u001b[0m eta \u001b[36m-:--:--\u001b[0m\r\u001b[2K     \u001b[91m━━━━━━━━━━━━━━━━━━━━━━━━━━━━━━━━━━━━━\u001b[0m\u001b[91m╸\u001b[0m \u001b[32m450.6/450.6 kB\u001b[0m \u001b[31m13.5 MB/s\u001b[0m eta \u001b[36m0:00:01\u001b[0m\r\u001b[2K     \u001b[90m━━━━━━━━━━━━━━━━━━━━━━━━━━━━━━━━━━━━━━\u001b[0m \u001b[32m450.6/450.6 kB\u001b[0m \u001b[31m10.0 MB/s\u001b[0m eta \u001b[36m0:00:00\u001b[0m\n",
            "\u001b[?25h  Preparing metadata (setup.py) ... \u001b[?25l\u001b[?25hdone\n",
            "Requirement already satisfied: sortedcontainers>=1.5.7 in /usr/local/lib/python3.10/dist-packages (from scikit-multiflow) (2.4.0)\n",
            "Requirement already satisfied: numpy>=1.14.0 in /usr/local/lib/python3.10/dist-packages (from scikit-multiflow) (1.22.4)\n",
            "Requirement already satisfied: scipy>=1.0.0 in /usr/local/lib/python3.10/dist-packages (from scikit-multiflow) (1.10.1)\n",
            "Requirement already satisfied: matplotlib>=2.0.0 in /usr/local/lib/python3.10/dist-packages (from scikit-multiflow) (3.7.1)\n",
            "Requirement already satisfied: scikit-learn>=0.20 in /usr/local/lib/python3.10/dist-packages (from scikit-multiflow) (1.2.2)\n",
            "Requirement already satisfied: pandas>=0.25.3 in /usr/local/lib/python3.10/dist-packages (from scikit-multiflow) (1.5.3)\n",
            "Requirement already satisfied: contourpy>=1.0.1 in /usr/local/lib/python3.10/dist-packages (from matplotlib>=2.0.0->scikit-multiflow) (1.1.0)\n",
            "Requirement already satisfied: cycler>=0.10 in /usr/local/lib/python3.10/dist-packages (from matplotlib>=2.0.0->scikit-multiflow) (0.11.0)\n",
            "Requirement already satisfied: fonttools>=4.22.0 in /usr/local/lib/python3.10/dist-packages (from matplotlib>=2.0.0->scikit-multiflow) (4.40.0)\n",
            "Requirement already satisfied: kiwisolver>=1.0.1 in /usr/local/lib/python3.10/dist-packages (from matplotlib>=2.0.0->scikit-multiflow) (1.4.4)\n",
            "Requirement already satisfied: packaging>=20.0 in /usr/local/lib/python3.10/dist-packages (from matplotlib>=2.0.0->scikit-multiflow) (23.1)\n",
            "Requirement already satisfied: pillow>=6.2.0 in /usr/local/lib/python3.10/dist-packages (from matplotlib>=2.0.0->scikit-multiflow) (8.4.0)\n",
            "Requirement already satisfied: pyparsing>=2.3.1 in /usr/local/lib/python3.10/dist-packages (from matplotlib>=2.0.0->scikit-multiflow) (3.1.0)\n",
            "Requirement already satisfied: python-dateutil>=2.7 in /usr/local/lib/python3.10/dist-packages (from matplotlib>=2.0.0->scikit-multiflow) (2.8.2)\n",
            "Requirement already satisfied: pytz>=2020.1 in /usr/local/lib/python3.10/dist-packages (from pandas>=0.25.3->scikit-multiflow) (2022.7.1)\n",
            "Requirement already satisfied: joblib>=1.1.1 in /usr/local/lib/python3.10/dist-packages (from scikit-learn>=0.20->scikit-multiflow) (1.2.0)\n",
            "Requirement already satisfied: threadpoolctl>=2.0.0 in /usr/local/lib/python3.10/dist-packages (from scikit-learn>=0.20->scikit-multiflow) (3.1.0)\n",
            "Requirement already satisfied: six>=1.5 in /usr/local/lib/python3.10/dist-packages (from python-dateutil>=2.7->matplotlib>=2.0.0->scikit-multiflow) (1.16.0)\n",
            "Building wheels for collected packages: scikit-multiflow\n",
            "  Building wheel for scikit-multiflow (setup.py) ... \u001b[?25l\u001b[?25hdone\n",
            "  Created wheel for scikit-multiflow: filename=scikit_multiflow-0.5.3-cp310-cp310-linux_x86_64.whl size=1281810 sha256=811d1a5ed553420c683e71673ebd25da737369dfa6e0e9023fcc7f7c338c244c\n",
            "  Stored in directory: /root/.cache/pip/wheels/6e/1b/56/45b17a6cf203d98000a45976cb0dd0c4c3f11960e6a505f231\n",
            "Successfully built scikit-multiflow\n",
            "Installing collected packages: scikit-multiflow\n",
            "Successfully installed scikit-multiflow-0.5.3\n"
          ]
        }
      ]
    },
    {
      "cell_type": "code",
      "source": [
        "from sklearn.feature_extraction.text import TfidfVectorizer\n",
        "from sklearn.preprocessing import StandardScaler\n",
        "def feature_extraction(X_dataTrain, X_dataTest):\n",
        "    # initialize X_train and X_test\n",
        "    X_train = []\n",
        "    X_test = []\n",
        "    # save models used\n",
        "    models = []\n",
        "    # iterate over each column of X_dataTrain\n",
        "    for i in range(X_dataTrain.shape[1]):\n",
        "        # get train and test data\n",
        "        train_data = X_dataTrain[:, i]\n",
        "        test_data = X_dataTest[:, i]\n",
        "        # check if the column datatype is not int (numerical)\n",
        "        if train_data.dtype != np.dtype('int64'):\n",
        "            # initialize and train TfidfVectorizer\n",
        "            tfidf = TfidfVectorizer(max_features=100)\n",
        "            tfidf.fit(train_data.astype(str))  # Convert to string for text-based vectorization\n",
        "            # transform train and test data to TF-IDF features\n",
        "            train_tfidf = tfidf.transform(train_data.astype(str)).todense()\n",
        "            test_tfidf = tfidf.transform(test_data.astype(str)).todense()\n",
        "            # if first execution, save only features\n",
        "            if len(X_train) == 0:\n",
        "                X_train = train_tfidf\n",
        "                X_test = test_tfidf\n",
        "            # concatenate existing features\n",
        "            else:\n",
        "                X_train = np.concatenate((X_train, train_tfidf), axis=1)\n",
        "                X_test = np.concatenate((X_test, test_tfidf), axis=1)\n",
        "            # save model\n",
        "            models.append(tfidf)\n",
        "        else:\n",
        "            # if column datatype is numerical, directly concatenate the column\n",
        "            if len(X_train) == 0:\n",
        "                X_train = train_data.reshape(-1, 1)\n",
        "                X_test = test_data.reshape(-1, 1)\n",
        "            else:\n",
        "                X_train = np.concatenate((X_train, train_data.reshape(-1, 1)), axis=1)\n",
        "                X_test = np.concatenate((X_test, test_data.reshape(-1, 1)), axis=1)\n",
        "    return X_train, X_test\n",
        "X_train, X_test = feature_extraction(X_dataTrain, X_dataTest)"
      ],
      "metadata": {
        "id": "DPE04wYVylYp"
      },
      "execution_count": 31,
      "outputs": []
    },
    {
      "cell_type": "code",
      "source": [
        "X_test"
      ],
      "metadata": {
        "id": "Ghv2ShQH287s"
      },
      "execution_count": null,
      "outputs": []
    },
    {
      "cell_type": "code",
      "source": [
        "X_train"
      ],
      "metadata": {
        "id": "Zvn-Irr2imGK"
      },
      "execution_count": null,
      "outputs": []
    },
    {
      "cell_type": "code",
      "source": [
        "y_test"
      ],
      "metadata": {
        "id": "nSgUxhrvitX9"
      },
      "execution_count": null,
      "outputs": []
    },
    {
      "cell_type": "code",
      "source": [
        "y_train"
      ],
      "metadata": {
        "id": "BFI3Lh0Wi9eY"
      },
      "execution_count": null,
      "outputs": []
    },
    {
      "cell_type": "code",
      "source": [
        "from sklearn.preprocessing import MinMaxScaler\n",
        "import numpy as np\n",
        "\n",
        "def normalization(X_train, X_test):\n",
        "    # Convert np.matrix to np.array\n",
        "    X_train = np.asarray(X_train)\n",
        "    X_test = np.asarray(X_test)\n",
        "    # Replace None values with 0\n",
        "    X_train[np.isnan(X_train)] = 0\n",
        "    X_test[np.isnan(X_test)] = 0\n",
        "    # Perform normalization\n",
        "    scaler = MinMaxScaler()\n",
        "    scaler.fit(X_train)\n",
        "    XX_train = scaler.transform(X_train)\n",
        "    XX_test = scaler.transform(X_test)\n",
        "    return XX_train, XX_test\n",
        "XX_train, XX_test = normalization(X_train, X_test)\n"
      ],
      "metadata": {
        "id": "0jS51BAJkAq-"
      },
      "execution_count": 32,
      "outputs": []
    },
    {
      "cell_type": "code",
      "source": [
        "from skmultiflow.drift_detection import DDM, EDDM, ADWIN, PageHinkley\n",
        "from sklearn.ensemble import RandomForestClassifier\n",
        "# from skmultiflow.meta.adaptive_random_forests import AdaptiveRandomForest as Classifier\n",
        "from sklearn.linear_model import SGDClassifier as Classifier\n",
        "# initialize drift detection method\n",
        "drift = EDDM()\n",
        "# create base classifier trained with K samples\n",
        "# clf = Classifier(random_state=0, drift_detection_method=None, warning_detection_method=None)\n",
        "clf = Classifier(random_state=0)\n",
        "# clf2 = Classifier(random_state=0, drift_detection_method=None, warning_detection_method=None)\n",
        "clf2 = Classifier(random_state=0)\n",
        "print(\"Training classifier 1...\")\n",
        "clf.partial_fit(XX_train,y_train, classes=[0,1])\n",
        "# print(\"Training classifier 2...\")\n",
        "# clf2.partial_fit(XX_train,y_train, classes=[0,1])\n",
        "print(\"Ready for classification.\")\n",
        "# Process data stream:\n",
        "# In[9]\n",
        "from sklearn.metrics import accuracy_score\n",
        "import math\n",
        "# drift points\n",
        "drifts = []\n",
        "# warning points\n",
        "warnings = []\n",
        "# flags for drift and warning\n",
        "DRIFT = False\n",
        "WARNING = False\n",
        "warning_data = []\n",
        "y_warning = []\n",
        "# accuracies\n",
        "accs = []\n",
        "# predictions\n",
        "pred = []\n",
        "true = []\n",
        "# hits\n",
        "hits = 0\n",
        "p = [] # prequential error\n",
        "s = [] # stdev\n",
        "n = 1.0 # counter\n",
        "p.append(1.0) # prequential error\n",
        "# iterate over stream\n",
        "for i in range(XX_test.shape[0]):\n",
        "    # get batch samples\n",
        "    sample_x = XX_test[i]\n",
        "    sample_y = y_test[i]\n",
        "    # predict data\n",
        "    y_pred = clf.predict([sample_x])\n",
        "    # save prediction and sample_y\n",
        "    pred.append(y_pred)\n",
        "    true.append(sample_y)\n",
        "    # check if predicted is a hit\n",
        "    if sample_y == y_pred:\n",
        "        hits = hits + 1\n",
        "        p.append(p[-1]-p[-1]/n);\n",
        "    else:\n",
        "        p.append(p[-1]+(1-p[-1])/n);\n",
        "    s.append(math.sqrt(p[-1]*(1-p[-1])/n)) #calc stdev\n",
        "    n = n+1;\n",
        "    # feed drift detector\n",
        "    drift.add_element(sample_y == y_pred)\n",
        "    # save metrics\n",
        "    accs.append(float(hits)/float(i+1))\n",
        "    # detect if warning or drift\n",
        "    if drift.detected_warning_zone():\n",
        "        if not WARNING:\n",
        "            print(\"Warning in {}...\".format(i+1))\n",
        "            # print(\"CLF Instances:\", clf.instances_seen)\n",
        "        # fit clf and clf2\n",
        "        clf.partial_fit([sample_x],[sample_y], classes=[0,1])\n",
        "        clf2.partial_fit([sample_x],[sample_y], classes=[0,1])\n",
        "        warnings.append(i+1)\n",
        "        # save data related to warning...\n",
        "        warning_data.append(X_dataTest[i])\n",
        "        y_warning.append(y_test[i])\n",
        "        # print(X_dataTest.values[stream.sample_idx-1])\n",
        "        WARNING = True\n",
        "    elif drift.detected_change():\n",
        "        print('Change has been detected in {}.'.format(i))\n",
        "        print(drift.get_info())\n",
        "        p.append(1.0)\n",
        "        s.append(0.0);\n",
        "        n = 1.0\n",
        "        # save data related to drift (warning yet)\n",
        "        drifts.append(i)\n",
        "        # change classifiers\n",
        "        clf2.partial_fit([sample_x],[sample_y], classes=[0,1])\n",
        "        clf = clf2\n",
        "        # clf2 = Classifier(random_state=0, drift_detection_method=None, warning_detection_method=None)\n",
        "        clf2 = Classifier(random_state=0)\n",
        "        # print(\"CLF Instances:\", clf.instances_seen)\n",
        "        # reset drifts information\n",
        "        drift.reset()\n",
        "        WARNING = False\n",
        "        warning_data = []\n",
        "        y_warning = []\n",
        "    else:\n",
        "        WARNING = False\n",
        "        warning_data = []\n",
        "        y_warning = []\n",
        "        # clf2 = Classifier(random_state=0, drift_detection_method=None, warning_detection_method=None)\n",
        "        clf2 = Classifier(random_state=0)\n",
        "        clf.partial_fit([sample_x],[sample_y], classes=[0,1])\n",
        "print(\"Drifts: \", drifts)\n",
        "print(\"AVG Accuracy: \", np.mean(accs))"
      ],
      "metadata": {
        "id": "wdLtHBOnkuH2",
        "colab": {
          "base_uri": "https://localhost:8080/"
        },
        "outputId": "e91bc359-a5d3-404e-ed6b-1a4342624ef8"
      },
      "execution_count": 33,
      "outputs": [
        {
          "output_type": "stream",
          "name": "stdout",
          "text": [
            "Training classifier 1...\n",
            "Ready for classification.\n",
            "Warning in 41...\n",
            "Change has been detected in 47.\n",
            "EDDM()\n",
            "Warning in 89...\n",
            "Drifts:  [47]\n",
            "AVG Accuracy:  0.8643219171881997\n"
          ]
        }
      ]
    },
    {
      "cell_type": "code",
      "source": [
        "print(y_pred)"
      ],
      "metadata": {
        "id": "RXDlBFjKk1SQ",
        "colab": {
          "base_uri": "https://localhost:8080/"
        },
        "outputId": "2c9760a9-945b-44e1-d1e2-6a3c3c917248"
      },
      "execution_count": 36,
      "outputs": [
        {
          "output_type": "stream",
          "name": "stdout",
          "text": [
            "[1]\n"
          ]
        }
      ]
    },
    {
      "cell_type": "code",
      "source": [],
      "metadata": {
        "id": "b0r06_BJ8bGI"
      },
      "execution_count": null,
      "outputs": []
    }
  ]
}