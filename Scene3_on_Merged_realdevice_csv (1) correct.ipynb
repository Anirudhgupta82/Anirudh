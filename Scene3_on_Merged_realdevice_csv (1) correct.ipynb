{
  "cells": [
    {
      "cell_type": "code",
      "execution_count": 2,
      "metadata": {
        "id": "gCEIBafYVzBx"
      },
      "outputs": [],
      "source": [
        "import pandas as pd\n",
        "import numpy as np\n",
        "import matplotlib.pyplot as plt\n",
        "import seaborn as sns\n",
        "from sklearn.model_selection import train_test_split\n",
        "from sklearn.metrics import classification_report, roc_curve, roc_auc_score\n",
        "from sklearn import metrics\n",
        "from sklearn.linear_model import LogisticRegression\n",
        "from sklearn.tree import DecisionTreeClassifier\n",
        "from sklearn.ensemble import RandomForestClassifier\n",
        "from sklearn.metrics import accuracy_score\n",
        "import scipy\n",
        "import joblib\n",
        "import os"
      ]
    },
    {
      "cell_type": "code",
      "execution_count": 3,
      "metadata": {
        "id": "P5ccYguwWSn9"
      },
      "outputs": [],
      "source": [
        "dx=pd.read_csv('/content/real_legitimate_v1.csv')"
      ]
    },
    {
      "cell_type": "code",
      "execution_count": 4,
      "metadata": {
        "id": "SKa6qqhWWURc"
      },
      "outputs": [],
      "source": [
        "dy=pd.read_csv('/content/real_malware_v1.csv')"
      ]
    },
    {
      "cell_type": "code",
      "execution_count": 5,
      "metadata": {
        "id": "SxxLmjbOWYYv"
      },
      "outputs": [],
      "source": [
        "df = pd.concat([dx, dy], ignore_index=True)\n",
        "df.to_csv('combined.csv', index=False)"
      ]
    },
    {
      "cell_type": "code",
      "execution_count": 6,
      "metadata": {
        "id": "IphEX_c_Wact"
      },
      "outputs": [],
      "source": [
        "df = df.sample(frac=1).reset_index(drop=True)\n",
        "df=df.to_csv('shuffled_dataset.csv', index=False)"
      ]
    },
    {
      "cell_type": "code",
      "execution_count": 7,
      "metadata": {
        "id": "JbT5pVQyWcdO"
      },
      "outputs": [],
      "source": [
        "dr=pd.read_csv('/content/shuffled_dataset.csv')"
      ]
    },
    {
      "cell_type": "code",
      "execution_count": 8,
      "metadata": {
        "colab": {
          "base_uri": "https://localhost:8080/",
          "height": 487
        },
        "id": "dOpbZDHVWfsW",
        "outputId": "e69dda6a-6155-447f-ddbc-a9acf620027a"
      },
      "outputs": [
        {
          "output_type": "execute_result",
          "data": {
            "text/plain": [
              "                                   Package  Malware  prctl  \\\n",
              "0                           com.kandy.ui\\n        0     24   \n",
              "1                com.chillaxing.easynews\\n        0     51   \n",
              "2                        com.lnm.dzdaily\\n        1      9   \n",
              "3                           com.xyhelper\\n        1     83   \n",
              "4                      cn.adouming.apals\\n        1     39   \n",
              "...                                    ...      ...    ...   \n",
              "4995            com.alibaba.aliexpresshd\\n        0    136   \n",
              "4996           com.androiddoctor.battery\\n        1     83   \n",
              "4997            com.alaskajim.numberones\\n        0     30   \n",
              "4998  nl.vpro.drievoortwaalf.luisterpaal\\n        0     18   \n",
              "4999                 com.hdvnao.yqxoywol\\n        1    531   \n",
              "\n",
              "                                                 sha256 EarliestModDate  \\\n",
              "0     30eb265ef5a4a3bccd90a0f3dc9a12f03b9aba9eed59c1...       1/27/2011   \n",
              "1     2f4dfd247ff9d184bd48c4462d83fa8ca60219656c05c3...        6/5/2011   \n",
              "2     87490a66dadf3c497e75d1145fd54192c87a063a313825...      11/14/2013   \n",
              "3     d31fc10c0db6a39a9d13e21476c6b866497835c6150019...       9/16/2016   \n",
              "4     d2672d4917e43e4951fbbddb92ce8b31896b96e463897a...        5/3/2012   \n",
              "...                                                 ...             ...   \n",
              "4995  be45048408e29060043a449e1439a6df98d389ea84f6e7...      1980-00-00   \n",
              "4996  26fbec09b4196260dca8ef94d2605dba8d4db6bb869a17...       8/30/2011   \n",
              "4997  da93311cb4f7f34156d7092f59c9a484e8870b85d4a8bd...        4/1/2011   \n",
              "4998  7a4ef5bb3518a6bcc25cb8d2a2e2ba56526dacd7b17b1b...       3/28/2011   \n",
              "4999  f82a186be529b47b9215587253c4d9382cd8fa8da75abd...        1/1/1980   \n",
              "\n",
              "      write  read  munmap  mprotect  madvise  ...  futex  pread  \\\n",
              "0         7     7      91       177       23  ...     31     99   \n",
              "1         6     3      62       189       41  ...     38     52   \n",
              "2       191    91       1         6        6  ...     74      2   \n",
              "3         6    12      55       589       42  ...     90     72   \n",
              "4        10     9      40       183       32  ...     47      5   \n",
              "...     ...   ...     ...       ...      ...  ...    ...    ...   \n",
              "4995     19    64      66       242       93  ...    392    113   \n",
              "4996      7    12      36       590       41  ...    125     38   \n",
              "4997      3     9       6        18       14  ...     23     12   \n",
              "4998     21    20      44       168       18  ...      7      7   \n",
              "4999    327   247     239      1617      292  ...    867    387   \n",
              "\n",
              "      FilesInsideAPK  TimesSubmitted  Activities  NrIntActivities  \\\n",
              "0              112.0             4.0          12                1   \n",
              "1               69.0             6.0          13                2   \n",
              "2               27.0            15.0           4                1   \n",
              "3               10.0             3.0           2                2   \n",
              "4               27.0            25.0           4                1   \n",
              "...              ...             ...         ...              ...   \n",
              "4995          8032.0            14.0         221               78   \n",
              "4996            98.0           125.0          14                1   \n",
              "4997            69.0             2.0           5                1   \n",
              "4998            49.0             4.0           5                1   \n",
              "4999           173.0             2.0          11                1   \n",
              "\n",
              "      NrIntActivitiesActions  TotalIntentFilters  Scanners  MalFamily  \n",
              "0                          1                   1      66.0        NaN  \n",
              "1                          3                   4      66.0        NaN  \n",
              "2                          1                   2      65.0      Youmi  \n",
              "3                          2                   2      64.0     SMSreg  \n",
              "4                          1                   2      65.0      Kuguo  \n",
              "...                      ...                 ...       ...        ...  \n",
              "4995                     156                 106      56.0        NaN  \n",
              "4996                       1                   4      65.0    FakeDoc  \n",
              "4997                       1                   1      65.0        NaN  \n",
              "4998                       1                   1      66.0        NaN  \n",
              "4999                       1                   7      64.0     SMSreg  \n",
              "\n",
              "[5000 rows x 30 columns]"
            ],
            "text/html": [
              "\n",
              "  <div id=\"df-d705d03d-6aa9-4f15-95ef-ad4dc8fc1d79\">\n",
              "    <div class=\"colab-df-container\">\n",
              "      <div>\n",
              "<style scoped>\n",
              "    .dataframe tbody tr th:only-of-type {\n",
              "        vertical-align: middle;\n",
              "    }\n",
              "\n",
              "    .dataframe tbody tr th {\n",
              "        vertical-align: top;\n",
              "    }\n",
              "\n",
              "    .dataframe thead th {\n",
              "        text-align: right;\n",
              "    }\n",
              "</style>\n",
              "<table border=\"1\" class=\"dataframe\">\n",
              "  <thead>\n",
              "    <tr style=\"text-align: right;\">\n",
              "      <th></th>\n",
              "      <th>Package</th>\n",
              "      <th>Malware</th>\n",
              "      <th>prctl</th>\n",
              "      <th>sha256</th>\n",
              "      <th>EarliestModDate</th>\n",
              "      <th>write</th>\n",
              "      <th>read</th>\n",
              "      <th>munmap</th>\n",
              "      <th>mprotect</th>\n",
              "      <th>madvise</th>\n",
              "      <th>...</th>\n",
              "      <th>futex</th>\n",
              "      <th>pread</th>\n",
              "      <th>FilesInsideAPK</th>\n",
              "      <th>TimesSubmitted</th>\n",
              "      <th>Activities</th>\n",
              "      <th>NrIntActivities</th>\n",
              "      <th>NrIntActivitiesActions</th>\n",
              "      <th>TotalIntentFilters</th>\n",
              "      <th>Scanners</th>\n",
              "      <th>MalFamily</th>\n",
              "    </tr>\n",
              "  </thead>\n",
              "  <tbody>\n",
              "    <tr>\n",
              "      <th>0</th>\n",
              "      <td>com.kandy.ui\\n</td>\n",
              "      <td>0</td>\n",
              "      <td>24</td>\n",
              "      <td>30eb265ef5a4a3bccd90a0f3dc9a12f03b9aba9eed59c1...</td>\n",
              "      <td>1/27/2011</td>\n",
              "      <td>7</td>\n",
              "      <td>7</td>\n",
              "      <td>91</td>\n",
              "      <td>177</td>\n",
              "      <td>23</td>\n",
              "      <td>...</td>\n",
              "      <td>31</td>\n",
              "      <td>99</td>\n",
              "      <td>112.0</td>\n",
              "      <td>4.0</td>\n",
              "      <td>12</td>\n",
              "      <td>1</td>\n",
              "      <td>1</td>\n",
              "      <td>1</td>\n",
              "      <td>66.0</td>\n",
              "      <td>NaN</td>\n",
              "    </tr>\n",
              "    <tr>\n",
              "      <th>1</th>\n",
              "      <td>com.chillaxing.easynews\\n</td>\n",
              "      <td>0</td>\n",
              "      <td>51</td>\n",
              "      <td>2f4dfd247ff9d184bd48c4462d83fa8ca60219656c05c3...</td>\n",
              "      <td>6/5/2011</td>\n",
              "      <td>6</td>\n",
              "      <td>3</td>\n",
              "      <td>62</td>\n",
              "      <td>189</td>\n",
              "      <td>41</td>\n",
              "      <td>...</td>\n",
              "      <td>38</td>\n",
              "      <td>52</td>\n",
              "      <td>69.0</td>\n",
              "      <td>6.0</td>\n",
              "      <td>13</td>\n",
              "      <td>2</td>\n",
              "      <td>3</td>\n",
              "      <td>4</td>\n",
              "      <td>66.0</td>\n",
              "      <td>NaN</td>\n",
              "    </tr>\n",
              "    <tr>\n",
              "      <th>2</th>\n",
              "      <td>com.lnm.dzdaily\\n</td>\n",
              "      <td>1</td>\n",
              "      <td>9</td>\n",
              "      <td>87490a66dadf3c497e75d1145fd54192c87a063a313825...</td>\n",
              "      <td>11/14/2013</td>\n",
              "      <td>191</td>\n",
              "      <td>91</td>\n",
              "      <td>1</td>\n",
              "      <td>6</td>\n",
              "      <td>6</td>\n",
              "      <td>...</td>\n",
              "      <td>74</td>\n",
              "      <td>2</td>\n",
              "      <td>27.0</td>\n",
              "      <td>15.0</td>\n",
              "      <td>4</td>\n",
              "      <td>1</td>\n",
              "      <td>1</td>\n",
              "      <td>2</td>\n",
              "      <td>65.0</td>\n",
              "      <td>Youmi</td>\n",
              "    </tr>\n",
              "    <tr>\n",
              "      <th>3</th>\n",
              "      <td>com.xyhelper\\n</td>\n",
              "      <td>1</td>\n",
              "      <td>83</td>\n",
              "      <td>d31fc10c0db6a39a9d13e21476c6b866497835c6150019...</td>\n",
              "      <td>9/16/2016</td>\n",
              "      <td>6</td>\n",
              "      <td>12</td>\n",
              "      <td>55</td>\n",
              "      <td>589</td>\n",
              "      <td>42</td>\n",
              "      <td>...</td>\n",
              "      <td>90</td>\n",
              "      <td>72</td>\n",
              "      <td>10.0</td>\n",
              "      <td>3.0</td>\n",
              "      <td>2</td>\n",
              "      <td>2</td>\n",
              "      <td>2</td>\n",
              "      <td>2</td>\n",
              "      <td>64.0</td>\n",
              "      <td>SMSreg</td>\n",
              "    </tr>\n",
              "    <tr>\n",
              "      <th>4</th>\n",
              "      <td>cn.adouming.apals\\n</td>\n",
              "      <td>1</td>\n",
              "      <td>39</td>\n",
              "      <td>d2672d4917e43e4951fbbddb92ce8b31896b96e463897a...</td>\n",
              "      <td>5/3/2012</td>\n",
              "      <td>10</td>\n",
              "      <td>9</td>\n",
              "      <td>40</td>\n",
              "      <td>183</td>\n",
              "      <td>32</td>\n",
              "      <td>...</td>\n",
              "      <td>47</td>\n",
              "      <td>5</td>\n",
              "      <td>27.0</td>\n",
              "      <td>25.0</td>\n",
              "      <td>4</td>\n",
              "      <td>1</td>\n",
              "      <td>1</td>\n",
              "      <td>2</td>\n",
              "      <td>65.0</td>\n",
              "      <td>Kuguo</td>\n",
              "    </tr>\n",
              "    <tr>\n",
              "      <th>...</th>\n",
              "      <td>...</td>\n",
              "      <td>...</td>\n",
              "      <td>...</td>\n",
              "      <td>...</td>\n",
              "      <td>...</td>\n",
              "      <td>...</td>\n",
              "      <td>...</td>\n",
              "      <td>...</td>\n",
              "      <td>...</td>\n",
              "      <td>...</td>\n",
              "      <td>...</td>\n",
              "      <td>...</td>\n",
              "      <td>...</td>\n",
              "      <td>...</td>\n",
              "      <td>...</td>\n",
              "      <td>...</td>\n",
              "      <td>...</td>\n",
              "      <td>...</td>\n",
              "      <td>...</td>\n",
              "      <td>...</td>\n",
              "      <td>...</td>\n",
              "    </tr>\n",
              "    <tr>\n",
              "      <th>4995</th>\n",
              "      <td>com.alibaba.aliexpresshd\\n</td>\n",
              "      <td>0</td>\n",
              "      <td>136</td>\n",
              "      <td>be45048408e29060043a449e1439a6df98d389ea84f6e7...</td>\n",
              "      <td>1980-00-00</td>\n",
              "      <td>19</td>\n",
              "      <td>64</td>\n",
              "      <td>66</td>\n",
              "      <td>242</td>\n",
              "      <td>93</td>\n",
              "      <td>...</td>\n",
              "      <td>392</td>\n",
              "      <td>113</td>\n",
              "      <td>8032.0</td>\n",
              "      <td>14.0</td>\n",
              "      <td>221</td>\n",
              "      <td>78</td>\n",
              "      <td>156</td>\n",
              "      <td>106</td>\n",
              "      <td>56.0</td>\n",
              "      <td>NaN</td>\n",
              "    </tr>\n",
              "    <tr>\n",
              "      <th>4996</th>\n",
              "      <td>com.androiddoctor.battery\\n</td>\n",
              "      <td>1</td>\n",
              "      <td>83</td>\n",
              "      <td>26fbec09b4196260dca8ef94d2605dba8d4db6bb869a17...</td>\n",
              "      <td>8/30/2011</td>\n",
              "      <td>7</td>\n",
              "      <td>12</td>\n",
              "      <td>36</td>\n",
              "      <td>590</td>\n",
              "      <td>41</td>\n",
              "      <td>...</td>\n",
              "      <td>125</td>\n",
              "      <td>38</td>\n",
              "      <td>98.0</td>\n",
              "      <td>125.0</td>\n",
              "      <td>14</td>\n",
              "      <td>1</td>\n",
              "      <td>1</td>\n",
              "      <td>4</td>\n",
              "      <td>65.0</td>\n",
              "      <td>FakeDoc</td>\n",
              "    </tr>\n",
              "    <tr>\n",
              "      <th>4997</th>\n",
              "      <td>com.alaskajim.numberones\\n</td>\n",
              "      <td>0</td>\n",
              "      <td>30</td>\n",
              "      <td>da93311cb4f7f34156d7092f59c9a484e8870b85d4a8bd...</td>\n",
              "      <td>4/1/2011</td>\n",
              "      <td>3</td>\n",
              "      <td>9</td>\n",
              "      <td>6</td>\n",
              "      <td>18</td>\n",
              "      <td>14</td>\n",
              "      <td>...</td>\n",
              "      <td>23</td>\n",
              "      <td>12</td>\n",
              "      <td>69.0</td>\n",
              "      <td>2.0</td>\n",
              "      <td>5</td>\n",
              "      <td>1</td>\n",
              "      <td>1</td>\n",
              "      <td>1</td>\n",
              "      <td>65.0</td>\n",
              "      <td>NaN</td>\n",
              "    </tr>\n",
              "    <tr>\n",
              "      <th>4998</th>\n",
              "      <td>nl.vpro.drievoortwaalf.luisterpaal\\n</td>\n",
              "      <td>0</td>\n",
              "      <td>18</td>\n",
              "      <td>7a4ef5bb3518a6bcc25cb8d2a2e2ba56526dacd7b17b1b...</td>\n",
              "      <td>3/28/2011</td>\n",
              "      <td>21</td>\n",
              "      <td>20</td>\n",
              "      <td>44</td>\n",
              "      <td>168</td>\n",
              "      <td>18</td>\n",
              "      <td>...</td>\n",
              "      <td>7</td>\n",
              "      <td>7</td>\n",
              "      <td>49.0</td>\n",
              "      <td>4.0</td>\n",
              "      <td>5</td>\n",
              "      <td>1</td>\n",
              "      <td>1</td>\n",
              "      <td>1</td>\n",
              "      <td>66.0</td>\n",
              "      <td>NaN</td>\n",
              "    </tr>\n",
              "    <tr>\n",
              "      <th>4999</th>\n",
              "      <td>com.hdvnao.yqxoywol\\n</td>\n",
              "      <td>1</td>\n",
              "      <td>531</td>\n",
              "      <td>f82a186be529b47b9215587253c4d9382cd8fa8da75abd...</td>\n",
              "      <td>1/1/1980</td>\n",
              "      <td>327</td>\n",
              "      <td>247</td>\n",
              "      <td>239</td>\n",
              "      <td>1617</td>\n",
              "      <td>292</td>\n",
              "      <td>...</td>\n",
              "      <td>867</td>\n",
              "      <td>387</td>\n",
              "      <td>173.0</td>\n",
              "      <td>2.0</td>\n",
              "      <td>11</td>\n",
              "      <td>1</td>\n",
              "      <td>1</td>\n",
              "      <td>7</td>\n",
              "      <td>64.0</td>\n",
              "      <td>SMSreg</td>\n",
              "    </tr>\n",
              "  </tbody>\n",
              "</table>\n",
              "<p>5000 rows × 30 columns</p>\n",
              "</div>\n",
              "      <button class=\"colab-df-convert\" onclick=\"convertToInteractive('df-d705d03d-6aa9-4f15-95ef-ad4dc8fc1d79')\"\n",
              "              title=\"Convert this dataframe to an interactive table.\"\n",
              "              style=\"display:none;\">\n",
              "        \n",
              "  <svg xmlns=\"http://www.w3.org/2000/svg\" height=\"24px\"viewBox=\"0 0 24 24\"\n",
              "       width=\"24px\">\n",
              "    <path d=\"M0 0h24v24H0V0z\" fill=\"none\"/>\n",
              "    <path d=\"M18.56 5.44l.94 2.06.94-2.06 2.06-.94-2.06-.94-.94-2.06-.94 2.06-2.06.94zm-11 1L8.5 8.5l.94-2.06 2.06-.94-2.06-.94L8.5 2.5l-.94 2.06-2.06.94zm10 10l.94 2.06.94-2.06 2.06-.94-2.06-.94-.94-2.06-.94 2.06-2.06.94z\"/><path d=\"M17.41 7.96l-1.37-1.37c-.4-.4-.92-.59-1.43-.59-.52 0-1.04.2-1.43.59L10.3 9.45l-7.72 7.72c-.78.78-.78 2.05 0 2.83L4 21.41c.39.39.9.59 1.41.59.51 0 1.02-.2 1.41-.59l7.78-7.78 2.81-2.81c.8-.78.8-2.07 0-2.86zM5.41 20L4 18.59l7.72-7.72 1.47 1.35L5.41 20z\"/>\n",
              "  </svg>\n",
              "      </button>\n",
              "      \n",
              "  <style>\n",
              "    .colab-df-container {\n",
              "      display:flex;\n",
              "      flex-wrap:wrap;\n",
              "      gap: 12px;\n",
              "    }\n",
              "\n",
              "    .colab-df-convert {\n",
              "      background-color: #E8F0FE;\n",
              "      border: none;\n",
              "      border-radius: 50%;\n",
              "      cursor: pointer;\n",
              "      display: none;\n",
              "      fill: #1967D2;\n",
              "      height: 32px;\n",
              "      padding: 0 0 0 0;\n",
              "      width: 32px;\n",
              "    }\n",
              "\n",
              "    .colab-df-convert:hover {\n",
              "      background-color: #E2EBFA;\n",
              "      box-shadow: 0px 1px 2px rgba(60, 64, 67, 0.3), 0px 1px 3px 1px rgba(60, 64, 67, 0.15);\n",
              "      fill: #174EA6;\n",
              "    }\n",
              "\n",
              "    [theme=dark] .colab-df-convert {\n",
              "      background-color: #3B4455;\n",
              "      fill: #D2E3FC;\n",
              "    }\n",
              "\n",
              "    [theme=dark] .colab-df-convert:hover {\n",
              "      background-color: #434B5C;\n",
              "      box-shadow: 0px 1px 3px 1px rgba(0, 0, 0, 0.15);\n",
              "      filter: drop-shadow(0px 1px 2px rgba(0, 0, 0, 0.3));\n",
              "      fill: #FFFFFF;\n",
              "    }\n",
              "  </style>\n",
              "\n",
              "      <script>\n",
              "        const buttonEl =\n",
              "          document.querySelector('#df-d705d03d-6aa9-4f15-95ef-ad4dc8fc1d79 button.colab-df-convert');\n",
              "        buttonEl.style.display =\n",
              "          google.colab.kernel.accessAllowed ? 'block' : 'none';\n",
              "\n",
              "        async function convertToInteractive(key) {\n",
              "          const element = document.querySelector('#df-d705d03d-6aa9-4f15-95ef-ad4dc8fc1d79');\n",
              "          const dataTable =\n",
              "            await google.colab.kernel.invokeFunction('convertToInteractive',\n",
              "                                                     [key], {});\n",
              "          if (!dataTable) return;\n",
              "\n",
              "          const docLinkHtml = 'Like what you see? Visit the ' +\n",
              "            '<a target=\"_blank\" href=https://colab.research.google.com/notebooks/data_table.ipynb>data table notebook</a>'\n",
              "            + ' to learn more about interactive tables.';\n",
              "          element.innerHTML = '';\n",
              "          dataTable['output_type'] = 'display_data';\n",
              "          await google.colab.output.renderOutput(dataTable, element);\n",
              "          const docLink = document.createElement('div');\n",
              "          docLink.innerHTML = docLinkHtml;\n",
              "          element.appendChild(docLink);\n",
              "        }\n",
              "      </script>\n",
              "    </div>\n",
              "  </div>\n",
              "  "
            ]
          },
          "metadata": {},
          "execution_count": 8
        }
      ],
      "source": [
        "data={\n",
        "    'Package':dr['Package'][:5000],\n",
        "    'Malware':dr['Malware'][:5000],\n",
        "    'prctl':dr['prctl'][:5000],\n",
        "    'sha256':dr['sha256'][:5000],\n",
        "    'EarliestModDate':dr['EarliestModDate'][:5000],\n",
        "    'Malware':dr['Malware'][:5000],\n",
        "    'write': dr['write'][:5000],\n",
        "    'read':dr['read'][:5000],\n",
        "    'write':dr['write'][:5000],\n",
        "    'munmap':dr['munmap'][:5000],\n",
        "    'mprotect':dr['mprotect'][:5000],\n",
        "    'madvise':dr['madvise'][:5000],\n",
        "    'ioctl':dr['ioctl'][:5000],\n",
        "    'writev':dr['writev'][:5000],\n",
        "    'dup':dr['dup'][:5000],\n",
        "    'lseek':dr['lseek'][:5000],\n",
        "    'mmap2':dr['mmap2'][:5000],\n",
        "    'fstat64':dr['fstat64'][:5000],\n",
        "    'rt_sigprocmask':dr['rt_sigprocmask'][:5000],\n",
        "   'recvfrom':dr['recvfrom'][:5000],\n",
        "    'getsockopt':dr['getsockopt'][:5000],\n",
        "    'lseek':dr['lseek'][:5000],\n",
        "    'clock_gettime':dr['clock_gettime'][:5000],\n",
        "    'futex':dr['futex'][:5000],\n",
        "    'pread':dr['pread'][:5000],\n",
        "     'FilesInsideAPK':dr['FilesInsideAPK'][:5000],\n",
        "   'TimesSubmitted':dr['TimesSubmitted'][:5000],\n",
        "    'getsockopt':dr['getsockopt'][:5000],\n",
        "    'Activities':dr['Activities'][:5000],\n",
        "    'clock_gettime':dr['clock_gettime'][:5000],\n",
        "    'NrIntActivities':dr['NrIntActivities'][:5000],\n",
        "    'NrIntActivitiesActions':dr['NrIntActivitiesActions'][:5000],\n",
        "    'TotalIntentFilters':dr['TotalIntentFilters'][:5000],\n",
        "    'Scanners':dr['Scanners'][:5000],\n",
        "    'MalFamily':dr['MalFamily'][:5000]\n",
        "    }\n",
        "dg=pd.DataFrame(data)\n",
        "dg"
      ]
    },
    {
      "cell_type": "code",
      "execution_count": 9,
      "metadata": {
        "colab": {
          "base_uri": "https://localhost:8080/"
        },
        "id": "5sKxaz5JYiER",
        "outputId": "5f425e93-ad1d-4ae3-c95a-b478e170907d"
      },
      "outputs": [
        {
          "output_type": "execute_result",
          "data": {
            "text/plain": [
              "Package                      0\n",
              "Malware                      0\n",
              "prctl                        0\n",
              "sha256                       0\n",
              "EarliestModDate              0\n",
              "write                        0\n",
              "read                         0\n",
              "munmap                       0\n",
              "mprotect                     0\n",
              "madvise                      0\n",
              "ioctl                        0\n",
              "writev                       0\n",
              "dup                          0\n",
              "lseek                        0\n",
              "mmap2                        0\n",
              "fstat64                      0\n",
              "rt_sigprocmask               0\n",
              "recvfrom                     0\n",
              "getsockopt                   0\n",
              "clock_gettime                0\n",
              "futex                        0\n",
              "pread                        0\n",
              "FilesInsideAPK               0\n",
              "TimesSubmitted               0\n",
              "Activities                   0\n",
              "NrIntActivities              0\n",
              "NrIntActivitiesActions       0\n",
              "TotalIntentFilters           0\n",
              "Scanners                     0\n",
              "MalFamily                 2243\n",
              "dtype: int64"
            ]
          },
          "metadata": {},
          "execution_count": 9
        }
      ],
      "source": [
        "dg.isnull().sum()"
      ]
    },
    {
      "cell_type": "markdown",
      "metadata": {
        "id": "fMJPYJkNYmKC"
      },
      "source": []
    },
    {
      "cell_type": "code",
      "execution_count": 10,
      "metadata": {
        "id": "x91Z3GpdYm-m"
      },
      "outputs": [],
      "source": [
        "dg=dg.fillna(0)"
      ]
    },
    {
      "cell_type": "code",
      "execution_count": 11,
      "metadata": {
        "colab": {
          "base_uri": "https://localhost:8080/"
        },
        "id": "JWtkfHzGYpvj",
        "outputId": "b482e021-d4f8-4598-a299-28e7b898be63"
      },
      "outputs": [
        {
          "output_type": "execute_result",
          "data": {
            "text/plain": [
              "Package                   0\n",
              "Malware                   0\n",
              "prctl                     0\n",
              "sha256                    0\n",
              "EarliestModDate           0\n",
              "write                     0\n",
              "read                      0\n",
              "munmap                    0\n",
              "mprotect                  0\n",
              "madvise                   0\n",
              "ioctl                     0\n",
              "writev                    0\n",
              "dup                       0\n",
              "lseek                     0\n",
              "mmap2                     0\n",
              "fstat64                   0\n",
              "rt_sigprocmask            0\n",
              "recvfrom                  0\n",
              "getsockopt                0\n",
              "clock_gettime             0\n",
              "futex                     0\n",
              "pread                     0\n",
              "FilesInsideAPK            0\n",
              "TimesSubmitted            0\n",
              "Activities                0\n",
              "NrIntActivities           0\n",
              "NrIntActivitiesActions    0\n",
              "TotalIntentFilters        0\n",
              "Scanners                  0\n",
              "MalFamily                 0\n",
              "dtype: int64"
            ]
          },
          "metadata": {},
          "execution_count": 11
        }
      ],
      "source": [
        "dg.isnull().sum()"
      ]
    },
    {
      "cell_type": "code",
      "execution_count": 12,
      "metadata": {
        "colab": {
          "base_uri": "https://localhost:8080/"
        },
        "id": "PL8dQiynYwYd",
        "outputId": "cbea33df-ef56-40cb-c9b3-3054895f805a"
      },
      "outputs": [
        {
          "output_type": "execute_result",
          "data": {
            "text/plain": [
              "Package                    object\n",
              "Malware                     int64\n",
              "prctl                       int64\n",
              "sha256                     object\n",
              "EarliestModDate            object\n",
              "write                       int64\n",
              "read                        int64\n",
              "munmap                      int64\n",
              "mprotect                    int64\n",
              "madvise                     int64\n",
              "ioctl                       int64\n",
              "writev                      int64\n",
              "dup                         int64\n",
              "lseek                       int64\n",
              "mmap2                       int64\n",
              "fstat64                     int64\n",
              "rt_sigprocmask              int64\n",
              "recvfrom                    int64\n",
              "getsockopt                  int64\n",
              "clock_gettime               int64\n",
              "futex                       int64\n",
              "pread                       int64\n",
              "FilesInsideAPK            float64\n",
              "TimesSubmitted            float64\n",
              "Activities                 object\n",
              "NrIntActivities            object\n",
              "NrIntActivitiesActions     object\n",
              "TotalIntentFilters         object\n",
              "Scanners                  float64\n",
              "MalFamily                  object\n",
              "dtype: object"
            ]
          },
          "metadata": {},
          "execution_count": 12
        }
      ],
      "source": [
        "dg.dtypes"
      ]
    },
    {
      "cell_type": "code",
      "execution_count": 12,
      "metadata": {
        "id": "XJlMbG-ZWjK1"
      },
      "outputs": [],
      "source": []
    },
    {
      "cell_type": "code",
      "execution_count": 13,
      "metadata": {
        "colab": {
          "base_uri": "https://localhost:8080/"
        },
        "id": "MIb1NOkoY5HL",
        "outputId": "3bcbc26e-4303-42dd-9e99-7778cbe413e4"
      },
      "outputs": [
        {
          "output_type": "execute_result",
          "data": {
            "text/plain": [
              "Package                    object\n",
              "Malware                     int64\n",
              "prctl                       int64\n",
              "sha256                     object\n",
              "EarliestModDate            object\n",
              "write                       int64\n",
              "read                        int64\n",
              "munmap                      int64\n",
              "mprotect                    int64\n",
              "madvise                     int64\n",
              "ioctl                       int64\n",
              "writev                      int64\n",
              "dup                         int64\n",
              "lseek                       int64\n",
              "mmap2                       int64\n",
              "fstat64                     int64\n",
              "rt_sigprocmask              int64\n",
              "recvfrom                    int64\n",
              "getsockopt                  int64\n",
              "clock_gettime               int64\n",
              "futex                       int64\n",
              "pread                       int64\n",
              "FilesInsideAPK            float64\n",
              "TimesSubmitted            float64\n",
              "Activities                 object\n",
              "NrIntActivities            object\n",
              "NrIntActivitiesActions     object\n",
              "TotalIntentFilters         object\n",
              "Scanners                  float64\n",
              "MalFamily                  object\n",
              "dtype: object"
            ]
          },
          "metadata": {},
          "execution_count": 13
        }
      ],
      "source": [
        "dg.dtypes"
      ]
    },
    {
      "cell_type": "code",
      "execution_count": 14,
      "metadata": {
        "id": "eC7e9WzuWm-b"
      },
      "outputs": [],
      "source": [
        "import numpy as np\n",
        "from sklearn.preprocessing import LabelEncoder\n",
        "label_encoder = LabelEncoder()\n",
        "encoded_values = label_encoder.fit_transform(dg['MalFamily'].astype(str))\n",
        "encoded_values = encoded_values.reshape(-1, 1)\n",
        "dg['MalFamily'] = encoded_values\n",
        "dg['MalFamily'].max()\n",
        "encoded=label_encoder.fit_transform(dg['Package'].astype(str))\n",
        "dg['Package']=encoded"
      ]
    },
    {
      "cell_type": "code",
      "execution_count": 15,
      "metadata": {
        "colab": {
          "base_uri": "https://localhost:8080/"
        },
        "id": "aIrqXy4KY9dJ",
        "outputId": "7f8bed16-d777-4419-ac55-697d65820f08"
      },
      "outputs": [
        {
          "output_type": "execute_result",
          "data": {
            "text/plain": [
              "Package                   0\n",
              "Malware                   0\n",
              "prctl                     0\n",
              "sha256                    0\n",
              "EarliestModDate           0\n",
              "write                     0\n",
              "read                      0\n",
              "munmap                    0\n",
              "mprotect                  0\n",
              "madvise                   0\n",
              "ioctl                     0\n",
              "writev                    0\n",
              "dup                       0\n",
              "lseek                     0\n",
              "mmap2                     0\n",
              "fstat64                   0\n",
              "rt_sigprocmask            0\n",
              "recvfrom                  0\n",
              "getsockopt                0\n",
              "clock_gettime             0\n",
              "futex                     0\n",
              "pread                     0\n",
              "FilesInsideAPK            0\n",
              "TimesSubmitted            0\n",
              "Activities                0\n",
              "NrIntActivities           0\n",
              "NrIntActivitiesActions    0\n",
              "TotalIntentFilters        0\n",
              "Scanners                  0\n",
              "MalFamily                 0\n",
              "dtype: int64"
            ]
          },
          "metadata": {},
          "execution_count": 15
        }
      ],
      "source": [
        "dg.isnull().sum()"
      ]
    },
    {
      "cell_type": "code",
      "execution_count": 16,
      "metadata": {
        "id": "z67Od77oY_wv"
      },
      "outputs": [],
      "source": [
        "dg=dg.fillna(0)"
      ]
    },
    {
      "cell_type": "code",
      "execution_count": 17,
      "metadata": {
        "id": "v11SfGcmWq2-"
      },
      "outputs": [],
      "source": [
        "import pandas as pd"
      ]
    },
    {
      "cell_type": "code",
      "execution_count": 18,
      "metadata": {
        "id": "461JVocebFY8"
      },
      "outputs": [],
      "source": [
        "if pd.isnull(dg['EarliestModDate']).any():\n",
        "    # Handle or fill the missing values if necessary\n",
        "    dg['EarliestModDate'].fillna('fill_value', inplace=True)  # Replace 'fill_value' with an appropriate value\n",
        "# Convert the 'EarliestModDate' column to datetime\n",
        "dg['EarliestModDate'] = pd.to_datetime(dg['EarliestModDate'], errors='coerce')"
      ]
    },
    {
      "cell_type": "code",
      "execution_count": 19,
      "metadata": {
        "colab": {
          "base_uri": "https://localhost:8080/"
        },
        "id": "445_z29la4m3",
        "outputId": "f3dd21c6-d7d1-49b7-87bf-60f28283c546"
      },
      "outputs": [
        {
          "output_type": "stream",
          "name": "stdout",
          "text": [
            "datetime64[ns]\n"
          ]
        }
      ],
      "source": [
        "print(dg['EarliestModDate'].dtype)"
      ]
    },
    {
      "cell_type": "code",
      "execution_count": 20,
      "metadata": {
        "colab": {
          "base_uri": "https://localhost:8080/"
        },
        "id": "PkADvAOAZEPN",
        "outputId": "1d2ce60a-ce6e-42ee-81ff-9e88edee595f"
      },
      "outputs": [
        {
          "output_type": "execute_result",
          "data": {
            "text/plain": [
              "Package                    0\n",
              "Malware                    0\n",
              "prctl                      0\n",
              "sha256                     0\n",
              "EarliestModDate           89\n",
              "write                      0\n",
              "read                       0\n",
              "munmap                     0\n",
              "mprotect                   0\n",
              "madvise                    0\n",
              "ioctl                      0\n",
              "writev                     0\n",
              "dup                        0\n",
              "lseek                      0\n",
              "mmap2                      0\n",
              "fstat64                    0\n",
              "rt_sigprocmask             0\n",
              "recvfrom                   0\n",
              "getsockopt                 0\n",
              "clock_gettime              0\n",
              "futex                      0\n",
              "pread                      0\n",
              "FilesInsideAPK             0\n",
              "TimesSubmitted             0\n",
              "Activities                 0\n",
              "NrIntActivities            0\n",
              "NrIntActivitiesActions     0\n",
              "TotalIntentFilters         0\n",
              "Scanners                   0\n",
              "MalFamily                  0\n",
              "dtype: int64"
            ]
          },
          "metadata": {},
          "execution_count": 20
        }
      ],
      "source": [
        "dg.isnull().sum()"
      ]
    },
    {
      "cell_type": "code",
      "execution_count": 21,
      "metadata": {
        "id": "WFY0NERaZG24"
      },
      "outputs": [],
      "source": [
        "dg=dg.fillna(0)"
      ]
    },
    {
      "cell_type": "code",
      "execution_count": 22,
      "metadata": {
        "colab": {
          "base_uri": "https://localhost:8080/"
        },
        "id": "uysyVHy_ZIxn",
        "outputId": "7fd1696e-f149-4943-a164-153e45130414"
      },
      "outputs": [
        {
          "output_type": "execute_result",
          "data": {
            "text/plain": [
              "Package                   0\n",
              "Malware                   0\n",
              "prctl                     0\n",
              "sha256                    0\n",
              "EarliestModDate           0\n",
              "write                     0\n",
              "read                      0\n",
              "munmap                    0\n",
              "mprotect                  0\n",
              "madvise                   0\n",
              "ioctl                     0\n",
              "writev                    0\n",
              "dup                       0\n",
              "lseek                     0\n",
              "mmap2                     0\n",
              "fstat64                   0\n",
              "rt_sigprocmask            0\n",
              "recvfrom                  0\n",
              "getsockopt                0\n",
              "clock_gettime             0\n",
              "futex                     0\n",
              "pread                     0\n",
              "FilesInsideAPK            0\n",
              "TimesSubmitted            0\n",
              "Activities                0\n",
              "NrIntActivities           0\n",
              "NrIntActivitiesActions    0\n",
              "TotalIntentFilters        0\n",
              "Scanners                  0\n",
              "MalFamily                 0\n",
              "dtype: int64"
            ]
          },
          "metadata": {},
          "execution_count": 22
        }
      ],
      "source": [
        "dg.isnull().sum()"
      ]
    },
    {
      "cell_type": "code",
      "source": [
        "# %% [code]\n",
        "#!/usr/bin/env python\n",
        "# coding: utf-8\n",
        "# # Experiment 3: Train in batches by month and test in the next month\n",
        "import pandas as pd\n",
        "import numpy as np\n",
        "# initial year defines the training (< initial_year) and testing sets (>= initial_year)\n",
        "initial_year = \"2017-12-30\"\n",
        "# Transform submission_date in a datetime column:\n",
        "dg['EarliestModDate'] =  pd.to_datetime(dg['EarliestModDate'],errors='coerce')\n",
        "# In[7]:\n",
        "# Group data by months and create subsets to train and test:\n",
        "dataTrain =dg[dg['EarliestModDate'] <=initial_year]\n",
        "dataTest = dg[dg['EarliestModDate'] >initial_year]\n",
        "print(\"Train shape:\", dataTrain.shape)\n",
        "print(\"Test shape:\", dataTest.shape)\n",
        "# In[9]:\n",
        "\n",
        "# In[11]:\n",
        "\n",
        "\n",
        "\n",
        "\n",
        "# In[9]:\n",
        "\n",
        "\n",
        "# Feature extraction method:\n",
        "# Feature extraction method:\n",
        "def feature_extraction(X_dataTrain, X_dataTest):\n",
        "    from sklearn.feature_extraction.text import TfidfVectorizer\n",
        "    # initialize X_train and X_test\n",
        "    X_train = []\n",
        "    X_test = []\n",
        "    # save models used\n",
        "    models = []\n",
        "    # iterate over each column of X_dataTrain\n",
        "    for i in range(X_dataTrain.shape[1]):\n",
        "        # train feature word2vec using column i\n",
        "        #print(\"Training column {}...\".format(i))\n",
        "        # get train and test data\n",
        "        train_data = np.asarray(X_dataTrain[:, i], dtype=str)  # Convert to numpy array\n",
        "        test_data = np.asarray(X_dataTest[:, i], dtype=str)  # Convert to numpy array\n",
        "        # initialize and train model\n",
        "        tfidf = TfidfVectorizer(max_features=100)\n",
        "        tfidf.fit(train_data)\n",
        "        # transform train and test texts to w2v mean\n",
        "        train_tfidf = tfidf.transform(train_data).todense()\n",
        "        test_tfidf = tfidf.transform(test_data).todense()\n",
        "        # if first execution, save only features\n",
        "        if len(X_train) == 0:\n",
        "            X_train = train_tfidf\n",
        "            X_test = test_tfidf\n",
        "        # concatenate existing features\n",
        "        else:\n",
        "            X_train = np.concatenate((X_train, train_tfidf), axis=1)\n",
        "            X_test = np.concatenate((X_test, test_tfidf), axis=1)\n",
        "        # save model\n",
        "        models.append(tfidf)\n",
        "    return X_train, X_test\n",
        "\n",
        "# In[11]:\n",
        "\n",
        "\n",
        "# Normalization method:\n",
        "def normalization(X_train, X_test):\n",
        "    from sklearn.preprocessing import MinMaxScaler\n",
        "    scaler = MinMaxScaler()\n",
        "    scaler.fit(np.asarray(X_train))\n",
        "    XX_train = scaler.transform(np.asarray(X_train))\n",
        "    XX_test = scaler.transform(np.asarray(X_test))\n",
        "    return XX_train, XX_test\n",
        "\n",
        "\n",
        "\n",
        "# In[13]:\n",
        "\n",
        "\n",
        "# Iterate over months in test data:\n",
        "import numpy as np\n",
        "from sklearn.metrics import accuracy_score, f1_score, precision_score, recall_score\n",
        "#from sklearn.ensemble import RandomForestClassifier as Classifier\n",
        "from sklearn.linear_model import SGDClassifier as Classifier\n",
        "# group by year-month\n",
        "dataTestTime = dataTest.groupby([dataTest.EarliestModDate.dt.year, dataTest.EarliestModDate.dt.month])\n",
        "# get data train labels\n",
        "y_train = np.array(dataTrain[\"Malware\"])\n",
        "# remove unused columns from dataTrain\n",
        "UNUSED_COLUMNS = [\"Malware\", \"sha256\", \"EarliestModDate\"]\n",
        "for c in UNUSED_COLUMNS:\n",
        "    del dataTrain[c]\n",
        "# get dataTrain values\n",
        "X_dataTrain = dataTrain.values\n",
        "# arrays to save information\n",
        "accs = [] # accuracy\n",
        "f1s = [] # f1score\n",
        "recall = [] # recall\n",
        "precision = [] # precision\n",
        "years = []\n",
        "months = []\n",
        "# iterate over year and month\n",
        "for (year, month), dataTestMonth in dataTestTime:\n",
        "    # get data test labels\n",
        "    y_test = np.array(dataTestMonth[\"Malware\"])\n",
        "    # remove unused columns from data test\n",
        "    for c in UNUSED_COLUMNS:\n",
        "        del dataTestMonth[c]\n",
        "    # get dataTestMonth values\n",
        "    X_dataTest = dataTestMonth.values\n",
        "    # feature extraction\n",
        "    X_train, X_test = feature_extraction(X_dataTrain, X_dataTest)\n",
        "    # normalization\n",
        "    XX_train, XX_test = normalization(X_train, X_test)\n",
        "    # classifier\n",
        "    # clf = RandomForestClassifier(random_state=0)\n",
        "    clf = Classifier(random_state=0)\n",
        "    # train classifier\n",
        "    clf.fit(XX_train,y_train)\n",
        "    # predict test data\n",
        "    y_pred = clf.predict(XX_test)\n",
        "    # update train data and labels with actual month\n",
        "    X_dataTrain = np.append(X_dataTrain, X_dataTest, axis=0)\n",
        "    y_train = np.concatenate((y_train, np.array(y_test)), axis=0)\n",
        "    print(\"{}-{}\".format(year,month))\n",
        "    # save metrics\n",
        "    f1 = f1_score(y_test, y_pred)\n",
        "    acc = accuracy_score(y_test, y_pred)\n",
        "    re = recall_score(y_test, y_pred)\n",
        "    pr = precision_score(y_test, y_pred)\n",
        "    if (f1 !=0) and (re != 0) and (pr != 0):\n",
        "        accs.append(acc)\n",
        "        f1s.append(f1)\n",
        "        recall.append(re)\n",
        "        precision.append(pr)\n",
        "        years.append(year)\n",
        "        months.append(month)\n",
        "        print(acc)\n",
        "\n",
        "\n"
      ],
      "metadata": {
        "colab": {
          "base_uri": "https://localhost:8080/"
        },
        "id": "KFlqCjPXcx_t",
        "outputId": "78627bbb-7992-4fd0-e52b-0b812b271439"
      },
      "execution_count": 44,
      "outputs": [
        {
          "output_type": "stream",
          "name": "stdout",
          "text": [
            "Train shape: (4745, 30)\n",
            "Test shape: (166, 30)\n",
            "2017-12\n",
            "1.0\n",
            "2018-1\n",
            "0.5294117647058824\n",
            "2018-2\n",
            "0.9545454545454546\n",
            "2018-3\n",
            "0.9047619047619048\n",
            "2018-4\n",
            "1.0\n",
            "2018-5\n",
            "0.88\n",
            "2018-6\n",
            "0.8888888888888888\n",
            "2018-7\n",
            "0.3333333333333333\n",
            "2018-8\n"
          ]
        },
        {
          "output_type": "stream",
          "name": "stderr",
          "text": [
            "/usr/local/lib/python3.10/dist-packages/sklearn/metrics/_classification.py:1344: UndefinedMetricWarning: Precision is ill-defined and being set to 0.0 due to no predicted samples. Use `zero_division` parameter to control this behavior.\n",
            "  _warn_prf(average, modifier, msg_start, len(result))\n"
          ]
        },
        {
          "output_type": "stream",
          "name": "stdout",
          "text": [
            "2018-9\n"
          ]
        },
        {
          "output_type": "stream",
          "name": "stderr",
          "text": [
            "/usr/local/lib/python3.10/dist-packages/sklearn/metrics/_classification.py:1609: UndefinedMetricWarning: F-score is ill-defined and being set to 0.0 due to no true nor predicted samples. Use `zero_division` parameter to control this behavior.\n",
            "  _warn_prf(average, \"true nor predicted\", \"F-score is\", len(true_sum))\n",
            "/usr/local/lib/python3.10/dist-packages/sklearn/metrics/_classification.py:1344: UndefinedMetricWarning: Recall is ill-defined and being set to 0.0 due to no true samples. Use `zero_division` parameter to control this behavior.\n",
            "  _warn_prf(average, modifier, msg_start, len(result))\n",
            "/usr/local/lib/python3.10/dist-packages/sklearn/metrics/_classification.py:1344: UndefinedMetricWarning: Precision is ill-defined and being set to 0.0 due to no predicted samples. Use `zero_division` parameter to control this behavior.\n",
            "  _warn_prf(average, modifier, msg_start, len(result))\n"
          ]
        },
        {
          "output_type": "stream",
          "name": "stdout",
          "text": [
            "2018-10\n",
            "0.5\n",
            "2018-11\n"
          ]
        },
        {
          "output_type": "stream",
          "name": "stderr",
          "text": [
            "/usr/local/lib/python3.10/dist-packages/sklearn/metrics/_classification.py:1609: UndefinedMetricWarning: F-score is ill-defined and being set to 0.0 due to no true nor predicted samples. Use `zero_division` parameter to control this behavior.\n",
            "  _warn_prf(average, \"true nor predicted\", \"F-score is\", len(true_sum))\n",
            "/usr/local/lib/python3.10/dist-packages/sklearn/metrics/_classification.py:1344: UndefinedMetricWarning: Recall is ill-defined and being set to 0.0 due to no true samples. Use `zero_division` parameter to control this behavior.\n",
            "  _warn_prf(average, modifier, msg_start, len(result))\n",
            "/usr/local/lib/python3.10/dist-packages/sklearn/metrics/_classification.py:1344: UndefinedMetricWarning: Precision is ill-defined and being set to 0.0 due to no predicted samples. Use `zero_division` parameter to control this behavior.\n",
            "  _warn_prf(average, modifier, msg_start, len(result))\n"
          ]
        },
        {
          "output_type": "stream",
          "name": "stdout",
          "text": [
            "2019-3\n"
          ]
        },
        {
          "output_type": "stream",
          "name": "stderr",
          "text": [
            "/usr/local/lib/python3.10/dist-packages/sklearn/metrics/_classification.py:1344: UndefinedMetricWarning: Precision is ill-defined and being set to 0.0 due to no predicted samples. Use `zero_division` parameter to control this behavior.\n",
            "  _warn_prf(average, modifier, msg_start, len(result))\n"
          ]
        },
        {
          "output_type": "stream",
          "name": "stdout",
          "text": [
            "2019-5\n",
            "0.5\n",
            "2019-10\n",
            "1.0\n",
            "2019-11\n",
            "0.2\n",
            "2020-4\n",
            "0.6\n",
            "2020-5\n",
            "0.8333333333333334\n",
            "2020-6\n",
            "1.0\n",
            "2020-11\n",
            "1.0\n",
            "2107-11\n"
          ]
        },
        {
          "output_type": "stream",
          "name": "stderr",
          "text": [
            "/usr/local/lib/python3.10/dist-packages/sklearn/metrics/_classification.py:1609: UndefinedMetricWarning: F-score is ill-defined and being set to 0.0 due to no true nor predicted samples. Use `zero_division` parameter to control this behavior.\n",
            "  _warn_prf(average, \"true nor predicted\", \"F-score is\", len(true_sum))\n",
            "/usr/local/lib/python3.10/dist-packages/sklearn/metrics/_classification.py:1344: UndefinedMetricWarning: Recall is ill-defined and being set to 0.0 due to no true samples. Use `zero_division` parameter to control this behavior.\n",
            "  _warn_prf(average, modifier, msg_start, len(result))\n",
            "/usr/local/lib/python3.10/dist-packages/sklearn/metrics/_classification.py:1344: UndefinedMetricWarning: Precision is ill-defined and being set to 0.0 due to no predicted samples. Use `zero_division` parameter to control this behavior.\n",
            "  _warn_prf(average, modifier, msg_start, len(result))\n"
          ]
        }
      ]
    },
    {
      "cell_type": "code",
      "source": [],
      "metadata": {
        "id": "TDmrFmREdVyk"
      },
      "execution_count": null,
      "outputs": []
    }
  ],
  "metadata": {
    "colab": {
      "provenance": []
    },
    "kernelspec": {
      "display_name": "Python 3",
      "name": "python3"
    },
    "language_info": {
      "name": "python"
    }
  },
  "nbformat": 4,
  "nbformat_minor": 0
}