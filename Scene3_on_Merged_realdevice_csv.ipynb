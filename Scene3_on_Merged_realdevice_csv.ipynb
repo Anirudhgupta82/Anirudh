{
  "cells": [
    {
      "cell_type": "code",
      "execution_count": 2,
      "metadata": {
        "id": "gCEIBafYVzBx"
      },
      "outputs": [],
      "source": [
        "import pandas as pd\n",
        "import numpy as np\n",
        "import matplotlib.pyplot as plt\n",
        "import seaborn as sns\n",
        "from sklearn.model_selection import train_test_split\n",
        "from sklearn.metrics import classification_report, roc_curve, roc_auc_score\n",
        "from sklearn import metrics\n",
        "from sklearn.linear_model import LogisticRegression\n",
        "from sklearn.tree import DecisionTreeClassifier\n",
        "from sklearn.ensemble import RandomForestClassifier\n",
        "from sklearn.metrics import accuracy_score\n",
        "import scipy\n",
        "import joblib\n",
        "import os"
      ]
    },
    {
      "cell_type": "code",
      "execution_count": 3,
      "metadata": {
        "id": "P5ccYguwWSn9"
      },
      "outputs": [],
      "source": [
        "dx=pd.read_csv('/content/real_legitimate_v1.csv')"
      ]
    },
    {
      "cell_type": "code",
      "execution_count": 4,
      "metadata": {
        "id": "SKa6qqhWWURc"
      },
      "outputs": [],
      "source": [
        "dy=pd.read_csv('/content/real_malware_v1.csv')"
      ]
    },
    {
      "cell_type": "code",
      "execution_count": 5,
      "metadata": {
        "id": "SxxLmjbOWYYv"
      },
      "outputs": [],
      "source": [
        "df = pd.concat([dx, dy], ignore_index=True)\n",
        "df.to_csv('combined.csv', index=False)"
      ]
    },
    {
      "cell_type": "code",
      "execution_count": 6,
      "metadata": {
        "id": "IphEX_c_Wact"
      },
      "outputs": [],
      "source": [
        "df = df.sample(frac=1).reset_index(drop=True)\n",
        "df=df.to_csv('shuffled_dataset.csv', index=False)"
      ]
    },
    {
      "cell_type": "code",
      "execution_count": 7,
      "metadata": {
        "id": "JbT5pVQyWcdO"
      },
      "outputs": [],
      "source": [
        "dr=pd.read_csv('/content/shuffled_dataset.csv')"
      ]
    },
    {
      "cell_type": "code",
      "execution_count": 8,
      "metadata": {
        "colab": {
          "base_uri": "https://localhost:8080/",
          "height": 505
        },
        "id": "dOpbZDHVWfsW",
        "outputId": "506d381b-e236-4e9b-b153-583a87423b5f"
      },
      "outputs": [
        {
          "output_type": "execute_result",
          "data": {
            "text/plain": [
              "                                Package  Malware  prctl  \\\n",
              "0      com.mrselected.scholarship.fin\\n        0     83   \n",
              "1             com.JSanders.LabTimerSE\\n        0      3   \n",
              "2       com.android.security.widkdof8\\n        1    228   \n",
              "3                      com.yje.ujdepd\\n        1    504   \n",
              "4     eu.borzaindustries.girls_memory\\n        0      3   \n",
              "...                                 ...      ...    ...   \n",
              "4995          com.SKTPDF.MRstomachEng\\n        0      5   \n",
              "4996    net.qiixiao.android.nosomking\\n        1  21003   \n",
              "4997       gerald0921.game.basketball\\n        1    130   \n",
              "4998            com.pearsestreet.Todo\\n        0      0   \n",
              "4999               com.universalbytes\\n        1    198   \n",
              "\n",
              "                                                 sha256 EarliestModDate  \\\n",
              "0     40f89565f035513cca24c7f92ba2dc0670399aff776774...       3/20/2011   \n",
              "1     2f5ba7c631f1232aca7be9de8b3906a56e3e4fec2cdf46...       7/18/2010   \n",
              "2     71f9857e366b11181a28c846e783c88a427c509007422c...        9/5/2015   \n",
              "3     6e0495ee8a19a298b9a7416363727f59301af63441cfb0...       6/12/2017   \n",
              "4     a19207b0529ad348ce7ab43a528cab2c13e99e42b16c7b...      11/24/2010   \n",
              "...                                                 ...             ...   \n",
              "4995  f434fbed01865d0268c7ceeddca67805f5ecbd5b9f4d2e...       3/27/2011   \n",
              "4996  e37d6bc04156b75b8db19a6db8ce4473931ed953e94527...       6/29/2011   \n",
              "4997  7d8ef4c88f1e3e60ea9b426fb38f696aeaa6f9db6145f2...      11/22/2010   \n",
              "4998  8938019b38519221d7326c6e5c1b724e9f9bda262da9e0...       1/10/2011   \n",
              "4999  f8a4d98f8fa803088a886a3a53b46ce2d60d307b2d993b...       1/19/2016   \n",
              "\n",
              "      write  read  munmap  mprotect  madvise  ...  futex  pread  \\\n",
              "0         9    14      53       593       41  ...    106     72   \n",
              "1         4     2       0         2        2  ...      4      0   \n",
              "2       207   184      98      1406       84  ...    425    100   \n",
              "3       475   416     293      2706      291  ...    913    278   \n",
              "4         3     2       0         2        2  ...      3      0   \n",
              "...     ...   ...     ...       ...      ...  ...    ...    ...   \n",
              "4995      2     2      28         4        4  ...      3     56   \n",
              "4996      3  6301      40     14158    14008  ...   7817      5   \n",
              "4997     28     7      29       880       27  ...     54      5   \n",
              "4998      1     2       1         0        0  ...      0      2   \n",
              "4999    965   300     920      2250      136  ...   1320   1519   \n",
              "\n",
              "      FilesInsideAPK  TimesSubmitted  Activities  NrIntActivities  \\\n",
              "0               23.0             6.0           2                1   \n",
              "1               67.0             7.0           4                1   \n",
              "2                9.0             6.0           2                2   \n",
              "3              340.0             3.0           8                3   \n",
              "4              100.0             5.0           9                1   \n",
              "...              ...             ...         ...              ...   \n",
              "4995           323.0             4.0          13                1   \n",
              "4996            58.0             9.0           6                1   \n",
              "4997            90.0             5.0           7                2   \n",
              "4998            31.0            10.0           1                1   \n",
              "4999           406.0             2.0        None             None   \n",
              "\n",
              "      NrIntActivitiesActions  TotalIntentFilters  Scanners  \\\n",
              "0                          1                   1      66.0   \n",
              "1                          1                   1      66.0   \n",
              "2                          2                   5      65.0   \n",
              "3                          3                  14      65.0   \n",
              "4                          1                   1      66.0   \n",
              "...                      ...                 ...       ...   \n",
              "4995                       1                   1      65.0   \n",
              "4996                       1                   1      66.0   \n",
              "4997                       2                   2      67.0   \n",
              "4998                       1                   1      63.0   \n",
              "4999                    None                None      66.0   \n",
              "\n",
              "                      MalFamily  \n",
              "0                           NaN  \n",
              "1                           NaN  \n",
              "2     Locker/SLocker Ransomware  \n",
              "3                        SMSreg  \n",
              "4                           NaN  \n",
              "...                         ...  \n",
              "4995                        NaN  \n",
              "4996                   Gappusin  \n",
              "4997            Airpush/StopSMS  \n",
              "4998                        NaN  \n",
              "4999                    SMSSend  \n",
              "\n",
              "[5000 rows x 30 columns]"
            ],
            "text/html": [
              "\n",
              "  <div id=\"df-1be26ecd-bf31-4ef2-b7f5-3a24e108e13f\">\n",
              "    <div class=\"colab-df-container\">\n",
              "      <div>\n",
              "<style scoped>\n",
              "    .dataframe tbody tr th:only-of-type {\n",
              "        vertical-align: middle;\n",
              "    }\n",
              "\n",
              "    .dataframe tbody tr th {\n",
              "        vertical-align: top;\n",
              "    }\n",
              "\n",
              "    .dataframe thead th {\n",
              "        text-align: right;\n",
              "    }\n",
              "</style>\n",
              "<table border=\"1\" class=\"dataframe\">\n",
              "  <thead>\n",
              "    <tr style=\"text-align: right;\">\n",
              "      <th></th>\n",
              "      <th>Package</th>\n",
              "      <th>Malware</th>\n",
              "      <th>prctl</th>\n",
              "      <th>sha256</th>\n",
              "      <th>EarliestModDate</th>\n",
              "      <th>write</th>\n",
              "      <th>read</th>\n",
              "      <th>munmap</th>\n",
              "      <th>mprotect</th>\n",
              "      <th>madvise</th>\n",
              "      <th>...</th>\n",
              "      <th>futex</th>\n",
              "      <th>pread</th>\n",
              "      <th>FilesInsideAPK</th>\n",
              "      <th>TimesSubmitted</th>\n",
              "      <th>Activities</th>\n",
              "      <th>NrIntActivities</th>\n",
              "      <th>NrIntActivitiesActions</th>\n",
              "      <th>TotalIntentFilters</th>\n",
              "      <th>Scanners</th>\n",
              "      <th>MalFamily</th>\n",
              "    </tr>\n",
              "  </thead>\n",
              "  <tbody>\n",
              "    <tr>\n",
              "      <th>0</th>\n",
              "      <td>com.mrselected.scholarship.fin\\n</td>\n",
              "      <td>0</td>\n",
              "      <td>83</td>\n",
              "      <td>40f89565f035513cca24c7f92ba2dc0670399aff776774...</td>\n",
              "      <td>3/20/2011</td>\n",
              "      <td>9</td>\n",
              "      <td>14</td>\n",
              "      <td>53</td>\n",
              "      <td>593</td>\n",
              "      <td>41</td>\n",
              "      <td>...</td>\n",
              "      <td>106</td>\n",
              "      <td>72</td>\n",
              "      <td>23.0</td>\n",
              "      <td>6.0</td>\n",
              "      <td>2</td>\n",
              "      <td>1</td>\n",
              "      <td>1</td>\n",
              "      <td>1</td>\n",
              "      <td>66.0</td>\n",
              "      <td>NaN</td>\n",
              "    </tr>\n",
              "    <tr>\n",
              "      <th>1</th>\n",
              "      <td>com.JSanders.LabTimerSE\\n</td>\n",
              "      <td>0</td>\n",
              "      <td>3</td>\n",
              "      <td>2f5ba7c631f1232aca7be9de8b3906a56e3e4fec2cdf46...</td>\n",
              "      <td>7/18/2010</td>\n",
              "      <td>4</td>\n",
              "      <td>2</td>\n",
              "      <td>0</td>\n",
              "      <td>2</td>\n",
              "      <td>2</td>\n",
              "      <td>...</td>\n",
              "      <td>4</td>\n",
              "      <td>0</td>\n",
              "      <td>67.0</td>\n",
              "      <td>7.0</td>\n",
              "      <td>4</td>\n",
              "      <td>1</td>\n",
              "      <td>1</td>\n",
              "      <td>1</td>\n",
              "      <td>66.0</td>\n",
              "      <td>NaN</td>\n",
              "    </tr>\n",
              "    <tr>\n",
              "      <th>2</th>\n",
              "      <td>com.android.security.widkdof8\\n</td>\n",
              "      <td>1</td>\n",
              "      <td>228</td>\n",
              "      <td>71f9857e366b11181a28c846e783c88a427c509007422c...</td>\n",
              "      <td>9/5/2015</td>\n",
              "      <td>207</td>\n",
              "      <td>184</td>\n",
              "      <td>98</td>\n",
              "      <td>1406</td>\n",
              "      <td>84</td>\n",
              "      <td>...</td>\n",
              "      <td>425</td>\n",
              "      <td>100</td>\n",
              "      <td>9.0</td>\n",
              "      <td>6.0</td>\n",
              "      <td>2</td>\n",
              "      <td>2</td>\n",
              "      <td>2</td>\n",
              "      <td>5</td>\n",
              "      <td>65.0</td>\n",
              "      <td>Locker/SLocker Ransomware</td>\n",
              "    </tr>\n",
              "    <tr>\n",
              "      <th>3</th>\n",
              "      <td>com.yje.ujdepd\\n</td>\n",
              "      <td>1</td>\n",
              "      <td>504</td>\n",
              "      <td>6e0495ee8a19a298b9a7416363727f59301af63441cfb0...</td>\n",
              "      <td>6/12/2017</td>\n",
              "      <td>475</td>\n",
              "      <td>416</td>\n",
              "      <td>293</td>\n",
              "      <td>2706</td>\n",
              "      <td>291</td>\n",
              "      <td>...</td>\n",
              "      <td>913</td>\n",
              "      <td>278</td>\n",
              "      <td>340.0</td>\n",
              "      <td>3.0</td>\n",
              "      <td>8</td>\n",
              "      <td>3</td>\n",
              "      <td>3</td>\n",
              "      <td>14</td>\n",
              "      <td>65.0</td>\n",
              "      <td>SMSreg</td>\n",
              "    </tr>\n",
              "    <tr>\n",
              "      <th>4</th>\n",
              "      <td>eu.borzaindustries.girls_memory\\n</td>\n",
              "      <td>0</td>\n",
              "      <td>3</td>\n",
              "      <td>a19207b0529ad348ce7ab43a528cab2c13e99e42b16c7b...</td>\n",
              "      <td>11/24/2010</td>\n",
              "      <td>3</td>\n",
              "      <td>2</td>\n",
              "      <td>0</td>\n",
              "      <td>2</td>\n",
              "      <td>2</td>\n",
              "      <td>...</td>\n",
              "      <td>3</td>\n",
              "      <td>0</td>\n",
              "      <td>100.0</td>\n",
              "      <td>5.0</td>\n",
              "      <td>9</td>\n",
              "      <td>1</td>\n",
              "      <td>1</td>\n",
              "      <td>1</td>\n",
              "      <td>66.0</td>\n",
              "      <td>NaN</td>\n",
              "    </tr>\n",
              "    <tr>\n",
              "      <th>...</th>\n",
              "      <td>...</td>\n",
              "      <td>...</td>\n",
              "      <td>...</td>\n",
              "      <td>...</td>\n",
              "      <td>...</td>\n",
              "      <td>...</td>\n",
              "      <td>...</td>\n",
              "      <td>...</td>\n",
              "      <td>...</td>\n",
              "      <td>...</td>\n",
              "      <td>...</td>\n",
              "      <td>...</td>\n",
              "      <td>...</td>\n",
              "      <td>...</td>\n",
              "      <td>...</td>\n",
              "      <td>...</td>\n",
              "      <td>...</td>\n",
              "      <td>...</td>\n",
              "      <td>...</td>\n",
              "      <td>...</td>\n",
              "      <td>...</td>\n",
              "    </tr>\n",
              "    <tr>\n",
              "      <th>4995</th>\n",
              "      <td>com.SKTPDF.MRstomachEng\\n</td>\n",
              "      <td>0</td>\n",
              "      <td>5</td>\n",
              "      <td>f434fbed01865d0268c7ceeddca67805f5ecbd5b9f4d2e...</td>\n",
              "      <td>3/27/2011</td>\n",
              "      <td>2</td>\n",
              "      <td>2</td>\n",
              "      <td>28</td>\n",
              "      <td>4</td>\n",
              "      <td>4</td>\n",
              "      <td>...</td>\n",
              "      <td>3</td>\n",
              "      <td>56</td>\n",
              "      <td>323.0</td>\n",
              "      <td>4.0</td>\n",
              "      <td>13</td>\n",
              "      <td>1</td>\n",
              "      <td>1</td>\n",
              "      <td>1</td>\n",
              "      <td>65.0</td>\n",
              "      <td>NaN</td>\n",
              "    </tr>\n",
              "    <tr>\n",
              "      <th>4996</th>\n",
              "      <td>net.qiixiao.android.nosomking\\n</td>\n",
              "      <td>1</td>\n",
              "      <td>21003</td>\n",
              "      <td>e37d6bc04156b75b8db19a6db8ce4473931ed953e94527...</td>\n",
              "      <td>6/29/2011</td>\n",
              "      <td>3</td>\n",
              "      <td>6301</td>\n",
              "      <td>40</td>\n",
              "      <td>14158</td>\n",
              "      <td>14008</td>\n",
              "      <td>...</td>\n",
              "      <td>7817</td>\n",
              "      <td>5</td>\n",
              "      <td>58.0</td>\n",
              "      <td>9.0</td>\n",
              "      <td>6</td>\n",
              "      <td>1</td>\n",
              "      <td>1</td>\n",
              "      <td>1</td>\n",
              "      <td>66.0</td>\n",
              "      <td>Gappusin</td>\n",
              "    </tr>\n",
              "    <tr>\n",
              "      <th>4997</th>\n",
              "      <td>gerald0921.game.basketball\\n</td>\n",
              "      <td>1</td>\n",
              "      <td>130</td>\n",
              "      <td>7d8ef4c88f1e3e60ea9b426fb38f696aeaa6f9db6145f2...</td>\n",
              "      <td>11/22/2010</td>\n",
              "      <td>28</td>\n",
              "      <td>7</td>\n",
              "      <td>29</td>\n",
              "      <td>880</td>\n",
              "      <td>27</td>\n",
              "      <td>...</td>\n",
              "      <td>54</td>\n",
              "      <td>5</td>\n",
              "      <td>90.0</td>\n",
              "      <td>5.0</td>\n",
              "      <td>7</td>\n",
              "      <td>2</td>\n",
              "      <td>2</td>\n",
              "      <td>2</td>\n",
              "      <td>67.0</td>\n",
              "      <td>Airpush/StopSMS</td>\n",
              "    </tr>\n",
              "    <tr>\n",
              "      <th>4998</th>\n",
              "      <td>com.pearsestreet.Todo\\n</td>\n",
              "      <td>0</td>\n",
              "      <td>0</td>\n",
              "      <td>8938019b38519221d7326c6e5c1b724e9f9bda262da9e0...</td>\n",
              "      <td>1/10/2011</td>\n",
              "      <td>1</td>\n",
              "      <td>2</td>\n",
              "      <td>1</td>\n",
              "      <td>0</td>\n",
              "      <td>0</td>\n",
              "      <td>...</td>\n",
              "      <td>0</td>\n",
              "      <td>2</td>\n",
              "      <td>31.0</td>\n",
              "      <td>10.0</td>\n",
              "      <td>1</td>\n",
              "      <td>1</td>\n",
              "      <td>1</td>\n",
              "      <td>1</td>\n",
              "      <td>63.0</td>\n",
              "      <td>NaN</td>\n",
              "    </tr>\n",
              "    <tr>\n",
              "      <th>4999</th>\n",
              "      <td>com.universalbytes\\n</td>\n",
              "      <td>1</td>\n",
              "      <td>198</td>\n",
              "      <td>f8a4d98f8fa803088a886a3a53b46ce2d60d307b2d993b...</td>\n",
              "      <td>1/19/2016</td>\n",
              "      <td>965</td>\n",
              "      <td>300</td>\n",
              "      <td>920</td>\n",
              "      <td>2250</td>\n",
              "      <td>136</td>\n",
              "      <td>...</td>\n",
              "      <td>1320</td>\n",
              "      <td>1519</td>\n",
              "      <td>406.0</td>\n",
              "      <td>2.0</td>\n",
              "      <td>None</td>\n",
              "      <td>None</td>\n",
              "      <td>None</td>\n",
              "      <td>None</td>\n",
              "      <td>66.0</td>\n",
              "      <td>SMSSend</td>\n",
              "    </tr>\n",
              "  </tbody>\n",
              "</table>\n",
              "<p>5000 rows × 30 columns</p>\n",
              "</div>\n",
              "      <button class=\"colab-df-convert\" onclick=\"convertToInteractive('df-1be26ecd-bf31-4ef2-b7f5-3a24e108e13f')\"\n",
              "              title=\"Convert this dataframe to an interactive table.\"\n",
              "              style=\"display:none;\">\n",
              "        \n",
              "  <svg xmlns=\"http://www.w3.org/2000/svg\" height=\"24px\"viewBox=\"0 0 24 24\"\n",
              "       width=\"24px\">\n",
              "    <path d=\"M0 0h24v24H0V0z\" fill=\"none\"/>\n",
              "    <path d=\"M18.56 5.44l.94 2.06.94-2.06 2.06-.94-2.06-.94-.94-2.06-.94 2.06-2.06.94zm-11 1L8.5 8.5l.94-2.06 2.06-.94-2.06-.94L8.5 2.5l-.94 2.06-2.06.94zm10 10l.94 2.06.94-2.06 2.06-.94-2.06-.94-.94-2.06-.94 2.06-2.06.94z\"/><path d=\"M17.41 7.96l-1.37-1.37c-.4-.4-.92-.59-1.43-.59-.52 0-1.04.2-1.43.59L10.3 9.45l-7.72 7.72c-.78.78-.78 2.05 0 2.83L4 21.41c.39.39.9.59 1.41.59.51 0 1.02-.2 1.41-.59l7.78-7.78 2.81-2.81c.8-.78.8-2.07 0-2.86zM5.41 20L4 18.59l7.72-7.72 1.47 1.35L5.41 20z\"/>\n",
              "  </svg>\n",
              "      </button>\n",
              "      \n",
              "  <style>\n",
              "    .colab-df-container {\n",
              "      display:flex;\n",
              "      flex-wrap:wrap;\n",
              "      gap: 12px;\n",
              "    }\n",
              "\n",
              "    .colab-df-convert {\n",
              "      background-color: #E8F0FE;\n",
              "      border: none;\n",
              "      border-radius: 50%;\n",
              "      cursor: pointer;\n",
              "      display: none;\n",
              "      fill: #1967D2;\n",
              "      height: 32px;\n",
              "      padding: 0 0 0 0;\n",
              "      width: 32px;\n",
              "    }\n",
              "\n",
              "    .colab-df-convert:hover {\n",
              "      background-color: #E2EBFA;\n",
              "      box-shadow: 0px 1px 2px rgba(60, 64, 67, 0.3), 0px 1px 3px 1px rgba(60, 64, 67, 0.15);\n",
              "      fill: #174EA6;\n",
              "    }\n",
              "\n",
              "    [theme=dark] .colab-df-convert {\n",
              "      background-color: #3B4455;\n",
              "      fill: #D2E3FC;\n",
              "    }\n",
              "\n",
              "    [theme=dark] .colab-df-convert:hover {\n",
              "      background-color: #434B5C;\n",
              "      box-shadow: 0px 1px 3px 1px rgba(0, 0, 0, 0.15);\n",
              "      filter: drop-shadow(0px 1px 2px rgba(0, 0, 0, 0.3));\n",
              "      fill: #FFFFFF;\n",
              "    }\n",
              "  </style>\n",
              "\n",
              "      <script>\n",
              "        const buttonEl =\n",
              "          document.querySelector('#df-1be26ecd-bf31-4ef2-b7f5-3a24e108e13f button.colab-df-convert');\n",
              "        buttonEl.style.display =\n",
              "          google.colab.kernel.accessAllowed ? 'block' : 'none';\n",
              "\n",
              "        async function convertToInteractive(key) {\n",
              "          const element = document.querySelector('#df-1be26ecd-bf31-4ef2-b7f5-3a24e108e13f');\n",
              "          const dataTable =\n",
              "            await google.colab.kernel.invokeFunction('convertToInteractive',\n",
              "                                                     [key], {});\n",
              "          if (!dataTable) return;\n",
              "\n",
              "          const docLinkHtml = 'Like what you see? Visit the ' +\n",
              "            '<a target=\"_blank\" href=https://colab.research.google.com/notebooks/data_table.ipynb>data table notebook</a>'\n",
              "            + ' to learn more about interactive tables.';\n",
              "          element.innerHTML = '';\n",
              "          dataTable['output_type'] = 'display_data';\n",
              "          await google.colab.output.renderOutput(dataTable, element);\n",
              "          const docLink = document.createElement('div');\n",
              "          docLink.innerHTML = docLinkHtml;\n",
              "          element.appendChild(docLink);\n",
              "        }\n",
              "      </script>\n",
              "    </div>\n",
              "  </div>\n",
              "  "
            ]
          },
          "metadata": {},
          "execution_count": 8
        }
      ],
      "source": [
        "data={\n",
        "    'Package':dr['Package'][:5000],\n",
        "    'Malware':dr['Malware'][:5000],\n",
        "    'prctl':dr['prctl'][:5000],\n",
        "    'sha256':dr['sha256'][:5000],\n",
        "    'EarliestModDate':dr['EarliestModDate'][:5000],\n",
        "    'Malware':dr['Malware'][:5000],\n",
        "    'write': dr['write'][:5000],\n",
        "    'read':dr['read'][:5000],\n",
        "    'write':dr['write'][:5000],\n",
        "    'munmap':dr['munmap'][:5000],\n",
        "    'mprotect':dr['mprotect'][:5000],\n",
        "    'madvise':dr['madvise'][:5000],\n",
        "    'ioctl':dr['ioctl'][:5000],\n",
        "    'writev':dr['writev'][:5000],\n",
        "    'dup':dr['dup'][:5000],\n",
        "    'lseek':dr['lseek'][:5000],\n",
        "    'mmap2':dr['mmap2'][:5000],\n",
        "    'fstat64':dr['fstat64'][:5000],\n",
        "    'rt_sigprocmask':dr['rt_sigprocmask'][:5000],\n",
        "   'recvfrom':dr['recvfrom'][:5000],\n",
        "    'getsockopt':dr['getsockopt'][:5000],\n",
        "    'lseek':dr['lseek'][:5000],\n",
        "    'clock_gettime':dr['clock_gettime'][:5000],\n",
        "    'futex':dr['futex'][:5000],\n",
        "    'pread':dr['pread'][:5000],\n",
        "     'FilesInsideAPK':dr['FilesInsideAPK'][:5000],\n",
        "   'TimesSubmitted':dr['TimesSubmitted'][:5000],\n",
        "    'getsockopt':dr['getsockopt'][:5000],\n",
        "    'Activities':dr['Activities'][:5000],\n",
        "    'clock_gettime':dr['clock_gettime'][:5000],\n",
        "    'NrIntActivities':dr['NrIntActivities'][:5000],\n",
        "    'NrIntActivitiesActions':dr['NrIntActivitiesActions'][:5000],\n",
        "    'TotalIntentFilters':dr['TotalIntentFilters'][:5000],\n",
        "    'Scanners':dr['Scanners'][:5000],\n",
        "    'MalFamily':dr['MalFamily'][:5000]\n",
        "    }\n",
        "dg=pd.DataFrame(data)\n",
        "dg"
      ]
    },
    {
      "cell_type": "code",
      "execution_count": 9,
      "metadata": {
        "colab": {
          "base_uri": "https://localhost:8080/"
        },
        "id": "5sKxaz5JYiER",
        "outputId": "ab2850a2-4c7e-402d-e465-066606540b80"
      },
      "outputs": [
        {
          "output_type": "execute_result",
          "data": {
            "text/plain": [
              "Package                      0\n",
              "Malware                      0\n",
              "prctl                        0\n",
              "sha256                       1\n",
              "EarliestModDate              1\n",
              "write                        0\n",
              "read                         0\n",
              "munmap                       0\n",
              "mprotect                     0\n",
              "madvise                      0\n",
              "ioctl                        0\n",
              "writev                       0\n",
              "dup                          0\n",
              "lseek                        0\n",
              "mmap2                        0\n",
              "fstat64                      0\n",
              "rt_sigprocmask               0\n",
              "recvfrom                     0\n",
              "getsockopt                   0\n",
              "clock_gettime                0\n",
              "futex                        0\n",
              "pread                        0\n",
              "FilesInsideAPK               1\n",
              "TimesSubmitted               1\n",
              "Activities                   1\n",
              "NrIntActivities              1\n",
              "NrIntActivitiesActions       1\n",
              "TotalIntentFilters           1\n",
              "Scanners                     1\n",
              "MalFamily                 2203\n",
              "dtype: int64"
            ]
          },
          "metadata": {},
          "execution_count": 9
        }
      ],
      "source": [
        "dg.isnull().sum()"
      ]
    },
    {
      "cell_type": "markdown",
      "metadata": {
        "id": "fMJPYJkNYmKC"
      },
      "source": []
    },
    {
      "cell_type": "code",
      "execution_count": 10,
      "metadata": {
        "id": "x91Z3GpdYm-m"
      },
      "outputs": [],
      "source": [
        "dg=dg.fillna(0)"
      ]
    },
    {
      "cell_type": "code",
      "execution_count": 11,
      "metadata": {
        "colab": {
          "base_uri": "https://localhost:8080/"
        },
        "id": "JWtkfHzGYpvj",
        "outputId": "59596cb0-4b0c-4ca7-88e6-2192cd71046c"
      },
      "outputs": [
        {
          "output_type": "execute_result",
          "data": {
            "text/plain": [
              "Package                   0\n",
              "Malware                   0\n",
              "prctl                     0\n",
              "sha256                    0\n",
              "EarliestModDate           0\n",
              "write                     0\n",
              "read                      0\n",
              "munmap                    0\n",
              "mprotect                  0\n",
              "madvise                   0\n",
              "ioctl                     0\n",
              "writev                    0\n",
              "dup                       0\n",
              "lseek                     0\n",
              "mmap2                     0\n",
              "fstat64                   0\n",
              "rt_sigprocmask            0\n",
              "recvfrom                  0\n",
              "getsockopt                0\n",
              "clock_gettime             0\n",
              "futex                     0\n",
              "pread                     0\n",
              "FilesInsideAPK            0\n",
              "TimesSubmitted            0\n",
              "Activities                0\n",
              "NrIntActivities           0\n",
              "NrIntActivitiesActions    0\n",
              "TotalIntentFilters        0\n",
              "Scanners                  0\n",
              "MalFamily                 0\n",
              "dtype: int64"
            ]
          },
          "metadata": {},
          "execution_count": 11
        }
      ],
      "source": [
        "dg.isnull().sum()"
      ]
    },
    {
      "cell_type": "code",
      "execution_count": 12,
      "metadata": {
        "colab": {
          "base_uri": "https://localhost:8080/"
        },
        "id": "PL8dQiynYwYd",
        "outputId": "da937c6d-80c4-4b5a-bce8-0793884f729c"
      },
      "outputs": [
        {
          "output_type": "execute_result",
          "data": {
            "text/plain": [
              "Package                    object\n",
              "Malware                     int64\n",
              "prctl                       int64\n",
              "sha256                     object\n",
              "EarliestModDate            object\n",
              "write                       int64\n",
              "read                        int64\n",
              "munmap                      int64\n",
              "mprotect                    int64\n",
              "madvise                     int64\n",
              "ioctl                       int64\n",
              "writev                      int64\n",
              "dup                         int64\n",
              "lseek                       int64\n",
              "mmap2                       int64\n",
              "fstat64                     int64\n",
              "rt_sigprocmask              int64\n",
              "recvfrom                    int64\n",
              "getsockopt                  int64\n",
              "clock_gettime               int64\n",
              "futex                       int64\n",
              "pread                       int64\n",
              "FilesInsideAPK            float64\n",
              "TimesSubmitted            float64\n",
              "Activities                 object\n",
              "NrIntActivities            object\n",
              "NrIntActivitiesActions     object\n",
              "TotalIntentFilters         object\n",
              "Scanners                  float64\n",
              "MalFamily                  object\n",
              "dtype: object"
            ]
          },
          "metadata": {},
          "execution_count": 12
        }
      ],
      "source": [
        "dg.dtypes"
      ]
    },
    {
      "cell_type": "code",
      "execution_count": 12,
      "metadata": {
        "id": "XJlMbG-ZWjK1"
      },
      "outputs": [],
      "source": []
    },
    {
      "cell_type": "code",
      "execution_count": 13,
      "metadata": {
        "colab": {
          "base_uri": "https://localhost:8080/"
        },
        "id": "MIb1NOkoY5HL",
        "outputId": "af2c9c46-b092-4dda-a0a2-1b6f725b4eb8"
      },
      "outputs": [
        {
          "output_type": "execute_result",
          "data": {
            "text/plain": [
              "Package                    object\n",
              "Malware                     int64\n",
              "prctl                       int64\n",
              "sha256                     object\n",
              "EarliestModDate            object\n",
              "write                       int64\n",
              "read                        int64\n",
              "munmap                      int64\n",
              "mprotect                    int64\n",
              "madvise                     int64\n",
              "ioctl                       int64\n",
              "writev                      int64\n",
              "dup                         int64\n",
              "lseek                       int64\n",
              "mmap2                       int64\n",
              "fstat64                     int64\n",
              "rt_sigprocmask              int64\n",
              "recvfrom                    int64\n",
              "getsockopt                  int64\n",
              "clock_gettime               int64\n",
              "futex                       int64\n",
              "pread                       int64\n",
              "FilesInsideAPK            float64\n",
              "TimesSubmitted            float64\n",
              "Activities                 object\n",
              "NrIntActivities            object\n",
              "NrIntActivitiesActions     object\n",
              "TotalIntentFilters         object\n",
              "Scanners                  float64\n",
              "MalFamily                  object\n",
              "dtype: object"
            ]
          },
          "metadata": {},
          "execution_count": 13
        }
      ],
      "source": [
        "dg.dtypes"
      ]
    },
    {
      "cell_type": "code",
      "execution_count": 14,
      "metadata": {
        "id": "eC7e9WzuWm-b"
      },
      "outputs": [],
      "source": [
        "import numpy as np\n",
        "from sklearn.preprocessing import LabelEncoder\n",
        "label_encoder = LabelEncoder()\n",
        "encoded_values = label_encoder.fit_transform(dg['MalFamily'].astype(str))\n",
        "encoded_values = encoded_values.reshape(-1, 1)\n",
        "dg['MalFamily'] = encoded_values\n",
        "dg['MalFamily'].max()\n",
        "encoded=label_encoder.fit_transform(dg['Package'].astype(str))\n",
        "dg['Package']=encoded"
      ]
    },
    {
      "cell_type": "code",
      "execution_count": 15,
      "metadata": {
        "colab": {
          "base_uri": "https://localhost:8080/"
        },
        "id": "aIrqXy4KY9dJ",
        "outputId": "f78b98f3-7369-4a96-99a4-5e7ebe00fe2f"
      },
      "outputs": [
        {
          "output_type": "execute_result",
          "data": {
            "text/plain": [
              "Package                   0\n",
              "Malware                   0\n",
              "prctl                     0\n",
              "sha256                    0\n",
              "EarliestModDate           0\n",
              "write                     0\n",
              "read                      0\n",
              "munmap                    0\n",
              "mprotect                  0\n",
              "madvise                   0\n",
              "ioctl                     0\n",
              "writev                    0\n",
              "dup                       0\n",
              "lseek                     0\n",
              "mmap2                     0\n",
              "fstat64                   0\n",
              "rt_sigprocmask            0\n",
              "recvfrom                  0\n",
              "getsockopt                0\n",
              "clock_gettime             0\n",
              "futex                     0\n",
              "pread                     0\n",
              "FilesInsideAPK            0\n",
              "TimesSubmitted            0\n",
              "Activities                0\n",
              "NrIntActivities           0\n",
              "NrIntActivitiesActions    0\n",
              "TotalIntentFilters        0\n",
              "Scanners                  0\n",
              "MalFamily                 0\n",
              "dtype: int64"
            ]
          },
          "metadata": {},
          "execution_count": 15
        }
      ],
      "source": [
        "dg.isnull().sum()"
      ]
    },
    {
      "cell_type": "code",
      "execution_count": 16,
      "metadata": {
        "id": "z67Od77oY_wv"
      },
      "outputs": [],
      "source": [
        "dg=dg.fillna(0)"
      ]
    },
    {
      "cell_type": "code",
      "execution_count": 17,
      "metadata": {
        "id": "v11SfGcmWq2-"
      },
      "outputs": [],
      "source": [
        "import pandas as pd\n",
        "dg['Activities'] = pd.to_numeric(dg['Activities'], errors='coerce')\n",
        "dg['TotalIntentFilters']=pd.to_numeric(dg['TotalIntentFilters'],errors='coerce')\n",
        "dg['NrIntActivities']=pd.to_numeric(dg['NrIntActivities'],errors='coerce')\n",
        "dg['NrIntActivitiesActions']=pd.to_numeric(dg['NrIntActivitiesActions'],errors='coerce')\n",
        "dg['sha256']=pd.to_numeric(dg['sha256'],errors='coerce')"
      ]
    },
    {
      "cell_type": "code",
      "execution_count": 18,
      "metadata": {
        "id": "461JVocebFY8"
      },
      "outputs": [],
      "source": [
        "if pd.isnull(dg['EarliestModDate']).any():\n",
        "    # Handle or fill the missing values if necessary\n",
        "    dg['EarliestModDate'].fillna('fill_value', inplace=True)  # Replace 'fill_value' with an appropriate value\n",
        "# Convert the 'EarliestModDate' column to datetime\n",
        "dg['EarliestModDate'] = pd.to_datetime(dg['EarliestModDate'], errors='coerce')"
      ]
    },
    {
      "cell_type": "code",
      "execution_count": 19,
      "metadata": {
        "colab": {
          "base_uri": "https://localhost:8080/"
        },
        "id": "445_z29la4m3",
        "outputId": "789a6ce0-6a9f-4efc-e632-0312425a96eb"
      },
      "outputs": [
        {
          "output_type": "stream",
          "name": "stdout",
          "text": [
            "datetime64[ns]\n"
          ]
        }
      ],
      "source": [
        "print(dg['EarliestModDate'].dtype)"
      ]
    },
    {
      "cell_type": "code",
      "execution_count": 20,
      "metadata": {
        "colab": {
          "base_uri": "https://localhost:8080/"
        },
        "id": "PkADvAOAZEPN",
        "outputId": "04efc17e-58d9-4ed3-b640-a73434dbaade"
      },
      "outputs": [
        {
          "output_type": "execute_result",
          "data": {
            "text/plain": [
              "Package                      0\n",
              "Malware                      0\n",
              "prctl                        0\n",
              "sha256                    4999\n",
              "EarliestModDate             92\n",
              "write                        0\n",
              "read                         0\n",
              "munmap                       0\n",
              "mprotect                     0\n",
              "madvise                      0\n",
              "ioctl                        0\n",
              "writev                       0\n",
              "dup                          0\n",
              "lseek                        0\n",
              "mmap2                        0\n",
              "fstat64                      0\n",
              "rt_sigprocmask               0\n",
              "recvfrom                     0\n",
              "getsockopt                   0\n",
              "clock_gettime                0\n",
              "futex                        0\n",
              "pread                        0\n",
              "FilesInsideAPK               0\n",
              "TimesSubmitted               0\n",
              "Activities                  47\n",
              "NrIntActivities             47\n",
              "NrIntActivitiesActions      47\n",
              "TotalIntentFilters          47\n",
              "Scanners                     0\n",
              "MalFamily                    0\n",
              "dtype: int64"
            ]
          },
          "metadata": {},
          "execution_count": 20
        }
      ],
      "source": [
        "dg.isnull().sum()"
      ]
    },
    {
      "cell_type": "code",
      "execution_count": 21,
      "metadata": {
        "id": "WFY0NERaZG24"
      },
      "outputs": [],
      "source": [
        "dg=dg.fillna(0)"
      ]
    },
    {
      "cell_type": "code",
      "execution_count": 22,
      "metadata": {
        "colab": {
          "base_uri": "https://localhost:8080/"
        },
        "id": "uysyVHy_ZIxn",
        "outputId": "a61e59b8-1e8f-4ab8-c313-b88bfe8dfd89"
      },
      "outputs": [
        {
          "output_type": "execute_result",
          "data": {
            "text/plain": [
              "Package                   0\n",
              "Malware                   0\n",
              "prctl                     0\n",
              "sha256                    0\n",
              "EarliestModDate           0\n",
              "write                     0\n",
              "read                      0\n",
              "munmap                    0\n",
              "mprotect                  0\n",
              "madvise                   0\n",
              "ioctl                     0\n",
              "writev                    0\n",
              "dup                       0\n",
              "lseek                     0\n",
              "mmap2                     0\n",
              "fstat64                   0\n",
              "rt_sigprocmask            0\n",
              "recvfrom                  0\n",
              "getsockopt                0\n",
              "clock_gettime             0\n",
              "futex                     0\n",
              "pread                     0\n",
              "FilesInsideAPK            0\n",
              "TimesSubmitted            0\n",
              "Activities                0\n",
              "NrIntActivities           0\n",
              "NrIntActivitiesActions    0\n",
              "TotalIntentFilters        0\n",
              "Scanners                  0\n",
              "MalFamily                 0\n",
              "dtype: int64"
            ]
          },
          "metadata": {},
          "execution_count": 22
        }
      ],
      "source": [
        "dg.isnull().sum()"
      ]
    },
    {
      "cell_type": "code",
      "source": [
        "# %% [code]\n",
        "#!/usr/bin/env python\n",
        "# coding: utf-8\n",
        "\n",
        "# # Experiment 3: Train in batches by month and test in the next month\n",
        "\n",
        "# In[1]:\n",
        "\n",
        "\n",
        "import pandas as pd\n",
        "import numpy as np\n",
        "\n",
        "\n",
        "# In[2]:\n",
        "\n",
        "\n",
        "# initial year defines the training (< initial_year) and testing sets (>= initial_year)\n",
        "initial_year = \"2017-12-30\"\n",
        "\n",
        "\n",
        "# In[4]:\n",
        "\n",
        "\n",
        "# In[6]:\n",
        "\n",
        "\n",
        "# Transform submission_date in a datetime column:\n",
        "dg['EarliestModDate'] =  pd.to_datetime(dg['EarliestModDate'],errors='coerce')\n",
        "\n",
        "\n",
        "# In[7]:\n",
        "\n",
        "\n",
        "# Group data by months and create subsets to train and test:\n",
        "dataTrain =dg[dg['EarliestModDate'] <=initial_year]\n",
        "dataTest = dg[dg['EarliestModDate'] >initial_year]\n",
        "print(\"Train shape:\", dataTrain.shape)\n",
        "print(\"Test shape:\", dataTest.shape)\n",
        "\n",
        "\n",
        "# In[9]:\n",
        "\n",
        "# In[11]:\n",
        "\n",
        "\n",
        "# Normalization method:\n",
        "def normalization(X_train, X_test):\n",
        "    from sklearn.preprocessing import MinMaxScaler\n",
        "    scaler = MinMaxScaler()\n",
        "    scaler.fit(X_train)\n",
        "    XX_train = scaler.transform(X_train)\n",
        "    XX_test = scaler.transform(X_test)\n",
        "    return(XX_train, XX_test)\n",
        "\n",
        "\n",
        "# In[13]:\n",
        "\n",
        "\n",
        "# Iterate over months in test data:\n",
        "import numpy as np\n",
        "from sklearn.metrics import accuracy_score, f1_score, precision_score, recall_score\n",
        "#from sklearn.ensemble import RandomForestClassifier as Classifier\n",
        "from sklearn.linear_model import SGDClassifier as Classifier\n",
        "# group by year-month\n",
        "dataTestTime = dataTest.groupby([dataTest.EarliestModDate.dt.year, dataTest.EarliestModDate.dt.month])\n",
        "# get data train labels\n",
        "y_train = np.array(dataTrain[\"Malware\"])\n",
        "# remove unused columns from dataTrain\n",
        "UNUSED_COLUMNS = [\"Malware\", \"sha256\", \"EarliestModDate\"]\n",
        "for c in UNUSED_COLUMNS:\n",
        "    del dataTrain[c]\n",
        "# get dataTrain values\n",
        "X_dataTrain = dataTrain.values\n",
        "# arrays to save information\n",
        "accs = [] # accuracy\n",
        "f1s = [] # f1score\n",
        "recall = [] # recall\n",
        "precision = [] # precision\n",
        "years = []\n",
        "months = []\n",
        "# iterate over year and month\n",
        "for (year, month), dataTestMonth in dataTestTime:\n",
        "    # get data test labels\n",
        "    y_test = np.array(dataTestMonth[\"Malware\"])\n",
        "    # remove unused columns from data test\n",
        "    for c in UNUSED_COLUMNS:\n",
        "        del dataTestMonth[c]\n",
        "    # get dataTestMonth values\n",
        "    X_dataTest = dataTestMonth.value\n",
        "    # normalization\n",
        "    XX_train, XX_test = normalization(X_dataTrain, X_dataTest)\n",
        "    # classifier\n",
        "    # clf = RandomForestClassifier(random_state=0)\n",
        "    clf = Classifier(random_state=0)\n",
        "    # train classifier\n",
        "    clf.fit(XX_train,y_train)\n",
        "    # predict test data\n",
        "    y_pred = clf.predict(XX_test)\n",
        "    # update train data and labels with actual month\n",
        "    X_dataTrain = np.append(X_dataTrain, X_dataTest, axis=0)\n",
        "    y_train = np.concatenate((y_train, np.array(y_test)), axis=0)\n",
        "    print(\"{}-{}\".format(year,month))\n",
        "    # save metrics\n",
        "    f1 = f1_score(y_test, y_pred)\n",
        "    acc = accuracy_score(y_test, y_pred)\n",
        "    re = recall_score(y_test, y_pred)\n",
        "    pr = precision_score(y_test, y_pred)\n",
        "    if (f1 !=0) and (re != 0) and (pr != 0):\n",
        "        accs.append(acc)\n",
        "        f1s.append(f1)\n",
        "        recall.append(re)\n",
        "        precision.append(pr)\n",
        "        years.append(year)\n",
        "        months.append(month)\n",
        "        print(acc)\n",
        "\n"
      ],
      "metadata": {
        "colab": {
          "base_uri": "https://localhost:8080/"
        },
        "id": "KFlqCjPXcx_t",
        "outputId": "ee300732-806c-485f-9543-3cb0ae095ef1"
      },
      "execution_count": 28,
      "outputs": [
        {
          "output_type": "stream",
          "name": "stdout",
          "text": [
            "Train shape: (4745, 30)\n",
            "Test shape: (163, 30)\n",
            "2018-1\n",
            "0.4375\n",
            "2018-2\n",
            "0.75\n",
            "2018-3\n",
            "0.8260869565217391\n",
            "2018-4\n",
            "0.3333333333333333\n",
            "2018-5\n",
            "0.6666666666666666\n",
            "2018-6\n",
            "0.8888888888888888\n",
            "2018-7\n",
            "2018-9\n",
            "2018-11\n"
          ]
        },
        {
          "output_type": "stream",
          "name": "stderr",
          "text": [
            "/usr/local/lib/python3.10/dist-packages/sklearn/metrics/_classification.py:1344: UndefinedMetricWarning: Precision is ill-defined and being set to 0.0 due to no predicted samples. Use `zero_division` parameter to control this behavior.\n",
            "  _warn_prf(average, modifier, msg_start, len(result))\n",
            "/usr/local/lib/python3.10/dist-packages/sklearn/metrics/_classification.py:1344: UndefinedMetricWarning: Precision is ill-defined and being set to 0.0 due to no predicted samples. Use `zero_division` parameter to control this behavior.\n",
            "  _warn_prf(average, modifier, msg_start, len(result))\n",
            "/usr/local/lib/python3.10/dist-packages/sklearn/metrics/_classification.py:1609: UndefinedMetricWarning: F-score is ill-defined and being set to 0.0 due to no true nor predicted samples. Use `zero_division` parameter to control this behavior.\n",
            "  _warn_prf(average, \"true nor predicted\", \"F-score is\", len(true_sum))\n",
            "/usr/local/lib/python3.10/dist-packages/sklearn/metrics/_classification.py:1344: UndefinedMetricWarning: Recall is ill-defined and being set to 0.0 due to no true samples. Use `zero_division` parameter to control this behavior.\n",
            "  _warn_prf(average, modifier, msg_start, len(result))\n",
            "/usr/local/lib/python3.10/dist-packages/sklearn/metrics/_classification.py:1344: UndefinedMetricWarning: Precision is ill-defined and being set to 0.0 due to no predicted samples. Use `zero_division` parameter to control this behavior.\n",
            "  _warn_prf(average, modifier, msg_start, len(result))\n",
            "/usr/local/lib/python3.10/dist-packages/sklearn/metrics/_classification.py:1609: UndefinedMetricWarning: F-score is ill-defined and being set to 0.0 due to no true nor predicted samples. Use `zero_division` parameter to control this behavior.\n",
            "  _warn_prf(average, \"true nor predicted\", \"F-score is\", len(true_sum))\n",
            "/usr/local/lib/python3.10/dist-packages/sklearn/metrics/_classification.py:1344: UndefinedMetricWarning: Recall is ill-defined and being set to 0.0 due to no true samples. Use `zero_division` parameter to control this behavior.\n",
            "  _warn_prf(average, modifier, msg_start, len(result))\n",
            "/usr/local/lib/python3.10/dist-packages/sklearn/metrics/_classification.py:1344: UndefinedMetricWarning: Precision is ill-defined and being set to 0.0 due to no predicted samples. Use `zero_division` parameter to control this behavior.\n",
            "  _warn_prf(average, modifier, msg_start, len(result))\n"
          ]
        },
        {
          "output_type": "stream",
          "name": "stdout",
          "text": [
            "2019-1\n",
            "2019-5\n",
            "1.0\n",
            "2019-6\n",
            "2019-8\n",
            "2019-10\n",
            "1.0\n"
          ]
        },
        {
          "output_type": "stream",
          "name": "stderr",
          "text": [
            "/usr/local/lib/python3.10/dist-packages/sklearn/metrics/_classification.py:1609: UndefinedMetricWarning: F-score is ill-defined and being set to 0.0 due to no true nor predicted samples. Use `zero_division` parameter to control this behavior.\n",
            "  _warn_prf(average, \"true nor predicted\", \"F-score is\", len(true_sum))\n",
            "/usr/local/lib/python3.10/dist-packages/sklearn/metrics/_classification.py:1344: UndefinedMetricWarning: Recall is ill-defined and being set to 0.0 due to no true samples. Use `zero_division` parameter to control this behavior.\n",
            "  _warn_prf(average, modifier, msg_start, len(result))\n",
            "/usr/local/lib/python3.10/dist-packages/sklearn/metrics/_classification.py:1344: UndefinedMetricWarning: Precision is ill-defined and being set to 0.0 due to no predicted samples. Use `zero_division` parameter to control this behavior.\n",
            "  _warn_prf(average, modifier, msg_start, len(result))\n",
            "/usr/local/lib/python3.10/dist-packages/sklearn/metrics/_classification.py:1609: UndefinedMetricWarning: F-score is ill-defined and being set to 0.0 due to no true nor predicted samples. Use `zero_division` parameter to control this behavior.\n",
            "  _warn_prf(average, \"true nor predicted\", \"F-score is\", len(true_sum))\n",
            "/usr/local/lib/python3.10/dist-packages/sklearn/metrics/_classification.py:1344: UndefinedMetricWarning: Recall is ill-defined and being set to 0.0 due to no true samples. Use `zero_division` parameter to control this behavior.\n",
            "  _warn_prf(average, modifier, msg_start, len(result))\n",
            "/usr/local/lib/python3.10/dist-packages/sklearn/metrics/_classification.py:1344: UndefinedMetricWarning: Precision is ill-defined and being set to 0.0 due to no predicted samples. Use `zero_division` parameter to control this behavior.\n",
            "  _warn_prf(average, modifier, msg_start, len(result))\n"
          ]
        },
        {
          "output_type": "stream",
          "name": "stdout",
          "text": [
            "2019-11\n",
            "1.0\n",
            "2019-12\n",
            "2020-4\n",
            "0.6\n",
            "2020-5\n",
            "1.0\n"
          ]
        },
        {
          "output_type": "stream",
          "name": "stderr",
          "text": [
            "/usr/local/lib/python3.10/dist-packages/sklearn/metrics/_classification.py:1609: UndefinedMetricWarning: F-score is ill-defined and being set to 0.0 due to no true nor predicted samples. Use `zero_division` parameter to control this behavior.\n",
            "  _warn_prf(average, \"true nor predicted\", \"F-score is\", len(true_sum))\n",
            "/usr/local/lib/python3.10/dist-packages/sklearn/metrics/_classification.py:1344: UndefinedMetricWarning: Recall is ill-defined and being set to 0.0 due to no true samples. Use `zero_division` parameter to control this behavior.\n",
            "  _warn_prf(average, modifier, msg_start, len(result))\n",
            "/usr/local/lib/python3.10/dist-packages/sklearn/metrics/_classification.py:1344: UndefinedMetricWarning: Precision is ill-defined and being set to 0.0 due to no predicted samples. Use `zero_division` parameter to control this behavior.\n",
            "  _warn_prf(average, modifier, msg_start, len(result))\n"
          ]
        },
        {
          "output_type": "stream",
          "name": "stdout",
          "text": [
            "2020-11\n",
            "1.0\n",
            "2107-11\n"
          ]
        },
        {
          "output_type": "stream",
          "name": "stderr",
          "text": [
            "/usr/local/lib/python3.10/dist-packages/sklearn/metrics/_classification.py:1344: UndefinedMetricWarning: Recall is ill-defined and being set to 0.0 due to no true samples. Use `zero_division` parameter to control this behavior.\n",
            "  _warn_prf(average, modifier, msg_start, len(result))\n"
          ]
        }
      ]
    },
    {
      "cell_type": "code",
      "source": [],
      "metadata": {
        "id": "TDmrFmREdVyk"
      },
      "execution_count": null,
      "outputs": []
    }
  ],
  "metadata": {
    "colab": {
      "provenance": []
    },
    "kernelspec": {
      "display_name": "Python 3",
      "name": "python3"
    },
    "language_info": {
      "name": "python"
    }
  },
  "nbformat": 4,
  "nbformat_minor": 0
}