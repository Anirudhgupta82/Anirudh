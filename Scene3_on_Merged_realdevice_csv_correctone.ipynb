{
  "cells": [
    {
      "cell_type": "code",
      "execution_count": null,
      "metadata": {
        "id": "gCEIBafYVzBx"
      },
      "outputs": [],
      "source": [
        "import pandas as pd\n",
        "import numpy as np\n",
        "import matplotlib.pyplot as plt\n",
        "import seaborn as sns\n",
        "from sklearn.model_selection import train_test_split\n",
        "from sklearn.metrics import classification_report, roc_curve, roc_auc_score\n",
        "from sklearn import metrics\n",
        "from sklearn.linear_model import LogisticRegression\n",
        "from sklearn.tree import DecisionTreeClassifier\n",
        "from sklearn.ensemble import RandomForestClassifier\n",
        "from sklearn.metrics import accuracy_score\n",
        "import scipy\n",
        "import joblib\n",
        "import os"
      ]
    },
    {
      "cell_type": "code",
      "execution_count": null,
      "metadata": {
        "id": "P5ccYguwWSn9"
      },
      "outputs": [],
      "source": [
        "dx=pd.read_csv('/content/real_legitimate_v1.csv')"
      ]
    },
    {
      "cell_type": "code",
      "execution_count": null,
      "metadata": {
        "id": "SKa6qqhWWURc"
      },
      "outputs": [],
      "source": [
        "dy=pd.read_csv('/content/real_malware_v1.csv')"
      ]
    },
    {
      "cell_type": "code",
      "execution_count": null,
      "metadata": {
        "id": "SxxLmjbOWYYv"
      },
      "outputs": [],
      "source": [
        "df = pd.concat([dx, dy], ignore_index=True)\n",
        "df.to_csv('combined.csv', index=False)"
      ]
    },
    {
      "cell_type": "code",
      "execution_count": null,
      "metadata": {
        "id": "IphEX_c_Wact"
      },
      "outputs": [],
      "source": [
        "df = df.sample(frac=1).reset_index(drop=True)\n",
        "df=df.to_csv('shuffled_dataset.csv', index=False)"
      ]
    },
    {
      "cell_type": "code",
      "execution_count": null,
      "metadata": {
        "id": "JbT5pVQyWcdO"
      },
      "outputs": [],
      "source": [
        "dr=pd.read_csv('/content/shuffled_dataset.csv')"
      ]
    },
    {
      "cell_type": "code",
      "execution_count": null,
      "metadata": {
        "colab": {
          "base_uri": "https://localhost:8080/",
          "height": 487
        },
        "id": "dOpbZDHVWfsW",
        "outputId": "6a7d7e1e-bc06-46aa-94cf-1b63f822c0e6"
      },
      "outputs": [
        {
          "output_type": "execute_result",
          "data": {
            "text/plain": [
              "                                       Package  Malware  prctl  \\\n",
              "0                        com.genwi.cmtandfvm\\n        0      6   \n",
              "1                              com.contimita\\n        0     27   \n",
              "2                        net.skyxu.sxrsxrsxr\\n        1     98   \n",
              "3     ch.nth.android.contentabo_l01_sim_univ\\n        1      6   \n",
              "4                             com.mcd.oiyvzf\\n        1    466   \n",
              "...                                        ...      ...    ...   \n",
              "3714              com.S30q8nvm.VG6e4OnA.g_74\\n        1    257   \n",
              "3715                    com.sivart.wordcrank\\n        0     55   \n",
              "3716          com.androidJoneyZPocketDrum106\\n        0     28   \n",
              "3717               org.baole.app.translatezh\\n        0     48   \n",
              "3718                com.ipeaksoft.keng9.vivo\\n        1    120   \n",
              "\n",
              "                                                 sha256 EarliestModDate  \\\n",
              "0     7422365d0c933d75a442d81d2f690db71569e415c0af6b...       12/8/2010   \n",
              "1     f0ed0160aff46a169502baecd3e9a3a087586d8ec0fb56...       2/17/2010   \n",
              "2     ece2c2a17be0747439cf892be95a906874d2b5c6e63775...      10/11/2013   \n",
              "3     bbf0810117abb2b5c19e4e455ca71283711a82a3b3999b...       4/16/2020   \n",
              "4     f8c552310b6e2a5d19caae927a0be1c9fbb5671b25804d...       2/27/2018   \n",
              "...                                                 ...             ...   \n",
              "3714  1b90127cb7fd96b8d7ef83477fc5270cf325885170aa87...      10/11/2013   \n",
              "3715  490673febfa2186d8a4c5a90dc287bba0f91482e57cd47...       5/19/2011   \n",
              "3716  14c21364bf4b2f72992e47c489c07065af6406afc36313...       5/21/2011   \n",
              "3717  ff888909586e6d2b51ba69bae6b8c904333d5de0be9e3f...      11/30/2010   \n",
              "3718  001641a84dc82f11c56d22a8cb54adab1d10d1d6e65275...        1/1/1980   \n",
              "\n",
              "      write  read  munmap  mprotect  madvise  ...   futex  pread  \\\n",
              "0         3     2       7         3        5  ...    10.0    8.0   \n",
              "1         1     9       9        16       14  ...    16.0   12.0   \n",
              "2        73    21      86       521       64  ...    71.0   35.0   \n",
              "3        17     3       0         4        4  ...    30.0    0.0   \n",
              "4       604   691     188      1735      254  ...   874.0  679.0   \n",
              "...     ...   ...     ...       ...      ...  ...     ...    ...   \n",
              "3714    456   169      95       803      105  ...   606.0  137.0   \n",
              "3715     25    17      73       195       51  ...    85.0  111.0   \n",
              "3716      3     3      54        14       21  ...  1482.0   90.0   \n",
              "3717      7     3      66       188       39  ...    24.0   51.0   \n",
              "3718   3817  1555      43       719       87  ...   165.0  794.0   \n",
              "\n",
              "      FilesInsideAPK  TimesSubmitted  Activities  NrIntActivities  \\\n",
              "0              104.0             3.0           8                2   \n",
              "1               57.0             3.0           2                1   \n",
              "2              113.0             4.0           5                1   \n",
              "3              928.0             2.0           8                3   \n",
              "4              103.0             2.0           9                2   \n",
              "...              ...             ...         ...              ...   \n",
              "3714            37.0             8.0           5                1   \n",
              "3715            87.0             7.0           9                1   \n",
              "3716            45.0             5.0           2                1   \n",
              "3717            32.0             5.0           4                1   \n",
              "3718          1895.0            28.0        None             None   \n",
              "\n",
              "      NrIntActivitiesActions  TotalIntentFilters  Scanners        MalFamily  \n",
              "0                          2                   2      66.0              NaN  \n",
              "1                          1                   1      64.0              NaN  \n",
              "2                          1                   4      61.0            Malap  \n",
              "3                          3                   7      63.0           SMSreg  \n",
              "4                          3                  12      65.0           SMSreg  \n",
              "...                      ...                 ...       ...              ...  \n",
              "3714                       1                   2      64.0  Airpush/StopSMS  \n",
              "3715                       1                   2      64.0              NaN  \n",
              "3716                       1                   1      63.0              NaN  \n",
              "3717                       1                   2      66.0              NaN  \n",
              "3718                    None                None      62.0            Agent  \n",
              "\n",
              "[3719 rows x 30 columns]"
            ],
            "text/html": [
              "\n",
              "  <div id=\"df-ec0c7876-c393-475a-8110-6f6b50d45164\">\n",
              "    <div class=\"colab-df-container\">\n",
              "      <div>\n",
              "<style scoped>\n",
              "    .dataframe tbody tr th:only-of-type {\n",
              "        vertical-align: middle;\n",
              "    }\n",
              "\n",
              "    .dataframe tbody tr th {\n",
              "        vertical-align: top;\n",
              "    }\n",
              "\n",
              "    .dataframe thead th {\n",
              "        text-align: right;\n",
              "    }\n",
              "</style>\n",
              "<table border=\"1\" class=\"dataframe\">\n",
              "  <thead>\n",
              "    <tr style=\"text-align: right;\">\n",
              "      <th></th>\n",
              "      <th>Package</th>\n",
              "      <th>Malware</th>\n",
              "      <th>prctl</th>\n",
              "      <th>sha256</th>\n",
              "      <th>EarliestModDate</th>\n",
              "      <th>write</th>\n",
              "      <th>read</th>\n",
              "      <th>munmap</th>\n",
              "      <th>mprotect</th>\n",
              "      <th>madvise</th>\n",
              "      <th>...</th>\n",
              "      <th>futex</th>\n",
              "      <th>pread</th>\n",
              "      <th>FilesInsideAPK</th>\n",
              "      <th>TimesSubmitted</th>\n",
              "      <th>Activities</th>\n",
              "      <th>NrIntActivities</th>\n",
              "      <th>NrIntActivitiesActions</th>\n",
              "      <th>TotalIntentFilters</th>\n",
              "      <th>Scanners</th>\n",
              "      <th>MalFamily</th>\n",
              "    </tr>\n",
              "  </thead>\n",
              "  <tbody>\n",
              "    <tr>\n",
              "      <th>0</th>\n",
              "      <td>com.genwi.cmtandfvm\\n</td>\n",
              "      <td>0</td>\n",
              "      <td>6</td>\n",
              "      <td>7422365d0c933d75a442d81d2f690db71569e415c0af6b...</td>\n",
              "      <td>12/8/2010</td>\n",
              "      <td>3</td>\n",
              "      <td>2</td>\n",
              "      <td>7</td>\n",
              "      <td>3</td>\n",
              "      <td>5</td>\n",
              "      <td>...</td>\n",
              "      <td>10.0</td>\n",
              "      <td>8.0</td>\n",
              "      <td>104.0</td>\n",
              "      <td>3.0</td>\n",
              "      <td>8</td>\n",
              "      <td>2</td>\n",
              "      <td>2</td>\n",
              "      <td>2</td>\n",
              "      <td>66.0</td>\n",
              "      <td>NaN</td>\n",
              "    </tr>\n",
              "    <tr>\n",
              "      <th>1</th>\n",
              "      <td>com.contimita\\n</td>\n",
              "      <td>0</td>\n",
              "      <td>27</td>\n",
              "      <td>f0ed0160aff46a169502baecd3e9a3a087586d8ec0fb56...</td>\n",
              "      <td>2/17/2010</td>\n",
              "      <td>1</td>\n",
              "      <td>9</td>\n",
              "      <td>9</td>\n",
              "      <td>16</td>\n",
              "      <td>14</td>\n",
              "      <td>...</td>\n",
              "      <td>16.0</td>\n",
              "      <td>12.0</td>\n",
              "      <td>57.0</td>\n",
              "      <td>3.0</td>\n",
              "      <td>2</td>\n",
              "      <td>1</td>\n",
              "      <td>1</td>\n",
              "      <td>1</td>\n",
              "      <td>64.0</td>\n",
              "      <td>NaN</td>\n",
              "    </tr>\n",
              "    <tr>\n",
              "      <th>2</th>\n",
              "      <td>net.skyxu.sxrsxrsxr\\n</td>\n",
              "      <td>1</td>\n",
              "      <td>98</td>\n",
              "      <td>ece2c2a17be0747439cf892be95a906874d2b5c6e63775...</td>\n",
              "      <td>10/11/2013</td>\n",
              "      <td>73</td>\n",
              "      <td>21</td>\n",
              "      <td>86</td>\n",
              "      <td>521</td>\n",
              "      <td>64</td>\n",
              "      <td>...</td>\n",
              "      <td>71.0</td>\n",
              "      <td>35.0</td>\n",
              "      <td>113.0</td>\n",
              "      <td>4.0</td>\n",
              "      <td>5</td>\n",
              "      <td>1</td>\n",
              "      <td>1</td>\n",
              "      <td>4</td>\n",
              "      <td>61.0</td>\n",
              "      <td>Malap</td>\n",
              "    </tr>\n",
              "    <tr>\n",
              "      <th>3</th>\n",
              "      <td>ch.nth.android.contentabo_l01_sim_univ\\n</td>\n",
              "      <td>1</td>\n",
              "      <td>6</td>\n",
              "      <td>bbf0810117abb2b5c19e4e455ca71283711a82a3b3999b...</td>\n",
              "      <td>4/16/2020</td>\n",
              "      <td>17</td>\n",
              "      <td>3</td>\n",
              "      <td>0</td>\n",
              "      <td>4</td>\n",
              "      <td>4</td>\n",
              "      <td>...</td>\n",
              "      <td>30.0</td>\n",
              "      <td>0.0</td>\n",
              "      <td>928.0</td>\n",
              "      <td>2.0</td>\n",
              "      <td>8</td>\n",
              "      <td>3</td>\n",
              "      <td>3</td>\n",
              "      <td>7</td>\n",
              "      <td>63.0</td>\n",
              "      <td>SMSreg</td>\n",
              "    </tr>\n",
              "    <tr>\n",
              "      <th>4</th>\n",
              "      <td>com.mcd.oiyvzf\\n</td>\n",
              "      <td>1</td>\n",
              "      <td>466</td>\n",
              "      <td>f8c552310b6e2a5d19caae927a0be1c9fbb5671b25804d...</td>\n",
              "      <td>2/27/2018</td>\n",
              "      <td>604</td>\n",
              "      <td>691</td>\n",
              "      <td>188</td>\n",
              "      <td>1735</td>\n",
              "      <td>254</td>\n",
              "      <td>...</td>\n",
              "      <td>874.0</td>\n",
              "      <td>679.0</td>\n",
              "      <td>103.0</td>\n",
              "      <td>2.0</td>\n",
              "      <td>9</td>\n",
              "      <td>2</td>\n",
              "      <td>3</td>\n",
              "      <td>12</td>\n",
              "      <td>65.0</td>\n",
              "      <td>SMSreg</td>\n",
              "    </tr>\n",
              "    <tr>\n",
              "      <th>...</th>\n",
              "      <td>...</td>\n",
              "      <td>...</td>\n",
              "      <td>...</td>\n",
              "      <td>...</td>\n",
              "      <td>...</td>\n",
              "      <td>...</td>\n",
              "      <td>...</td>\n",
              "      <td>...</td>\n",
              "      <td>...</td>\n",
              "      <td>...</td>\n",
              "      <td>...</td>\n",
              "      <td>...</td>\n",
              "      <td>...</td>\n",
              "      <td>...</td>\n",
              "      <td>...</td>\n",
              "      <td>...</td>\n",
              "      <td>...</td>\n",
              "      <td>...</td>\n",
              "      <td>...</td>\n",
              "      <td>...</td>\n",
              "      <td>...</td>\n",
              "    </tr>\n",
              "    <tr>\n",
              "      <th>3714</th>\n",
              "      <td>com.S30q8nvm.VG6e4OnA.g_74\\n</td>\n",
              "      <td>1</td>\n",
              "      <td>257</td>\n",
              "      <td>1b90127cb7fd96b8d7ef83477fc5270cf325885170aa87...</td>\n",
              "      <td>10/11/2013</td>\n",
              "      <td>456</td>\n",
              "      <td>169</td>\n",
              "      <td>95</td>\n",
              "      <td>803</td>\n",
              "      <td>105</td>\n",
              "      <td>...</td>\n",
              "      <td>606.0</td>\n",
              "      <td>137.0</td>\n",
              "      <td>37.0</td>\n",
              "      <td>8.0</td>\n",
              "      <td>5</td>\n",
              "      <td>1</td>\n",
              "      <td>1</td>\n",
              "      <td>2</td>\n",
              "      <td>64.0</td>\n",
              "      <td>Airpush/StopSMS</td>\n",
              "    </tr>\n",
              "    <tr>\n",
              "      <th>3715</th>\n",
              "      <td>com.sivart.wordcrank\\n</td>\n",
              "      <td>0</td>\n",
              "      <td>55</td>\n",
              "      <td>490673febfa2186d8a4c5a90dc287bba0f91482e57cd47...</td>\n",
              "      <td>5/19/2011</td>\n",
              "      <td>25</td>\n",
              "      <td>17</td>\n",
              "      <td>73</td>\n",
              "      <td>195</td>\n",
              "      <td>51</td>\n",
              "      <td>...</td>\n",
              "      <td>85.0</td>\n",
              "      <td>111.0</td>\n",
              "      <td>87.0</td>\n",
              "      <td>7.0</td>\n",
              "      <td>9</td>\n",
              "      <td>1</td>\n",
              "      <td>1</td>\n",
              "      <td>2</td>\n",
              "      <td>64.0</td>\n",
              "      <td>NaN</td>\n",
              "    </tr>\n",
              "    <tr>\n",
              "      <th>3716</th>\n",
              "      <td>com.androidJoneyZPocketDrum106\\n</td>\n",
              "      <td>0</td>\n",
              "      <td>28</td>\n",
              "      <td>14c21364bf4b2f72992e47c489c07065af6406afc36313...</td>\n",
              "      <td>5/21/2011</td>\n",
              "      <td>3</td>\n",
              "      <td>3</td>\n",
              "      <td>54</td>\n",
              "      <td>14</td>\n",
              "      <td>21</td>\n",
              "      <td>...</td>\n",
              "      <td>1482.0</td>\n",
              "      <td>90.0</td>\n",
              "      <td>45.0</td>\n",
              "      <td>5.0</td>\n",
              "      <td>2</td>\n",
              "      <td>1</td>\n",
              "      <td>1</td>\n",
              "      <td>1</td>\n",
              "      <td>63.0</td>\n",
              "      <td>NaN</td>\n",
              "    </tr>\n",
              "    <tr>\n",
              "      <th>3717</th>\n",
              "      <td>org.baole.app.translatezh\\n</td>\n",
              "      <td>0</td>\n",
              "      <td>48</td>\n",
              "      <td>ff888909586e6d2b51ba69bae6b8c904333d5de0be9e3f...</td>\n",
              "      <td>11/30/2010</td>\n",
              "      <td>7</td>\n",
              "      <td>3</td>\n",
              "      <td>66</td>\n",
              "      <td>188</td>\n",
              "      <td>39</td>\n",
              "      <td>...</td>\n",
              "      <td>24.0</td>\n",
              "      <td>51.0</td>\n",
              "      <td>32.0</td>\n",
              "      <td>5.0</td>\n",
              "      <td>4</td>\n",
              "      <td>1</td>\n",
              "      <td>1</td>\n",
              "      <td>2</td>\n",
              "      <td>66.0</td>\n",
              "      <td>NaN</td>\n",
              "    </tr>\n",
              "    <tr>\n",
              "      <th>3718</th>\n",
              "      <td>com.ipeaksoft.keng9.vivo\\n</td>\n",
              "      <td>1</td>\n",
              "      <td>120</td>\n",
              "      <td>001641a84dc82f11c56d22a8cb54adab1d10d1d6e65275...</td>\n",
              "      <td>1/1/1980</td>\n",
              "      <td>3817</td>\n",
              "      <td>1555</td>\n",
              "      <td>43</td>\n",
              "      <td>719</td>\n",
              "      <td>87</td>\n",
              "      <td>...</td>\n",
              "      <td>165.0</td>\n",
              "      <td>794.0</td>\n",
              "      <td>1895.0</td>\n",
              "      <td>28.0</td>\n",
              "      <td>None</td>\n",
              "      <td>None</td>\n",
              "      <td>None</td>\n",
              "      <td>None</td>\n",
              "      <td>62.0</td>\n",
              "      <td>Agent</td>\n",
              "    </tr>\n",
              "  </tbody>\n",
              "</table>\n",
              "<p>3719 rows × 30 columns</p>\n",
              "</div>\n",
              "      <button class=\"colab-df-convert\" onclick=\"convertToInteractive('df-ec0c7876-c393-475a-8110-6f6b50d45164')\"\n",
              "              title=\"Convert this dataframe to an interactive table.\"\n",
              "              style=\"display:none;\">\n",
              "        \n",
              "  <svg xmlns=\"http://www.w3.org/2000/svg\" height=\"24px\"viewBox=\"0 0 24 24\"\n",
              "       width=\"24px\">\n",
              "    <path d=\"M0 0h24v24H0V0z\" fill=\"none\"/>\n",
              "    <path d=\"M18.56 5.44l.94 2.06.94-2.06 2.06-.94-2.06-.94-.94-2.06-.94 2.06-2.06.94zm-11 1L8.5 8.5l.94-2.06 2.06-.94-2.06-.94L8.5 2.5l-.94 2.06-2.06.94zm10 10l.94 2.06.94-2.06 2.06-.94-2.06-.94-.94-2.06-.94 2.06-2.06.94z\"/><path d=\"M17.41 7.96l-1.37-1.37c-.4-.4-.92-.59-1.43-.59-.52 0-1.04.2-1.43.59L10.3 9.45l-7.72 7.72c-.78.78-.78 2.05 0 2.83L4 21.41c.39.39.9.59 1.41.59.51 0 1.02-.2 1.41-.59l7.78-7.78 2.81-2.81c.8-.78.8-2.07 0-2.86zM5.41 20L4 18.59l7.72-7.72 1.47 1.35L5.41 20z\"/>\n",
              "  </svg>\n",
              "      </button>\n",
              "      \n",
              "  <style>\n",
              "    .colab-df-container {\n",
              "      display:flex;\n",
              "      flex-wrap:wrap;\n",
              "      gap: 12px;\n",
              "    }\n",
              "\n",
              "    .colab-df-convert {\n",
              "      background-color: #E8F0FE;\n",
              "      border: none;\n",
              "      border-radius: 50%;\n",
              "      cursor: pointer;\n",
              "      display: none;\n",
              "      fill: #1967D2;\n",
              "      height: 32px;\n",
              "      padding: 0 0 0 0;\n",
              "      width: 32px;\n",
              "    }\n",
              "\n",
              "    .colab-df-convert:hover {\n",
              "      background-color: #E2EBFA;\n",
              "      box-shadow: 0px 1px 2px rgba(60, 64, 67, 0.3), 0px 1px 3px 1px rgba(60, 64, 67, 0.15);\n",
              "      fill: #174EA6;\n",
              "    }\n",
              "\n",
              "    [theme=dark] .colab-df-convert {\n",
              "      background-color: #3B4455;\n",
              "      fill: #D2E3FC;\n",
              "    }\n",
              "\n",
              "    [theme=dark] .colab-df-convert:hover {\n",
              "      background-color: #434B5C;\n",
              "      box-shadow: 0px 1px 3px 1px rgba(0, 0, 0, 0.15);\n",
              "      filter: drop-shadow(0px 1px 2px rgba(0, 0, 0, 0.3));\n",
              "      fill: #FFFFFF;\n",
              "    }\n",
              "  </style>\n",
              "\n",
              "      <script>\n",
              "        const buttonEl =\n",
              "          document.querySelector('#df-ec0c7876-c393-475a-8110-6f6b50d45164 button.colab-df-convert');\n",
              "        buttonEl.style.display =\n",
              "          google.colab.kernel.accessAllowed ? 'block' : 'none';\n",
              "\n",
              "        async function convertToInteractive(key) {\n",
              "          const element = document.querySelector('#df-ec0c7876-c393-475a-8110-6f6b50d45164');\n",
              "          const dataTable =\n",
              "            await google.colab.kernel.invokeFunction('convertToInteractive',\n",
              "                                                     [key], {});\n",
              "          if (!dataTable) return;\n",
              "\n",
              "          const docLinkHtml = 'Like what you see? Visit the ' +\n",
              "            '<a target=\"_blank\" href=https://colab.research.google.com/notebooks/data_table.ipynb>data table notebook</a>'\n",
              "            + ' to learn more about interactive tables.';\n",
              "          element.innerHTML = '';\n",
              "          dataTable['output_type'] = 'display_data';\n",
              "          await google.colab.output.renderOutput(dataTable, element);\n",
              "          const docLink = document.createElement('div');\n",
              "          docLink.innerHTML = docLinkHtml;\n",
              "          element.appendChild(docLink);\n",
              "        }\n",
              "      </script>\n",
              "    </div>\n",
              "  </div>\n",
              "  "
            ]
          },
          "metadata": {},
          "execution_count": 7
        }
      ],
      "source": [
        "data={\n",
        "    'Package':dr['Package'][:5000],\n",
        "    'Malware':dr['Malware'][:5000],\n",
        "    'prctl':dr['prctl'][:5000],\n",
        "    'sha256':dr['sha256'][:5000],\n",
        "    'EarliestModDate':dr['EarliestModDate'][:5000],\n",
        "    'Malware':dr['Malware'][:5000],\n",
        "    'write': dr['write'][:5000],\n",
        "    'read':dr['read'][:5000],\n",
        "    'write':dr['write'][:5000],\n",
        "    'munmap':dr['munmap'][:5000],\n",
        "    'mprotect':dr['mprotect'][:5000],\n",
        "    'madvise':dr['madvise'][:5000],\n",
        "    'ioctl':dr['ioctl'][:5000],\n",
        "    'writev':dr['writev'][:5000],\n",
        "    'dup':dr['dup'][:5000],\n",
        "    'lseek':dr['lseek'][:5000],\n",
        "    'mmap2':dr['mmap2'][:5000],\n",
        "    'fstat64':dr['fstat64'][:5000],\n",
        "    'rt_sigprocmask':dr['rt_sigprocmask'][:5000],\n",
        "   'recvfrom':dr['recvfrom'][:5000],\n",
        "    'getsockopt':dr['getsockopt'][:5000],\n",
        "    'lseek':dr['lseek'][:5000],\n",
        "    'clock_gettime':dr['clock_gettime'][:5000],\n",
        "    'futex':dr['futex'][:5000],\n",
        "    'pread':dr['pread'][:5000],\n",
        "     'FilesInsideAPK':dr['FilesInsideAPK'][:5000],\n",
        "   'TimesSubmitted':dr['TimesSubmitted'][:5000],\n",
        "    'getsockopt':dr['getsockopt'][:5000],\n",
        "    'Activities':dr['Activities'][:5000],\n",
        "    'clock_gettime':dr['clock_gettime'][:5000],\n",
        "    'NrIntActivities':dr['NrIntActivities'][:5000],\n",
        "    'NrIntActivitiesActions':dr['NrIntActivitiesActions'][:5000],\n",
        "    'TotalIntentFilters':dr['TotalIntentFilters'][:5000],\n",
        "    'Scanners':dr['Scanners'][:5000],\n",
        "    'MalFamily':dr['MalFamily'][:5000]\n",
        "    }\n",
        "dg=pd.DataFrame(data)\n",
        "dg"
      ]
    },
    {
      "cell_type": "code",
      "execution_count": null,
      "metadata": {
        "colab": {
          "base_uri": "https://localhost:8080/"
        },
        "id": "5sKxaz5JYiER",
        "outputId": "9d7dc4ad-c349-453a-fa78-c8f2e7675b98"
      },
      "outputs": [
        {
          "output_type": "execute_result",
          "data": {
            "text/plain": [
              "Package                      0\n",
              "Malware                      0\n",
              "prctl                        0\n",
              "sha256                       2\n",
              "EarliestModDate              2\n",
              "write                        0\n",
              "read                         0\n",
              "munmap                       0\n",
              "mprotect                     0\n",
              "madvise                      0\n",
              "ioctl                        0\n",
              "writev                       0\n",
              "dup                          0\n",
              "lseek                        0\n",
              "mmap2                        0\n",
              "fstat64                      0\n",
              "rt_sigprocmask               0\n",
              "recvfrom                     1\n",
              "getsockopt                   1\n",
              "clock_gettime                1\n",
              "futex                        1\n",
              "pread                        1\n",
              "FilesInsideAPK               2\n",
              "TimesSubmitted               2\n",
              "Activities                   2\n",
              "NrIntActivities              2\n",
              "NrIntActivitiesActions       2\n",
              "TotalIntentFilters           2\n",
              "Scanners                     2\n",
              "MalFamily                 1738\n",
              "dtype: int64"
            ]
          },
          "metadata": {},
          "execution_count": 8
        }
      ],
      "source": [
        "dg.isnull().sum()"
      ]
    },
    {
      "cell_type": "markdown",
      "metadata": {
        "id": "fMJPYJkNYmKC"
      },
      "source": []
    },
    {
      "cell_type": "code",
      "execution_count": null,
      "metadata": {
        "id": "x91Z3GpdYm-m"
      },
      "outputs": [],
      "source": [
        "dg=dg.fillna(0)"
      ]
    },
    {
      "cell_type": "code",
      "execution_count": null,
      "metadata": {
        "colab": {
          "base_uri": "https://localhost:8080/"
        },
        "id": "JWtkfHzGYpvj",
        "outputId": "0d3f35c5-d194-4025-c0e7-1c68dcf26ac5"
      },
      "outputs": [
        {
          "output_type": "execute_result",
          "data": {
            "text/plain": [
              "Package                   0\n",
              "Malware                   0\n",
              "prctl                     0\n",
              "sha256                    0\n",
              "EarliestModDate           0\n",
              "write                     0\n",
              "read                      0\n",
              "munmap                    0\n",
              "mprotect                  0\n",
              "madvise                   0\n",
              "ioctl                     0\n",
              "writev                    0\n",
              "dup                       0\n",
              "lseek                     0\n",
              "mmap2                     0\n",
              "fstat64                   0\n",
              "rt_sigprocmask            0\n",
              "recvfrom                  0\n",
              "getsockopt                0\n",
              "clock_gettime             0\n",
              "futex                     0\n",
              "pread                     0\n",
              "FilesInsideAPK            0\n",
              "TimesSubmitted            0\n",
              "Activities                0\n",
              "NrIntActivities           0\n",
              "NrIntActivitiesActions    0\n",
              "TotalIntentFilters        0\n",
              "Scanners                  0\n",
              "MalFamily                 0\n",
              "dtype: int64"
            ]
          },
          "metadata": {},
          "execution_count": 10
        }
      ],
      "source": [
        "dg.isnull().sum()"
      ]
    },
    {
      "cell_type": "code",
      "execution_count": null,
      "metadata": {
        "colab": {
          "base_uri": "https://localhost:8080/"
        },
        "id": "PL8dQiynYwYd",
        "outputId": "2217f7f4-4bd2-444a-a8ff-63def70dbc90"
      },
      "outputs": [
        {
          "output_type": "execute_result",
          "data": {
            "text/plain": [
              "Package                    object\n",
              "Malware                     int64\n",
              "prctl                       int64\n",
              "sha256                     object\n",
              "EarliestModDate            object\n",
              "write                       int64\n",
              "read                        int64\n",
              "munmap                      int64\n",
              "mprotect                    int64\n",
              "madvise                     int64\n",
              "ioctl                       int64\n",
              "writev                      int64\n",
              "dup                         int64\n",
              "lseek                       int64\n",
              "mmap2                       int64\n",
              "fstat64                     int64\n",
              "rt_sigprocmask              int64\n",
              "recvfrom                  float64\n",
              "getsockopt                float64\n",
              "clock_gettime             float64\n",
              "futex                     float64\n",
              "pread                     float64\n",
              "FilesInsideAPK            float64\n",
              "TimesSubmitted            float64\n",
              "Activities                 object\n",
              "NrIntActivities            object\n",
              "NrIntActivitiesActions     object\n",
              "TotalIntentFilters         object\n",
              "Scanners                  float64\n",
              "MalFamily                  object\n",
              "dtype: object"
            ]
          },
          "metadata": {},
          "execution_count": 11
        }
      ],
      "source": [
        "dg.dtypes"
      ]
    },
    {
      "cell_type": "code",
      "execution_count": null,
      "metadata": {
        "id": "XJlMbG-ZWjK1"
      },
      "outputs": [],
      "source": []
    },
    {
      "cell_type": "code",
      "execution_count": null,
      "metadata": {
        "colab": {
          "base_uri": "https://localhost:8080/"
        },
        "id": "MIb1NOkoY5HL",
        "outputId": "2050cb43-e3d1-49f8-f7b3-6991d725ecd4"
      },
      "outputs": [
        {
          "output_type": "execute_result",
          "data": {
            "text/plain": [
              "Package                    object\n",
              "Malware                     int64\n",
              "prctl                       int64\n",
              "sha256                     object\n",
              "EarliestModDate            object\n",
              "write                       int64\n",
              "read                        int64\n",
              "munmap                      int64\n",
              "mprotect                    int64\n",
              "madvise                     int64\n",
              "ioctl                       int64\n",
              "writev                      int64\n",
              "dup                         int64\n",
              "lseek                       int64\n",
              "mmap2                       int64\n",
              "fstat64                     int64\n",
              "rt_sigprocmask              int64\n",
              "recvfrom                  float64\n",
              "getsockopt                float64\n",
              "clock_gettime             float64\n",
              "futex                     float64\n",
              "pread                     float64\n",
              "FilesInsideAPK            float64\n",
              "TimesSubmitted            float64\n",
              "Activities                 object\n",
              "NrIntActivities            object\n",
              "NrIntActivitiesActions     object\n",
              "TotalIntentFilters         object\n",
              "Scanners                  float64\n",
              "MalFamily                  object\n",
              "dtype: object"
            ]
          },
          "metadata": {},
          "execution_count": 12
        }
      ],
      "source": [
        "dg.dtypes"
      ]
    },
    {
      "cell_type": "code",
      "execution_count": null,
      "metadata": {
        "id": "eC7e9WzuWm-b"
      },
      "outputs": [],
      "source": [
        "import numpy as np\n",
        "from sklearn.preprocessing import LabelEncoder\n",
        "label_encoder = LabelEncoder()\n",
        "encoded_values = label_encoder.fit_transform(dg['MalFamily'].astype(str))\n",
        "encoded_values = encoded_values.reshape(-1, 1)\n",
        "dg['MalFamily'] = encoded_values\n",
        "dg['MalFamily'].max()\n",
        "encoded=label_encoder.fit_transform(dg['Package'].astype(str))\n",
        "dg['Package']=encoded"
      ]
    },
    {
      "cell_type": "code",
      "execution_count": null,
      "metadata": {
        "colab": {
          "base_uri": "https://localhost:8080/"
        },
        "id": "aIrqXy4KY9dJ",
        "outputId": "290ebdd0-a872-491e-cde5-5321dfc6dbe0"
      },
      "outputs": [
        {
          "output_type": "execute_result",
          "data": {
            "text/plain": [
              "Package                   0\n",
              "Malware                   0\n",
              "prctl                     0\n",
              "sha256                    0\n",
              "EarliestModDate           0\n",
              "write                     0\n",
              "read                      0\n",
              "munmap                    0\n",
              "mprotect                  0\n",
              "madvise                   0\n",
              "ioctl                     0\n",
              "writev                    0\n",
              "dup                       0\n",
              "lseek                     0\n",
              "mmap2                     0\n",
              "fstat64                   0\n",
              "rt_sigprocmask            0\n",
              "recvfrom                  0\n",
              "getsockopt                0\n",
              "clock_gettime             0\n",
              "futex                     0\n",
              "pread                     0\n",
              "FilesInsideAPK            0\n",
              "TimesSubmitted            0\n",
              "Activities                0\n",
              "NrIntActivities           0\n",
              "NrIntActivitiesActions    0\n",
              "TotalIntentFilters        0\n",
              "Scanners                  0\n",
              "MalFamily                 0\n",
              "dtype: int64"
            ]
          },
          "metadata": {},
          "execution_count": 14
        }
      ],
      "source": [
        "dg.isnull().sum()"
      ]
    },
    {
      "cell_type": "code",
      "execution_count": null,
      "metadata": {
        "id": "z67Od77oY_wv"
      },
      "outputs": [],
      "source": [
        "dg=dg.fillna(0)"
      ]
    },
    {
      "cell_type": "code",
      "execution_count": null,
      "metadata": {
        "id": "v11SfGcmWq2-"
      },
      "outputs": [],
      "source": [
        "import pandas as pd"
      ]
    },
    {
      "cell_type": "code",
      "execution_count": null,
      "metadata": {
        "id": "461JVocebFY8"
      },
      "outputs": [],
      "source": [
        "if pd.isnull(dg['EarliestModDate']).any():\n",
        "    # Handle or fill the missing values if necessary\n",
        "    dg['EarliestModDate'].fillna('fill_value', inplace=True)  # Replace 'fill_value' with an appropriate value\n",
        "# Convert the 'EarliestModDate' column to datetime\n",
        "dg['EarliestModDate'] = pd.to_datetime(dg['EarliestModDate'], errors='coerce')"
      ]
    },
    {
      "cell_type": "code",
      "execution_count": null,
      "metadata": {
        "colab": {
          "base_uri": "https://localhost:8080/"
        },
        "id": "445_z29la4m3",
        "outputId": "71f27b61-dfb5-4363-b807-147e439bd468"
      },
      "outputs": [
        {
          "output_type": "stream",
          "name": "stdout",
          "text": [
            "datetime64[ns]\n"
          ]
        }
      ],
      "source": [
        "print(dg['EarliestModDate'].dtype)"
      ]
    },
    {
      "cell_type": "code",
      "execution_count": null,
      "metadata": {
        "colab": {
          "base_uri": "https://localhost:8080/"
        },
        "id": "PkADvAOAZEPN",
        "outputId": "969ad610-fa8a-4a6e-d28a-03b43b00cecb"
      },
      "outputs": [
        {
          "output_type": "execute_result",
          "data": {
            "text/plain": [
              "Package                    0\n",
              "Malware                    0\n",
              "prctl                      0\n",
              "sha256                     0\n",
              "EarliestModDate           67\n",
              "write                      0\n",
              "read                       0\n",
              "munmap                     0\n",
              "mprotect                   0\n",
              "madvise                    0\n",
              "ioctl                      0\n",
              "writev                     0\n",
              "dup                        0\n",
              "lseek                      0\n",
              "mmap2                      0\n",
              "fstat64                    0\n",
              "rt_sigprocmask             0\n",
              "recvfrom                   0\n",
              "getsockopt                 0\n",
              "clock_gettime              0\n",
              "futex                      0\n",
              "pread                      0\n",
              "FilesInsideAPK             0\n",
              "TimesSubmitted             0\n",
              "Activities                 0\n",
              "NrIntActivities            0\n",
              "NrIntActivitiesActions     0\n",
              "TotalIntentFilters         0\n",
              "Scanners                   0\n",
              "MalFamily                  0\n",
              "dtype: int64"
            ]
          },
          "metadata": {},
          "execution_count": 19
        }
      ],
      "source": [
        "dg.isnull().sum()"
      ]
    },
    {
      "cell_type": "code",
      "execution_count": null,
      "metadata": {
        "id": "WFY0NERaZG24"
      },
      "outputs": [],
      "source": [
        "dg=dg.fillna(0)"
      ]
    },
    {
      "cell_type": "code",
      "execution_count": null,
      "metadata": {
        "colab": {
          "base_uri": "https://localhost:8080/"
        },
        "id": "uysyVHy_ZIxn",
        "outputId": "57e9077b-24b0-4951-9f7b-9c19d2cab130"
      },
      "outputs": [
        {
          "output_type": "execute_result",
          "data": {
            "text/plain": [
              "Package                   0\n",
              "Malware                   0\n",
              "prctl                     0\n",
              "sha256                    0\n",
              "EarliestModDate           0\n",
              "write                     0\n",
              "read                      0\n",
              "munmap                    0\n",
              "mprotect                  0\n",
              "madvise                   0\n",
              "ioctl                     0\n",
              "writev                    0\n",
              "dup                       0\n",
              "lseek                     0\n",
              "mmap2                     0\n",
              "fstat64                   0\n",
              "rt_sigprocmask            0\n",
              "recvfrom                  0\n",
              "getsockopt                0\n",
              "clock_gettime             0\n",
              "futex                     0\n",
              "pread                     0\n",
              "FilesInsideAPK            0\n",
              "TimesSubmitted            0\n",
              "Activities                0\n",
              "NrIntActivities           0\n",
              "NrIntActivitiesActions    0\n",
              "TotalIntentFilters        0\n",
              "Scanners                  0\n",
              "MalFamily                 0\n",
              "dtype: int64"
            ]
          },
          "metadata": {},
          "execution_count": 21
        }
      ],
      "source": [
        "dg.isnull().sum()"
      ]
    },
    {
      "cell_type": "code",
      "source": [
        "# %% [code]\n",
        "#!/usr/bin/env python\n",
        "# coding: utf-8\n",
        "# # Experiment 3: Train in batches by month and test in the next month\n",
        "import pandas as pd\n",
        "import numpy as np\n",
        "# initial year defines the training (< initial_year) and testing sets (>= initial_year)\n",
        "initial_year = \"2017-12-30\"\n",
        "# Transform submission_date in a datetime column:\n",
        "dg['EarliestModDate'] =  pd.to_datetime(dg['EarliestModDate'],errors='coerce')\n",
        "# In[7]:\n",
        "# Group data by months and create subsets to train and test:\n",
        "dataTrain =dg[dg['EarliestModDate'] <=initial_year]\n",
        "dataTest = dg[dg['EarliestModDate'] >initial_year]\n",
        "print(\"Train shape:\", dataTrain.shape)\n",
        "print(\"Test shape:\", dataTest.shape)\n",
        "# In[9]:\n",
        "\n",
        "# In[11]:\n",
        "\n",
        "\n",
        "\n",
        "\n",
        "# In[9]:\n",
        "\n",
        "\n",
        "# Feature extraction method:\n",
        "# Feature extraction method:\n",
        "def feature_extraction(X_dataTrain, X_dataTest):\n",
        "    from sklearn.feature_extraction.text import TfidfVectorizer\n",
        "    # initialize X_train and X_test\n",
        "    X_train = []\n",
        "    X_test = []\n",
        "    # save models used\n",
        "    models = []\n",
        "    # iterate over each column of X_dataTrain\n",
        "    for i in range(X_dataTrain.shape[1]):\n",
        "        # train feature word2vec using column i\n",
        "        #print(\"Training column {}...\".format(i))\n",
        "        # get train and test data\n",
        "        train_data = np.asarray(X_dataTrain[:, i], dtype=str)  # Convert to numpy array\n",
        "        test_data = np.asarray(X_dataTest[:, i], dtype=str)  # Convert to numpy array\n",
        "        # initialize and train model\n",
        "        tfidf = TfidfVectorizer(max_features=100)\n",
        "        tfidf.fit(train_data)\n",
        "        # transform train and test texts to w2v mean\n",
        "        train_tfidf = tfidf.transform(train_data).todense()\n",
        "        test_tfidf = tfidf.transform(test_data).todense()\n",
        "        # if first execution, save only features\n",
        "        if len(X_train) == 0:\n",
        "            X_train = train_tfidf\n",
        "            X_test = test_tfidf\n",
        "        # concatenate existing features\n",
        "        else:\n",
        "            X_train = np.concatenate((X_train, train_tfidf), axis=1)\n",
        "            X_test = np.concatenate((X_test, test_tfidf), axis=1)\n",
        "        # save model\n",
        "        models.append(tfidf)\n",
        "    return X_train, X_test\n",
        "\n",
        "# In[11]:\n",
        "\n",
        "\n",
        "# Normalization method:\n",
        "def normalization(X_train, X_test):\n",
        "    from sklearn.preprocessing import MinMaxScaler\n",
        "    scaler = MinMaxScaler()\n",
        "    scaler.fit(np.asarray(X_train))\n",
        "    XX_train = scaler.transform(np.asarray(X_train))\n",
        "    XX_test = scaler.transform(np.asarray(X_test))\n",
        "    return XX_train, XX_test\n",
        "\n",
        "\n",
        "\n",
        "# In[13]:\n",
        "\n",
        "\n",
        "# Iterate over months in test data:\n",
        "import numpy as np\n",
        "from sklearn.metrics import accuracy_score, f1_score, precision_score, recall_score\n",
        "#from sklearn.ensemble import RandomForestClassifier as Classifier\n",
        "from sklearn.linear_model import SGDClassifier as Classifier\n",
        "# group by year-month\n",
        "dataTestTime = dataTest.groupby([dataTest.EarliestModDate.dt.year, dataTest.EarliestModDate.dt.month])\n",
        "# get data train labels\n",
        "y_train = np.array(dataTrain[\"Malware\"])\n",
        "# remove unused columns from dataTrain\n",
        "UNUSED_COLUMNS = [\"Malware\", \"sha256\", \"EarliestModDate\"]\n",
        "for c in UNUSED_COLUMNS:\n",
        "    del dataTrain[c]\n",
        "# get dataTrain values\n",
        "X_dataTrain = dataTrain.values\n",
        "# arrays to save information\n",
        "accs = [] # accuracy\n",
        "f1s = [] # f1score\n",
        "recall = [] # recall\n",
        "precision = [] # precision\n",
        "years = []\n",
        "months = []\n",
        "# iterate over year and month\n",
        "for (year, month), dataTestMonth in dataTestTime:\n",
        "    # get data test labels\n",
        "    y_test = np.array(dataTestMonth[\"Malware\"])\n",
        "    # remove unused columns from data test\n",
        "    for c in UNUSED_COLUMNS:\n",
        "        del dataTestMonth[c]\n",
        "    # get dataTestMonth values\n",
        "    X_dataTest = dataTestMonth.values\n",
        "    # feature extraction\n",
        "    X_train, X_test = feature_extraction(X_dataTrain, X_dataTest)\n",
        "    # normalization\n",
        "    XX_train, XX_test = normalization(X_train, X_test)\n",
        "    # classifier\n",
        "    # clf = RandomForestClassifier(random_state=0)\n",
        "    clf = Classifier(random_state=0)\n",
        "    # train classifier\n",
        "    clf.fit(XX_train,y_train)\n",
        "    # predict test data\n",
        "    y_pred = clf.predict(XX_test)\n",
        "    # update train data and labels with actual month\n",
        "    X_dataTrain = np.append(X_dataTrain, X_dataTest, axis=0)\n",
        "    y_train = np.concatenate((y_train, np.array(y_test)), axis=0)\n",
        "    print(\"{}-{}\".format(year,month))\n",
        "    # save metrics\n",
        "    f1 = f1_score(y_test, y_pred)\n",
        "    acc = accuracy_score(y_test, y_pred)\n",
        "    re = recall_score(y_test, y_pred)\n",
        "    pr = precision_score(y_test, y_pred)\n",
        "    if (f1 !=0) and (re != 0) and (pr != 0):\n",
        "        accs.append(acc)\n",
        "        f1s.append(f1)\n",
        "        recall.append(re)\n",
        "        precision.append(pr)\n",
        "        years.append(year)\n",
        "        months.append(month)\n",
        "        print(acc)\n",
        "\n",
        "\n"
      ],
      "metadata": {
        "colab": {
          "base_uri": "https://localhost:8080/"
        },
        "id": "KFlqCjPXcx_t",
        "outputId": "a83ef7de-4012-4adb-d6ba-37e1fe01f7f4"
      },
      "execution_count": null,
      "outputs": [
        {
          "output_type": "stream",
          "name": "stdout",
          "text": [
            "Train shape: (3520, 30)\n",
            "Test shape: (132, 30)\n",
            "2018-1\n",
            "0.7272727272727273\n",
            "2018-2\n",
            "0.75\n",
            "2018-3\n",
            "0.72\n",
            "2018-4\n",
            "0.5\n",
            "2018-5\n",
            "0.7333333333333333\n",
            "2018-6\n",
            "0.9230769230769231\n",
            "2018-7\n",
            "1.0\n",
            "2018-8\n"
          ]
        },
        {
          "output_type": "stream",
          "name": "stderr",
          "text": [
            "/usr/local/lib/python3.10/dist-packages/sklearn/metrics/_classification.py:1344: UndefinedMetricWarning: Precision is ill-defined and being set to 0.0 due to no predicted samples. Use `zero_division` parameter to control this behavior.\n",
            "  _warn_prf(average, modifier, msg_start, len(result))\n"
          ]
        },
        {
          "output_type": "stream",
          "name": "stdout",
          "text": [
            "2018-9\n"
          ]
        },
        {
          "output_type": "stream",
          "name": "stderr",
          "text": [
            "/usr/local/lib/python3.10/dist-packages/sklearn/metrics/_classification.py:1344: UndefinedMetricWarning: Precision is ill-defined and being set to 0.0 due to no predicted samples. Use `zero_division` parameter to control this behavior.\n",
            "  _warn_prf(average, modifier, msg_start, len(result))\n"
          ]
        },
        {
          "output_type": "stream",
          "name": "stdout",
          "text": [
            "2018-10\n",
            "1.0\n",
            "2018-11\n"
          ]
        },
        {
          "output_type": "stream",
          "name": "stderr",
          "text": [
            "/usr/local/lib/python3.10/dist-packages/sklearn/metrics/_classification.py:1609: UndefinedMetricWarning: F-score is ill-defined and being set to 0.0 due to no true nor predicted samples. Use `zero_division` parameter to control this behavior.\n",
            "  _warn_prf(average, \"true nor predicted\", \"F-score is\", len(true_sum))\n",
            "/usr/local/lib/python3.10/dist-packages/sklearn/metrics/_classification.py:1344: UndefinedMetricWarning: Recall is ill-defined and being set to 0.0 due to no true samples. Use `zero_division` parameter to control this behavior.\n",
            "  _warn_prf(average, modifier, msg_start, len(result))\n",
            "/usr/local/lib/python3.10/dist-packages/sklearn/metrics/_classification.py:1344: UndefinedMetricWarning: Precision is ill-defined and being set to 0.0 due to no predicted samples. Use `zero_division` parameter to control this behavior.\n",
            "  _warn_prf(average, modifier, msg_start, len(result))\n"
          ]
        },
        {
          "output_type": "stream",
          "name": "stdout",
          "text": [
            "2019-2\n",
            "1.0\n",
            "2019-5\n",
            "0.5\n",
            "2019-8\n"
          ]
        },
        {
          "output_type": "stream",
          "name": "stderr",
          "text": [
            "/usr/local/lib/python3.10/dist-packages/sklearn/metrics/_classification.py:1344: UndefinedMetricWarning: Recall is ill-defined and being set to 0.0 due to no true samples. Use `zero_division` parameter to control this behavior.\n",
            "  _warn_prf(average, modifier, msg_start, len(result))\n"
          ]
        },
        {
          "output_type": "stream",
          "name": "stdout",
          "text": [
            "2019-9\n"
          ]
        },
        {
          "output_type": "stream",
          "name": "stderr",
          "text": [
            "/usr/local/lib/python3.10/dist-packages/sklearn/metrics/_classification.py:1609: UndefinedMetricWarning: F-score is ill-defined and being set to 0.0 due to no true nor predicted samples. Use `zero_division` parameter to control this behavior.\n",
            "  _warn_prf(average, \"true nor predicted\", \"F-score is\", len(true_sum))\n",
            "/usr/local/lib/python3.10/dist-packages/sklearn/metrics/_classification.py:1344: UndefinedMetricWarning: Recall is ill-defined and being set to 0.0 due to no true samples. Use `zero_division` parameter to control this behavior.\n",
            "  _warn_prf(average, modifier, msg_start, len(result))\n",
            "/usr/local/lib/python3.10/dist-packages/sklearn/metrics/_classification.py:1344: UndefinedMetricWarning: Precision is ill-defined and being set to 0.0 due to no predicted samples. Use `zero_division` parameter to control this behavior.\n",
            "  _warn_prf(average, modifier, msg_start, len(result))\n"
          ]
        },
        {
          "output_type": "stream",
          "name": "stdout",
          "text": [
            "2019-10\n",
            "1.0\n",
            "2019-11\n",
            "0.8\n",
            "2019-12\n"
          ]
        },
        {
          "output_type": "stream",
          "name": "stderr",
          "text": [
            "/usr/local/lib/python3.10/dist-packages/sklearn/metrics/_classification.py:1609: UndefinedMetricWarning: F-score is ill-defined and being set to 0.0 due to no true nor predicted samples. Use `zero_division` parameter to control this behavior.\n",
            "  _warn_prf(average, \"true nor predicted\", \"F-score is\", len(true_sum))\n",
            "/usr/local/lib/python3.10/dist-packages/sklearn/metrics/_classification.py:1344: UndefinedMetricWarning: Recall is ill-defined and being set to 0.0 due to no true samples. Use `zero_division` parameter to control this behavior.\n",
            "  _warn_prf(average, modifier, msg_start, len(result))\n",
            "/usr/local/lib/python3.10/dist-packages/sklearn/metrics/_classification.py:1344: UndefinedMetricWarning: Precision is ill-defined and being set to 0.0 due to no predicted samples. Use `zero_division` parameter to control this behavior.\n",
            "  _warn_prf(average, modifier, msg_start, len(result))\n"
          ]
        },
        {
          "output_type": "stream",
          "name": "stdout",
          "text": [
            "2020-3\n",
            "1.0\n",
            "2020-4\n",
            "1.0\n",
            "2020-5\n",
            "1.0\n",
            "2020-6\n",
            "1.0\n",
            "2020-11\n",
            "1.0\n"
          ]
        }
      ]
    },
    {
      "cell_type": "code",
      "source": [
        "import matplotlib.pyplot as plt\n",
        "# interval of months to plot\n",
        "months_interval = 1\n",
        "# months to plot\n",
        "plt_months = []\n",
        "# plot years bars\n",
        "last_year = years[0]\n",
        "plt.axvline(-0.1,color=\"gray\",linewidth=0.5)\n",
        "plt.text(0.2,0.4,last_year, color=\"gray\")\n",
        "x_ind = 0\n",
        "n_changes = 0\n",
        "x_inds = []\n",
        "for i, y in enumerate(years):\n",
        "    if y!=last_year:\n",
        "        plt.axvline(i,color=\"gray\",linewidth=0.5)\n",
        "        plt.text(i+0.3,0.4,y, color=\"gray\")\n",
        "        last_year = y\n",
        "        plt_months.append(\"...\")\n",
        "        plt_months.append(months[i])\n",
        "        x_ind = x_ind + 1\n",
        "        n_changes = n_changes + 1\n",
        "        x_inds.append(x_ind)\n",
        "    else:\n",
        "        plt_months.append(months[i])\n",
        "        x_inds.append(x_ind)\n",
        "        x_ind = x_ind + 1\n",
        "plt.plot(x_inds, recall, 's-', color=\"green\", label=\"Recall\")\n",
        "plt.plot(x_inds, precision, 'o-', color=\"goldenrod\", label=\"Precision\")\n",
        "# plot months\n",
        "plt.xticks(range(0,len(plt_months),months_interval), (plt_months))\n",
        "\n",
        "plt.xlabel(\"Month\")\n",
        "plt.ylabel(\"Recall X Precision\")\n",
        "plt.title(\"REALDEVICE Incremental Windowed Classifier Update\")\n",
        "plt.legend(loc=\"center right\", bbox_to_anchor=(1, 0.2))\n",
        "plt.xlim(-0.33,len(plt_months)-0.66)\n",
        "plt.show()"
      ],
      "metadata": {
        "id": "TDmrFmREdVyk",
        "colab": {
          "base_uri": "https://localhost:8080/",
          "height": 482
        },
        "outputId": "62ed89c5-35ba-45aa-f1dd-ab9596466697"
      },
      "execution_count": null,
      "outputs": [
        {
          "output_type": "display_data",
          "data": {
            "text/plain": [
              "<Figure size 640x480 with 1 Axes>"
            ],
            "image/png": "[encoded data removed]"
          },
          "metadata": {}
        }
      ]
    },
    {
      "cell_type": "code",
      "source": [
        "accs"
      ],
      "metadata": {
        "colab": {
          "base_uri": "https://localhost:8080/"
        },
        "id": "28m6NhOP7J7U",
        "outputId": "fabf7cf3-9386-41fb-ba09-230ce3984cf1"
      },
      "execution_count": null,
      "outputs": [
        {
          "output_type": "execute_result",
          "data": {
            "text/plain": [
              "[0.7272727272727273,\n",
              " 0.75,\n",
              " 0.72,\n",
              " 0.5,\n",
              " 0.7333333333333333,\n",
              " 0.9230769230769231,\n",
              " 1.0,\n",
              " 1.0,\n",
              " 1.0,\n",
              " 0.5,\n",
              " 1.0,\n",
              " 0.8,\n",
              " 1.0,\n",
              " 1.0,\n",
              " 1.0,\n",
              " 1.0,\n",
              " 1.0]"
            ]
          },
          "metadata": {},
          "execution_count": 30
        }
      ]
    },
    {
      "cell_type": "code",
      "source": [
        "print(\"Avg Accuracy:\", np.mean(accs))\n",
        "print(\"Avg F1Score:\", np.mean(f1s))\n",
        "print(\"Avg Recall:\", np.mean(recall))\n",
        "print(\"Avg Precision:\", np.mean(precision))"
      ],
      "metadata": {
        "colab": {
          "base_uri": "https://localhost:8080/"
        },
        "id": "73Y7OqcI6G6V",
        "outputId": "6f6c6e48-7acf-432d-fe03-f945d84fae8e"
      },
      "execution_count": null,
      "outputs": [
        {
          "output_type": "stream",
          "name": "stdout",
          "text": [
            "Avg Accuracy: 0.861981351981352\n",
            "Avg F1Score: 0.9153029206031169\n",
            "Avg Recall: 0.8615611839141252\n",
            "Avg Precision: 1.0\n"
          ]
        }
      ]
    },
    {
      "cell_type": "code",
      "source": [
        "print(y_pred)"
      ],
      "metadata": {
        "colab": {
          "base_uri": "https://localhost:8080/"
        },
        "id": "mayzqpXT6TOx",
        "outputId": "05afe017-860d-47f1-c9fa-6674cd028141"
      },
      "execution_count": null,
      "outputs": [
        {
          "output_type": "stream",
          "name": "stdout",
          "text": [
            "[1 1 1 1]\n"
          ]
        }
      ]
    },
    {
      "cell_type": "code",
      "source": [],
      "metadata": {
        "id": "5a8Xz4368Hin"
      },
      "execution_count": null,
      "outputs": []
    }
  ],
  "metadata": {
    "colab": {
      "provenance": []
    },
    "kernelspec": {
      "display_name": "Python 3",
      "name": "python3"
    },
    "language_info": {
      "name": "python"
    }
  },
  "nbformat": 4,
  "nbformat_minor": 0
}